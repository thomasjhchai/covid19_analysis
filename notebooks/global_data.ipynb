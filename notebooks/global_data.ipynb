{
 "metadata": {
  "language_info": {
   "codemirror_mode": {
    "name": "ipython",
    "version": 3
   },
   "file_extension": ".py",
   "mimetype": "text/x-python",
   "name": "python",
   "nbconvert_exporter": "python",
   "pygments_lexer": "ipython3",
   "version": "3.8.5-final"
  },
  "orig_nbformat": 2,
  "kernelspec": {
   "name": "python38564bitcovid19analysispipenvf5d08d121e804a9e97298d31ee73a5b4",
   "display_name": "Python 3.8.5 64-bit ('covid19_analysis': pipenv)"
  }
 },
 "nbformat": 4,
 "nbformat_minor": 2,
 "cells": [
  {
   "cell_type": "code",
   "execution_count": 8,
   "metadata": {},
   "outputs": [],
   "source": [
    "import sys\n",
    "import os.path\n",
    "import requests\n",
    "import json\n",
    "from datetime import datetime \n",
    "import pandas as pd"
   ]
  },
  {
   "cell_type": "code",
   "execution_count": 9,
   "metadata": {
    "tags": []
   },
   "outputs": [],
   "source": [
    "cfm_df = pd.read_csv('https://raw.githubusercontent.com/CSSEGISandData/COVID-19/master/csse_covid_19_data/csse_covid_19_time_series/time_series_covid19_confirmed_global.csv')\n",
    "death_df = pd.read_csv('https://raw.githubusercontent.com/CSSEGISandData/COVID-19/master/csse_covid_19_data/csse_covid_19_time_series/time_series_covid19_deaths_global.csv')\n",
    "rec_df = pd.read_csv('https://raw.githubusercontent.com/CSSEGISandData/COVID-19/master/csse_covid_19_data/csse_covid_19_time_series/time_series_covid19_recovered_global.csv')\n",
    "\n",
    "cfm_df.drop(columns=['Lat', 'Long'], inplace=True)\n",
    "cfm_df = cfm_df.groupby('Country/Region').sum().transpose()\n",
    "death_df.drop(columns=['Lat', 'Long'], inplace=True)\n",
    "death_df = death_df.groupby('Country/Region').sum().transpose()\n",
    "rec_df.drop(columns=['Lat', 'Long'], inplace=True)\n",
    "rec_df = rec_df.groupby('Country/Region').sum().transpose()\n",
    "\n",
    "world_total = {}\n",
    "for item in cfm_df.index:\n",
    "    #print(f'index: {index}, item: {item}')\n",
    "    #world_total = cfm_df.loc[index, item].sum()\n",
    "    #cfm_todate = cfm_df.loc[item].sum()\n",
    "    #death_todate = death_df.loc[item].sum()\n",
    "    #rec_todate = rec_df.loc[item].sum()\n",
    "    cfm_df.loc[item, 'World Confirmed'] = cfm_df.loc[item].sum()\n",
    "    death_df.loc[item, 'World Death'] = death_df.loc[item].sum()\n",
    "    rec_df.loc[item, 'World Recovered'] = rec_df.loc[item].sum()\n",
    "#cfm_todate, death_todate, rec_todate\n",
    "\n",
    "\n"
   ]
  },
  {
   "cell_type": "code",
   "execution_count": 10,
   "metadata": {},
   "outputs": [
    {
     "output_type": "execute_result",
     "data": {
      "text/plain": "Country/Region  Afghanistan  Albania  Algeria  Andorra  Angola  \\\n1/22/20                   0        0        0        0       0   \n1/23/20                   0        0        0        0       0   \n1/24/20                   0        0        0        0       0   \n1/25/20                   0        0        0        0       0   \n1/26/20                   0        0        0        0       0   \n...                     ...      ...      ...      ...     ...   \n8/3/20                25669     3031    21901      821     476   \n8/4/20                25669     3031    22375      825     503   \n8/5/20                25742     3123    22802      825     506   \n8/6/20                25840     3155    23238      828     520   \n8/7/20                25903     3227    23667      839     544   \n\nCountry/Region  Antigua and Barbuda  Argentina  Armenia  Australia  Austria  \\\n1/22/20                           0          0        0          0        0   \n1/23/20                           0          0        0          0        0   \n1/24/20                           0          0        0          0        0   \n1/25/20                           0          0        0          0        0   \n1/26/20                           0          0        0          0        0   \n...                             ...        ...      ...        ...      ...   \n8/3/20                           75      91302    29861      10623    19063   \n8/4/20                           75      94129    30372      10799    19336   \n8/5/20                           76      96948    30850      10941    19464   \n8/6/20                           76      99852    31556      11119    19596   \n8/7/20                           76     103297    32008      11560    19690   \n\nCountry/Region  ...  Uruguay  Uzbekistan  Venezuela  Vietnam  \\\n1/22/20         ...        0           0          0        0   \n1/23/20         ...        0           0          0        0   \n1/24/20         ...        0           0          0        0   \n1/25/20         ...        0           0          0        0   \n1/26/20         ...        0           0          0        0   \n...             ...      ...         ...        ...      ...   \n8/3/20          ...     1023       16838      11622      374   \n8/4/20          ...     1048       18051      11875      378   \n8/5/20          ...     1065       18783      12146      381   \n8/6/20          ...     1079       19291      12470      392   \n8/7/20          ...     1095       20059      12470      395   \n\nCountry/Region  West Bank and Gaza  Western Sahara  Yemen  Zambia  Zimbabwe  \\\n1/22/20                          0               0      0       0         0   \n1/23/20                          0               0      0       0         0   \n1/24/20                          0               0      0       0         0   \n1/25/20                          0               0      0       0         0   \n1/26/20                          0               0      0       0         0   \n...                            ...             ...    ...     ...       ...   \n8/3/20                        5390               8    863    4701      1057   \n8/4/20                        6419               8    863    5109      1238   \n8/5/20                        6618               8    894    5667      1238   \n8/6/20                        6907               8    898    5786      1264   \n8/7/20                        7210               8    907    6264      1345   \n\nCountry/Region  World Recovered  \n1/22/20                    28.0  \n1/23/20                    30.0  \n1/24/20                    36.0  \n1/25/20                    39.0  \n1/26/20                    52.0  \n...                         ...  \n8/3/20               10913000.0  \n8/4/20               11134735.0  \n8/5/20               11356275.0  \n8/6/20               11545401.0  \n8/7/20               11737927.0  \n\n[199 rows x 189 columns]",
      "text/html": "<div>\n<style scoped>\n    .dataframe tbody tr th:only-of-type {\n        vertical-align: middle;\n    }\n\n    .dataframe tbody tr th {\n        vertical-align: top;\n    }\n\n    .dataframe thead th {\n        text-align: right;\n    }\n</style>\n<table border=\"1\" class=\"dataframe\">\n  <thead>\n    <tr style=\"text-align: right;\">\n      <th>Country/Region</th>\n      <th>Afghanistan</th>\n      <th>Albania</th>\n      <th>Algeria</th>\n      <th>Andorra</th>\n      <th>Angola</th>\n      <th>Antigua and Barbuda</th>\n      <th>Argentina</th>\n      <th>Armenia</th>\n      <th>Australia</th>\n      <th>Austria</th>\n      <th>...</th>\n      <th>Uruguay</th>\n      <th>Uzbekistan</th>\n      <th>Venezuela</th>\n      <th>Vietnam</th>\n      <th>West Bank and Gaza</th>\n      <th>Western Sahara</th>\n      <th>Yemen</th>\n      <th>Zambia</th>\n      <th>Zimbabwe</th>\n      <th>World Recovered</th>\n    </tr>\n  </thead>\n  <tbody>\n    <tr>\n      <th>1/22/20</th>\n      <td>0</td>\n      <td>0</td>\n      <td>0</td>\n      <td>0</td>\n      <td>0</td>\n      <td>0</td>\n      <td>0</td>\n      <td>0</td>\n      <td>0</td>\n      <td>0</td>\n      <td>...</td>\n      <td>0</td>\n      <td>0</td>\n      <td>0</td>\n      <td>0</td>\n      <td>0</td>\n      <td>0</td>\n      <td>0</td>\n      <td>0</td>\n      <td>0</td>\n      <td>28.0</td>\n    </tr>\n    <tr>\n      <th>1/23/20</th>\n      <td>0</td>\n      <td>0</td>\n      <td>0</td>\n      <td>0</td>\n      <td>0</td>\n      <td>0</td>\n      <td>0</td>\n      <td>0</td>\n      <td>0</td>\n      <td>0</td>\n      <td>...</td>\n      <td>0</td>\n      <td>0</td>\n      <td>0</td>\n      <td>0</td>\n      <td>0</td>\n      <td>0</td>\n      <td>0</td>\n      <td>0</td>\n      <td>0</td>\n      <td>30.0</td>\n    </tr>\n    <tr>\n      <th>1/24/20</th>\n      <td>0</td>\n      <td>0</td>\n      <td>0</td>\n      <td>0</td>\n      <td>0</td>\n      <td>0</td>\n      <td>0</td>\n      <td>0</td>\n      <td>0</td>\n      <td>0</td>\n      <td>...</td>\n      <td>0</td>\n      <td>0</td>\n      <td>0</td>\n      <td>0</td>\n      <td>0</td>\n      <td>0</td>\n      <td>0</td>\n      <td>0</td>\n      <td>0</td>\n      <td>36.0</td>\n    </tr>\n    <tr>\n      <th>1/25/20</th>\n      <td>0</td>\n      <td>0</td>\n      <td>0</td>\n      <td>0</td>\n      <td>0</td>\n      <td>0</td>\n      <td>0</td>\n      <td>0</td>\n      <td>0</td>\n      <td>0</td>\n      <td>...</td>\n      <td>0</td>\n      <td>0</td>\n      <td>0</td>\n      <td>0</td>\n      <td>0</td>\n      <td>0</td>\n      <td>0</td>\n      <td>0</td>\n      <td>0</td>\n      <td>39.0</td>\n    </tr>\n    <tr>\n      <th>1/26/20</th>\n      <td>0</td>\n      <td>0</td>\n      <td>0</td>\n      <td>0</td>\n      <td>0</td>\n      <td>0</td>\n      <td>0</td>\n      <td>0</td>\n      <td>0</td>\n      <td>0</td>\n      <td>...</td>\n      <td>0</td>\n      <td>0</td>\n      <td>0</td>\n      <td>0</td>\n      <td>0</td>\n      <td>0</td>\n      <td>0</td>\n      <td>0</td>\n      <td>0</td>\n      <td>52.0</td>\n    </tr>\n    <tr>\n      <th>...</th>\n      <td>...</td>\n      <td>...</td>\n      <td>...</td>\n      <td>...</td>\n      <td>...</td>\n      <td>...</td>\n      <td>...</td>\n      <td>...</td>\n      <td>...</td>\n      <td>...</td>\n      <td>...</td>\n      <td>...</td>\n      <td>...</td>\n      <td>...</td>\n      <td>...</td>\n      <td>...</td>\n      <td>...</td>\n      <td>...</td>\n      <td>...</td>\n      <td>...</td>\n      <td>...</td>\n    </tr>\n    <tr>\n      <th>8/3/20</th>\n      <td>25669</td>\n      <td>3031</td>\n      <td>21901</td>\n      <td>821</td>\n      <td>476</td>\n      <td>75</td>\n      <td>91302</td>\n      <td>29861</td>\n      <td>10623</td>\n      <td>19063</td>\n      <td>...</td>\n      <td>1023</td>\n      <td>16838</td>\n      <td>11622</td>\n      <td>374</td>\n      <td>5390</td>\n      <td>8</td>\n      <td>863</td>\n      <td>4701</td>\n      <td>1057</td>\n      <td>10913000.0</td>\n    </tr>\n    <tr>\n      <th>8/4/20</th>\n      <td>25669</td>\n      <td>3031</td>\n      <td>22375</td>\n      <td>825</td>\n      <td>503</td>\n      <td>75</td>\n      <td>94129</td>\n      <td>30372</td>\n      <td>10799</td>\n      <td>19336</td>\n      <td>...</td>\n      <td>1048</td>\n      <td>18051</td>\n      <td>11875</td>\n      <td>378</td>\n      <td>6419</td>\n      <td>8</td>\n      <td>863</td>\n      <td>5109</td>\n      <td>1238</td>\n      <td>11134735.0</td>\n    </tr>\n    <tr>\n      <th>8/5/20</th>\n      <td>25742</td>\n      <td>3123</td>\n      <td>22802</td>\n      <td>825</td>\n      <td>506</td>\n      <td>76</td>\n      <td>96948</td>\n      <td>30850</td>\n      <td>10941</td>\n      <td>19464</td>\n      <td>...</td>\n      <td>1065</td>\n      <td>18783</td>\n      <td>12146</td>\n      <td>381</td>\n      <td>6618</td>\n      <td>8</td>\n      <td>894</td>\n      <td>5667</td>\n      <td>1238</td>\n      <td>11356275.0</td>\n    </tr>\n    <tr>\n      <th>8/6/20</th>\n      <td>25840</td>\n      <td>3155</td>\n      <td>23238</td>\n      <td>828</td>\n      <td>520</td>\n      <td>76</td>\n      <td>99852</td>\n      <td>31556</td>\n      <td>11119</td>\n      <td>19596</td>\n      <td>...</td>\n      <td>1079</td>\n      <td>19291</td>\n      <td>12470</td>\n      <td>392</td>\n      <td>6907</td>\n      <td>8</td>\n      <td>898</td>\n      <td>5786</td>\n      <td>1264</td>\n      <td>11545401.0</td>\n    </tr>\n    <tr>\n      <th>8/7/20</th>\n      <td>25903</td>\n      <td>3227</td>\n      <td>23667</td>\n      <td>839</td>\n      <td>544</td>\n      <td>76</td>\n      <td>103297</td>\n      <td>32008</td>\n      <td>11560</td>\n      <td>19690</td>\n      <td>...</td>\n      <td>1095</td>\n      <td>20059</td>\n      <td>12470</td>\n      <td>395</td>\n      <td>7210</td>\n      <td>8</td>\n      <td>907</td>\n      <td>6264</td>\n      <td>1345</td>\n      <td>11737927.0</td>\n    </tr>\n  </tbody>\n</table>\n<p>199 rows × 189 columns</p>\n</div>"
     },
     "metadata": {},
     "execution_count": 10
    }
   ],
   "source": [
    "rec_df"
   ]
  },
  {
   "cell_type": "code",
   "execution_count": 11,
   "metadata": {},
   "outputs": [
    {
     "output_type": "execute_result",
     "data": {
      "text/plain": "1/22/20       0\n1/23/20       0\n1/24/20       0\n1/25/20       3\n1/26/20       4\n           ... \n8/3/20     9001\n8/4/20     9002\n8/5/20     9023\n8/6/20     9038\n8/7/20     9063\nName: Malaysia, Length: 199, dtype: int64"
     },
     "metadata": {},
     "execution_count": 11
    }
   ],
   "source": [
    "cfm_df['Malaysia']"
   ]
  },
  {
   "cell_type": "code",
   "execution_count": 12,
   "metadata": {},
   "outputs": [],
   "source": [
    "# create dataframe by country\n",
    "my_df = pd.DataFrame([cfm_df['Malaysia'], death_df['Malaysia'], rec_df['Malaysia']])\n",
    "my_df = my_df.transpose()\n",
    "my_df.columns = ['Total Cases', 'Total Deaths', 'Total Recovered']"
   ]
  },
  {
   "cell_type": "code",
   "execution_count": 13,
   "metadata": {},
   "outputs": [],
   "source": [
    "# TODO: make this into methods ... active, daily cases, daily deaths, daily recovered, cases 1m pop, rates %\n",
    "my_df['Total Active'] = my_df['Total Cases'] - my_df['Total Recovered'] - my_df['Total Deaths']"
   ]
  },
  {
   "cell_type": "code",
   "execution_count": 14,
   "metadata": {},
   "outputs": [
    {
     "output_type": "execute_result",
     "data": {
      "text/plain": "         Total Cases  Total Deaths  Total Recovered  Total Active\n1/22/20            0             0                0             0\n1/23/20            0             0                0             0\n1/24/20            0             0                0             0\n1/25/20            3             0                0             3\n1/26/20            4             0                0             4\n...              ...           ...              ...           ...\n8/3/20          9001           125             8668           208\n8/4/20          9002           125             8684           193\n8/5/20          9023           125             8702           196\n8/6/20          9038           125             8713           200\n8/7/20          9063           125             8728           210\n\n[199 rows x 4 columns]",
      "text/html": "<div>\n<style scoped>\n    .dataframe tbody tr th:only-of-type {\n        vertical-align: middle;\n    }\n\n    .dataframe tbody tr th {\n        vertical-align: top;\n    }\n\n    .dataframe thead th {\n        text-align: right;\n    }\n</style>\n<table border=\"1\" class=\"dataframe\">\n  <thead>\n    <tr style=\"text-align: right;\">\n      <th></th>\n      <th>Total Cases</th>\n      <th>Total Deaths</th>\n      <th>Total Recovered</th>\n      <th>Total Active</th>\n    </tr>\n  </thead>\n  <tbody>\n    <tr>\n      <th>1/22/20</th>\n      <td>0</td>\n      <td>0</td>\n      <td>0</td>\n      <td>0</td>\n    </tr>\n    <tr>\n      <th>1/23/20</th>\n      <td>0</td>\n      <td>0</td>\n      <td>0</td>\n      <td>0</td>\n    </tr>\n    <tr>\n      <th>1/24/20</th>\n      <td>0</td>\n      <td>0</td>\n      <td>0</td>\n      <td>0</td>\n    </tr>\n    <tr>\n      <th>1/25/20</th>\n      <td>3</td>\n      <td>0</td>\n      <td>0</td>\n      <td>3</td>\n    </tr>\n    <tr>\n      <th>1/26/20</th>\n      <td>4</td>\n      <td>0</td>\n      <td>0</td>\n      <td>4</td>\n    </tr>\n    <tr>\n      <th>...</th>\n      <td>...</td>\n      <td>...</td>\n      <td>...</td>\n      <td>...</td>\n    </tr>\n    <tr>\n      <th>8/3/20</th>\n      <td>9001</td>\n      <td>125</td>\n      <td>8668</td>\n      <td>208</td>\n    </tr>\n    <tr>\n      <th>8/4/20</th>\n      <td>9002</td>\n      <td>125</td>\n      <td>8684</td>\n      <td>193</td>\n    </tr>\n    <tr>\n      <th>8/5/20</th>\n      <td>9023</td>\n      <td>125</td>\n      <td>8702</td>\n      <td>196</td>\n    </tr>\n    <tr>\n      <th>8/6/20</th>\n      <td>9038</td>\n      <td>125</td>\n      <td>8713</td>\n      <td>200</td>\n    </tr>\n    <tr>\n      <th>8/7/20</th>\n      <td>9063</td>\n      <td>125</td>\n      <td>8728</td>\n      <td>210</td>\n    </tr>\n  </tbody>\n</table>\n<p>199 rows × 4 columns</p>\n</div>"
     },
     "metadata": {},
     "execution_count": 14
    }
   ],
   "source": [
    "my_df"
   ]
  }
 ]
}