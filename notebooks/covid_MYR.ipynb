{
 "cells": [
  {
   "cell_type": "markdown",
   "metadata": {},
   "source": [
    "# Covid-19 Daily Tracking\n"
   ]
  },
  {
   "cell_type": "code",
   "execution_count": 248,
   "metadata": {
    "tags": []
   },
   "outputs": [
    {
     "output_type": "stream",
     "name": "stderr",
     "text": "ERROR:root:Internal Python error in the inspect module.\nBelow is the traceback from this internal error.\n\nServer Request Failed : HTTPSConnectionPool(host='api.covid19api.com', port=443): Max retries exceeded with url: /total/country/malaysia?from=2021-02-01&to=2020-08-04 (Caused by ConnectTimeoutError(<urllib3.connection.HTTPSConnection object at 0x11b6f1670>, 'Connection to api.covid19api.com timed out. (connect timeout=30)'))\nExiting ....\nTraceback (most recent call last):\n  File \"/Users/thomasjhchai/.local/share/virtualenvs/covid19_analysis-ImUBmtTy/lib/python3.8/site-packages/urllib3/connection.py\", line 159, in _new_conn\n    conn = connection.create_connection(\n  File \"/Users/thomasjhchai/.local/share/virtualenvs/covid19_analysis-ImUBmtTy/lib/python3.8/site-packages/urllib3/util/connection.py\", line 84, in create_connection\n    raise err\n  File \"/Users/thomasjhchai/.local/share/virtualenvs/covid19_analysis-ImUBmtTy/lib/python3.8/site-packages/urllib3/util/connection.py\", line 74, in create_connection\n    sock.connect(sa)\nsocket.timeout: timed out\n\nDuring handling of the above exception, another exception occurred:\n\nTraceback (most recent call last):\n  File \"/Users/thomasjhchai/.local/share/virtualenvs/covid19_analysis-ImUBmtTy/lib/python3.8/site-packages/urllib3/connectionpool.py\", line 670, in urlopen\n    httplib_response = self._make_request(\n  File \"/Users/thomasjhchai/.local/share/virtualenvs/covid19_analysis-ImUBmtTy/lib/python3.8/site-packages/urllib3/connectionpool.py\", line 381, in _make_request\n    self._validate_conn(conn)\n  File \"/Users/thomasjhchai/.local/share/virtualenvs/covid19_analysis-ImUBmtTy/lib/python3.8/site-packages/urllib3/connectionpool.py\", line 978, in _validate_conn\n    conn.connect()\n  File \"/Users/thomasjhchai/.local/share/virtualenvs/covid19_analysis-ImUBmtTy/lib/python3.8/site-packages/urllib3/connection.py\", line 309, in connect\n    conn = self._new_conn()\n  File \"/Users/thomasjhchai/.local/share/virtualenvs/covid19_analysis-ImUBmtTy/lib/python3.8/site-packages/urllib3/connection.py\", line 164, in _new_conn\n    raise ConnectTimeoutError(\nurllib3.exceptions.ConnectTimeoutError: (<urllib3.connection.HTTPSConnection object at 0x11b6f1670>, 'Connection to api.covid19api.com timed out. (connect timeout=30)')\n\nDuring handling of the above exception, another exception occurred:\n\nTraceback (most recent call last):\n  File \"/Users/thomasjhchai/.local/share/virtualenvs/covid19_analysis-ImUBmtTy/lib/python3.8/site-packages/requests/adapters.py\", line 439, in send\n    resp = conn.urlopen(\n  File \"/Users/thomasjhchai/.local/share/virtualenvs/covid19_analysis-ImUBmtTy/lib/python3.8/site-packages/urllib3/connectionpool.py\", line 726, in urlopen\n    retries = retries.increment(\n  File \"/Users/thomasjhchai/.local/share/virtualenvs/covid19_analysis-ImUBmtTy/lib/python3.8/site-packages/urllib3/util/retry.py\", line 439, in increment\n    raise MaxRetryError(_pool, url, error or ResponseError(cause))\nurllib3.exceptions.MaxRetryError: HTTPSConnectionPool(host='api.covid19api.com', port=443): Max retries exceeded with url: /total/country/malaysia?from=2021-02-01&to=2020-08-04 (Caused by ConnectTimeoutError(<urllib3.connection.HTTPSConnection object at 0x11b6f1670>, 'Connection to api.covid19api.com timed out. (connect timeout=30)'))\n\nDuring handling of the above exception, another exception occurred:\n\nTraceback (most recent call last):\n  File \"<ipython-input-248-ea5d43c945af>\", line 15, in <module>\n    api_request = requests.get(API_URL, params=url_param, timeout=30)\n  File \"/Users/thomasjhchai/.local/share/virtualenvs/covid19_analysis-ImUBmtTy/lib/python3.8/site-packages/requests/api.py\", line 76, in get\n    return request('get', url, params=params, **kwargs)\n  File \"/Users/thomasjhchai/.local/share/virtualenvs/covid19_analysis-ImUBmtTy/lib/python3.8/site-packages/requests/api.py\", line 61, in request\n    return session.request(method=method, url=url, **kwargs)\n  File \"/Users/thomasjhchai/.local/share/virtualenvs/covid19_analysis-ImUBmtTy/lib/python3.8/site-packages/requests/sessions.py\", line 530, in request\n    resp = self.send(prep, **send_kwargs)\n  File \"/Users/thomasjhchai/.local/share/virtualenvs/covid19_analysis-ImUBmtTy/lib/python3.8/site-packages/requests/sessions.py\", line 643, in send\n    r = adapter.send(request, **kwargs)\n  File \"/Users/thomasjhchai/.local/share/virtualenvs/covid19_analysis-ImUBmtTy/lib/python3.8/site-packages/requests/adapters.py\", line 504, in send\n    raise ConnectTimeout(e, request=request)\nrequests.exceptions.ConnectTimeout: HTTPSConnectionPool(host='api.covid19api.com', port=443): Max retries exceeded with url: /total/country/malaysia?from=2021-02-01&to=2020-08-04 (Caused by ConnectTimeoutError(<urllib3.connection.HTTPSConnection object at 0x11b6f1670>, 'Connection to api.covid19api.com timed out. (connect timeout=30)'))\n\nDuring handling of the above exception, another exception occurred:\n\nTraceback (most recent call last):\n  File \"/Users/thomasjhchai/.local/share/virtualenvs/covid19_analysis-ImUBmtTy/lib/python3.8/site-packages/IPython/core/interactiveshell.py\", line 3417, in run_code\n    exec(code_obj, self.user_global_ns, self.user_ns)\n  File \"<ipython-input-248-ea5d43c945af>\", line 19, in <module>\n    sys.exit(0)\nSystemExit: 0\n\nDuring handling of the above exception, another exception occurred:\n\nTraceback (most recent call last):\n  File \"/Users/thomasjhchai/.local/share/virtualenvs/covid19_analysis-ImUBmtTy/lib/python3.8/site-packages/IPython/core/ultratb.py\", line 1169, in get_records\n    return _fixed_getinnerframes(etb, number_of_lines_of_context, tb_offset)\n  File \"/Users/thomasjhchai/.local/share/virtualenvs/covid19_analysis-ImUBmtTy/lib/python3.8/site-packages/IPython/core/ultratb.py\", line 316, in wrapped\n    return f(*args, **kwargs)\n  File \"/Users/thomasjhchai/.local/share/virtualenvs/covid19_analysis-ImUBmtTy/lib/python3.8/site-packages/IPython/core/ultratb.py\", line 350, in _fixed_getinnerframes\n    records = fix_frame_records_filenames(inspect.getinnerframes(etb, context))\n  File \"/usr/local/opt/python@3.8/Frameworks/Python.framework/Versions/3.8/lib/python3.8/inspect.py\", line 1503, in getinnerframes\n    frameinfo = (tb.tb_frame,) + getframeinfo(tb, context)\nAttributeError: 'tuple' object has no attribute 'tb_frame'\n"
    },
    {
     "output_type": "error",
     "ename": "TypeError",
     "evalue": "object of type 'NoneType' has no len()",
     "traceback": [
      "\u001b[0;31m---------------------------------------------------------------------------\u001b[0m",
      "\u001b[0;31mtimeout\u001b[0m                                   Traceback (most recent call last)",
      "\u001b[0;32m~/.local/share/virtualenvs/covid19_analysis-ImUBmtTy/lib/python3.8/site-packages/urllib3/connection.py\u001b[0m in \u001b[0;36m_new_conn\u001b[0;34m(self)\u001b[0m\n\u001b[1;32m    158\u001b[0m         \u001b[0;32mtry\u001b[0m\u001b[0;34m:\u001b[0m\u001b[0;34m\u001b[0m\u001b[0;34m\u001b[0m\u001b[0m\n\u001b[0;32m--> 159\u001b[0;31m             conn = connection.create_connection(\n\u001b[0m\u001b[1;32m    160\u001b[0m                 \u001b[0;34m(\u001b[0m\u001b[0mself\u001b[0m\u001b[0;34m.\u001b[0m\u001b[0m_dns_host\u001b[0m\u001b[0;34m,\u001b[0m \u001b[0mself\u001b[0m\u001b[0;34m.\u001b[0m\u001b[0mport\u001b[0m\u001b[0;34m)\u001b[0m\u001b[0;34m,\u001b[0m \u001b[0mself\u001b[0m\u001b[0;34m.\u001b[0m\u001b[0mtimeout\u001b[0m\u001b[0;34m,\u001b[0m \u001b[0;34m**\u001b[0m\u001b[0mextra_kw\u001b[0m\u001b[0;34m\u001b[0m\u001b[0;34m\u001b[0m\u001b[0m\n",
      "\u001b[0;32m~/.local/share/virtualenvs/covid19_analysis-ImUBmtTy/lib/python3.8/site-packages/urllib3/util/connection.py\u001b[0m in \u001b[0;36mcreate_connection\u001b[0;34m(address, timeout, source_address, socket_options)\u001b[0m\n\u001b[1;32m     83\u001b[0m     \u001b[0;32mif\u001b[0m \u001b[0merr\u001b[0m \u001b[0;32mis\u001b[0m \u001b[0;32mnot\u001b[0m \u001b[0;32mNone\u001b[0m\u001b[0;34m:\u001b[0m\u001b[0;34m\u001b[0m\u001b[0;34m\u001b[0m\u001b[0m\n\u001b[0;32m---> 84\u001b[0;31m         \u001b[0;32mraise\u001b[0m \u001b[0merr\u001b[0m\u001b[0;34m\u001b[0m\u001b[0;34m\u001b[0m\u001b[0m\n\u001b[0m\u001b[1;32m     85\u001b[0m \u001b[0;34m\u001b[0m\u001b[0m\n",
      "\u001b[0;32m~/.local/share/virtualenvs/covid19_analysis-ImUBmtTy/lib/python3.8/site-packages/urllib3/util/connection.py\u001b[0m in \u001b[0;36mcreate_connection\u001b[0;34m(address, timeout, source_address, socket_options)\u001b[0m\n\u001b[1;32m     73\u001b[0m                 \u001b[0msock\u001b[0m\u001b[0;34m.\u001b[0m\u001b[0mbind\u001b[0m\u001b[0;34m(\u001b[0m\u001b[0msource_address\u001b[0m\u001b[0;34m)\u001b[0m\u001b[0;34m\u001b[0m\u001b[0;34m\u001b[0m\u001b[0m\n\u001b[0;32m---> 74\u001b[0;31m             \u001b[0msock\u001b[0m\u001b[0;34m.\u001b[0m\u001b[0mconnect\u001b[0m\u001b[0;34m(\u001b[0m\u001b[0msa\u001b[0m\u001b[0;34m)\u001b[0m\u001b[0;34m\u001b[0m\u001b[0;34m\u001b[0m\u001b[0m\n\u001b[0m\u001b[1;32m     75\u001b[0m             \u001b[0;32mreturn\u001b[0m \u001b[0msock\u001b[0m\u001b[0;34m\u001b[0m\u001b[0;34m\u001b[0m\u001b[0m\n",
      "\u001b[0;31mtimeout\u001b[0m: timed out",
      "\nDuring handling of the above exception, another exception occurred:\n",
      "\u001b[0;31mConnectTimeoutError\u001b[0m                       Traceback (most recent call last)",
      "\u001b[0;32m~/.local/share/virtualenvs/covid19_analysis-ImUBmtTy/lib/python3.8/site-packages/urllib3/connectionpool.py\u001b[0m in \u001b[0;36murlopen\u001b[0;34m(self, method, url, body, headers, retries, redirect, assert_same_host, timeout, pool_timeout, release_conn, chunked, body_pos, **response_kw)\u001b[0m\n\u001b[1;32m    669\u001b[0m             \u001b[0;31m# Make the request on the httplib connection object.\u001b[0m\u001b[0;34m\u001b[0m\u001b[0;34m\u001b[0m\u001b[0;34m\u001b[0m\u001b[0m\n\u001b[0;32m--> 670\u001b[0;31m             httplib_response = self._make_request(\n\u001b[0m\u001b[1;32m    671\u001b[0m                 \u001b[0mconn\u001b[0m\u001b[0;34m,\u001b[0m\u001b[0;34m\u001b[0m\u001b[0;34m\u001b[0m\u001b[0m\n",
      "\u001b[0;32m~/.local/share/virtualenvs/covid19_analysis-ImUBmtTy/lib/python3.8/site-packages/urllib3/connectionpool.py\u001b[0m in \u001b[0;36m_make_request\u001b[0;34m(self, conn, method, url, timeout, chunked, **httplib_request_kw)\u001b[0m\n\u001b[1;32m    380\u001b[0m         \u001b[0;32mtry\u001b[0m\u001b[0;34m:\u001b[0m\u001b[0;34m\u001b[0m\u001b[0;34m\u001b[0m\u001b[0m\n\u001b[0;32m--> 381\u001b[0;31m             \u001b[0mself\u001b[0m\u001b[0;34m.\u001b[0m\u001b[0m_validate_conn\u001b[0m\u001b[0;34m(\u001b[0m\u001b[0mconn\u001b[0m\u001b[0;34m)\u001b[0m\u001b[0;34m\u001b[0m\u001b[0;34m\u001b[0m\u001b[0m\n\u001b[0m\u001b[1;32m    382\u001b[0m         \u001b[0;32mexcept\u001b[0m \u001b[0;34m(\u001b[0m\u001b[0mSocketTimeout\u001b[0m\u001b[0;34m,\u001b[0m \u001b[0mBaseSSLError\u001b[0m\u001b[0;34m)\u001b[0m \u001b[0;32mas\u001b[0m \u001b[0me\u001b[0m\u001b[0;34m:\u001b[0m\u001b[0;34m\u001b[0m\u001b[0;34m\u001b[0m\u001b[0m\n",
      "\u001b[0;32m~/.local/share/virtualenvs/covid19_analysis-ImUBmtTy/lib/python3.8/site-packages/urllib3/connectionpool.py\u001b[0m in \u001b[0;36m_validate_conn\u001b[0;34m(self, conn)\u001b[0m\n\u001b[1;32m    977\u001b[0m         \u001b[0;32mif\u001b[0m \u001b[0;32mnot\u001b[0m \u001b[0mgetattr\u001b[0m\u001b[0;34m(\u001b[0m\u001b[0mconn\u001b[0m\u001b[0;34m,\u001b[0m \u001b[0;34m\"sock\"\u001b[0m\u001b[0;34m,\u001b[0m \u001b[0;32mNone\u001b[0m\u001b[0;34m)\u001b[0m\u001b[0;34m:\u001b[0m  \u001b[0;31m# AppEngine might not have  `.sock`\u001b[0m\u001b[0;34m\u001b[0m\u001b[0;34m\u001b[0m\u001b[0m\n\u001b[0;32m--> 978\u001b[0;31m             \u001b[0mconn\u001b[0m\u001b[0;34m.\u001b[0m\u001b[0mconnect\u001b[0m\u001b[0;34m(\u001b[0m\u001b[0;34m)\u001b[0m\u001b[0;34m\u001b[0m\u001b[0;34m\u001b[0m\u001b[0m\n\u001b[0m\u001b[1;32m    979\u001b[0m \u001b[0;34m\u001b[0m\u001b[0m\n",
      "\u001b[0;32m~/.local/share/virtualenvs/covid19_analysis-ImUBmtTy/lib/python3.8/site-packages/urllib3/connection.py\u001b[0m in \u001b[0;36mconnect\u001b[0;34m(self)\u001b[0m\n\u001b[1;32m    308\u001b[0m         \u001b[0;31m# Add certificate verification\u001b[0m\u001b[0;34m\u001b[0m\u001b[0;34m\u001b[0m\u001b[0;34m\u001b[0m\u001b[0m\n\u001b[0;32m--> 309\u001b[0;31m         \u001b[0mconn\u001b[0m \u001b[0;34m=\u001b[0m \u001b[0mself\u001b[0m\u001b[0;34m.\u001b[0m\u001b[0m_new_conn\u001b[0m\u001b[0;34m(\u001b[0m\u001b[0;34m)\u001b[0m\u001b[0;34m\u001b[0m\u001b[0;34m\u001b[0m\u001b[0m\n\u001b[0m\u001b[1;32m    310\u001b[0m         \u001b[0mhostname\u001b[0m \u001b[0;34m=\u001b[0m \u001b[0mself\u001b[0m\u001b[0;34m.\u001b[0m\u001b[0mhost\u001b[0m\u001b[0;34m\u001b[0m\u001b[0;34m\u001b[0m\u001b[0m\n",
      "\u001b[0;32m~/.local/share/virtualenvs/covid19_analysis-ImUBmtTy/lib/python3.8/site-packages/urllib3/connection.py\u001b[0m in \u001b[0;36m_new_conn\u001b[0;34m(self)\u001b[0m\n\u001b[1;32m    163\u001b[0m         \u001b[0;32mexcept\u001b[0m \u001b[0mSocketTimeout\u001b[0m\u001b[0;34m:\u001b[0m\u001b[0;34m\u001b[0m\u001b[0;34m\u001b[0m\u001b[0m\n\u001b[0;32m--> 164\u001b[0;31m             raise ConnectTimeoutError(\n\u001b[0m\u001b[1;32m    165\u001b[0m                 \u001b[0mself\u001b[0m\u001b[0;34m,\u001b[0m\u001b[0;34m\u001b[0m\u001b[0;34m\u001b[0m\u001b[0m\n",
      "\u001b[0;31mConnectTimeoutError\u001b[0m: (<urllib3.connection.HTTPSConnection object at 0x11b6f1670>, 'Connection to api.covid19api.com timed out. (connect timeout=30)')",
      "\nDuring handling of the above exception, another exception occurred:\n",
      "\u001b[0;31mMaxRetryError\u001b[0m                             Traceback (most recent call last)",
      "\u001b[0;32m~/.local/share/virtualenvs/covid19_analysis-ImUBmtTy/lib/python3.8/site-packages/requests/adapters.py\u001b[0m in \u001b[0;36msend\u001b[0;34m(self, request, stream, timeout, verify, cert, proxies)\u001b[0m\n\u001b[1;32m    438\u001b[0m             \u001b[0;32mif\u001b[0m \u001b[0;32mnot\u001b[0m \u001b[0mchunked\u001b[0m\u001b[0;34m:\u001b[0m\u001b[0;34m\u001b[0m\u001b[0;34m\u001b[0m\u001b[0m\n\u001b[0;32m--> 439\u001b[0;31m                 resp = conn.urlopen(\n\u001b[0m\u001b[1;32m    440\u001b[0m                     \u001b[0mmethod\u001b[0m\u001b[0;34m=\u001b[0m\u001b[0mrequest\u001b[0m\u001b[0;34m.\u001b[0m\u001b[0mmethod\u001b[0m\u001b[0;34m,\u001b[0m\u001b[0;34m\u001b[0m\u001b[0;34m\u001b[0m\u001b[0m\n",
      "\u001b[0;32m~/.local/share/virtualenvs/covid19_analysis-ImUBmtTy/lib/python3.8/site-packages/urllib3/connectionpool.py\u001b[0m in \u001b[0;36murlopen\u001b[0;34m(self, method, url, body, headers, retries, redirect, assert_same_host, timeout, pool_timeout, release_conn, chunked, body_pos, **response_kw)\u001b[0m\n\u001b[1;32m    725\u001b[0m \u001b[0;34m\u001b[0m\u001b[0m\n\u001b[0;32m--> 726\u001b[0;31m             retries = retries.increment(\n\u001b[0m\u001b[1;32m    727\u001b[0m                 \u001b[0mmethod\u001b[0m\u001b[0;34m,\u001b[0m \u001b[0murl\u001b[0m\u001b[0;34m,\u001b[0m \u001b[0merror\u001b[0m\u001b[0;34m=\u001b[0m\u001b[0me\u001b[0m\u001b[0;34m,\u001b[0m \u001b[0m_pool\u001b[0m\u001b[0;34m=\u001b[0m\u001b[0mself\u001b[0m\u001b[0;34m,\u001b[0m \u001b[0m_stacktrace\u001b[0m\u001b[0;34m=\u001b[0m\u001b[0msys\u001b[0m\u001b[0;34m.\u001b[0m\u001b[0mexc_info\u001b[0m\u001b[0;34m(\u001b[0m\u001b[0;34m)\u001b[0m\u001b[0;34m[\u001b[0m\u001b[0;36m2\u001b[0m\u001b[0;34m]\u001b[0m\u001b[0;34m\u001b[0m\u001b[0;34m\u001b[0m\u001b[0m\n",
      "\u001b[0;32m~/.local/share/virtualenvs/covid19_analysis-ImUBmtTy/lib/python3.8/site-packages/urllib3/util/retry.py\u001b[0m in \u001b[0;36mincrement\u001b[0;34m(self, method, url, response, error, _pool, _stacktrace)\u001b[0m\n\u001b[1;32m    438\u001b[0m         \u001b[0;32mif\u001b[0m \u001b[0mnew_retry\u001b[0m\u001b[0;34m.\u001b[0m\u001b[0mis_exhausted\u001b[0m\u001b[0;34m(\u001b[0m\u001b[0;34m)\u001b[0m\u001b[0;34m:\u001b[0m\u001b[0;34m\u001b[0m\u001b[0;34m\u001b[0m\u001b[0m\n\u001b[0;32m--> 439\u001b[0;31m             \u001b[0;32mraise\u001b[0m \u001b[0mMaxRetryError\u001b[0m\u001b[0;34m(\u001b[0m\u001b[0m_pool\u001b[0m\u001b[0;34m,\u001b[0m \u001b[0murl\u001b[0m\u001b[0;34m,\u001b[0m \u001b[0merror\u001b[0m \u001b[0;32mor\u001b[0m \u001b[0mResponseError\u001b[0m\u001b[0;34m(\u001b[0m\u001b[0mcause\u001b[0m\u001b[0;34m)\u001b[0m\u001b[0;34m)\u001b[0m\u001b[0;34m\u001b[0m\u001b[0;34m\u001b[0m\u001b[0m\n\u001b[0m\u001b[1;32m    440\u001b[0m \u001b[0;34m\u001b[0m\u001b[0m\n",
      "\u001b[0;31mMaxRetryError\u001b[0m: HTTPSConnectionPool(host='api.covid19api.com', port=443): Max retries exceeded with url: /total/country/malaysia?from=2021-02-01&to=2020-08-04 (Caused by ConnectTimeoutError(<urllib3.connection.HTTPSConnection object at 0x11b6f1670>, 'Connection to api.covid19api.com timed out. (connect timeout=30)'))",
      "\nDuring handling of the above exception, another exception occurred:\n",
      "\u001b[0;31mConnectTimeout\u001b[0m                            Traceback (most recent call last)",
      "\u001b[0;32m<ipython-input-248-ea5d43c945af>\u001b[0m in \u001b[0;36m<module>\u001b[0;34m\u001b[0m\n\u001b[1;32m     14\u001b[0m \u001b[0;32mtry\u001b[0m\u001b[0;34m:\u001b[0m\u001b[0;34m\u001b[0m\u001b[0;34m\u001b[0m\u001b[0m\n\u001b[0;32m---> 15\u001b[0;31m     \u001b[0mapi_request\u001b[0m \u001b[0;34m=\u001b[0m \u001b[0mrequests\u001b[0m\u001b[0;34m.\u001b[0m\u001b[0mget\u001b[0m\u001b[0;34m(\u001b[0m\u001b[0mAPI_URL\u001b[0m\u001b[0;34m,\u001b[0m \u001b[0mparams\u001b[0m\u001b[0;34m=\u001b[0m\u001b[0murl_param\u001b[0m\u001b[0;34m,\u001b[0m \u001b[0mtimeout\u001b[0m\u001b[0;34m=\u001b[0m\u001b[0;36m30\u001b[0m\u001b[0;34m)\u001b[0m\u001b[0;34m\u001b[0m\u001b[0;34m\u001b[0m\u001b[0m\n\u001b[0m\u001b[1;32m     16\u001b[0m \u001b[0;32mexcept\u001b[0m \u001b[0mrequests\u001b[0m\u001b[0;34m.\u001b[0m\u001b[0mexceptions\u001b[0m\u001b[0;34m.\u001b[0m\u001b[0mRequestException\u001b[0m \u001b[0;32mas\u001b[0m \u001b[0me\u001b[0m\u001b[0;34m:\u001b[0m\u001b[0;34m\u001b[0m\u001b[0;34m\u001b[0m\u001b[0m\n",
      "\u001b[0;32m~/.local/share/virtualenvs/covid19_analysis-ImUBmtTy/lib/python3.8/site-packages/requests/api.py\u001b[0m in \u001b[0;36mget\u001b[0;34m(url, params, **kwargs)\u001b[0m\n\u001b[1;32m     75\u001b[0m     \u001b[0mkwargs\u001b[0m\u001b[0;34m.\u001b[0m\u001b[0msetdefault\u001b[0m\u001b[0;34m(\u001b[0m\u001b[0;34m'allow_redirects'\u001b[0m\u001b[0;34m,\u001b[0m \u001b[0;32mTrue\u001b[0m\u001b[0;34m)\u001b[0m\u001b[0;34m\u001b[0m\u001b[0;34m\u001b[0m\u001b[0m\n\u001b[0;32m---> 76\u001b[0;31m     \u001b[0;32mreturn\u001b[0m \u001b[0mrequest\u001b[0m\u001b[0;34m(\u001b[0m\u001b[0;34m'get'\u001b[0m\u001b[0;34m,\u001b[0m \u001b[0murl\u001b[0m\u001b[0;34m,\u001b[0m \u001b[0mparams\u001b[0m\u001b[0;34m=\u001b[0m\u001b[0mparams\u001b[0m\u001b[0;34m,\u001b[0m \u001b[0;34m**\u001b[0m\u001b[0mkwargs\u001b[0m\u001b[0;34m)\u001b[0m\u001b[0;34m\u001b[0m\u001b[0;34m\u001b[0m\u001b[0m\n\u001b[0m\u001b[1;32m     77\u001b[0m \u001b[0;34m\u001b[0m\u001b[0m\n",
      "\u001b[0;32m~/.local/share/virtualenvs/covid19_analysis-ImUBmtTy/lib/python3.8/site-packages/requests/api.py\u001b[0m in \u001b[0;36mrequest\u001b[0;34m(method, url, **kwargs)\u001b[0m\n\u001b[1;32m     60\u001b[0m     \u001b[0;32mwith\u001b[0m \u001b[0msessions\u001b[0m\u001b[0;34m.\u001b[0m\u001b[0mSession\u001b[0m\u001b[0;34m(\u001b[0m\u001b[0;34m)\u001b[0m \u001b[0;32mas\u001b[0m \u001b[0msession\u001b[0m\u001b[0;34m:\u001b[0m\u001b[0;34m\u001b[0m\u001b[0;34m\u001b[0m\u001b[0m\n\u001b[0;32m---> 61\u001b[0;31m         \u001b[0;32mreturn\u001b[0m \u001b[0msession\u001b[0m\u001b[0;34m.\u001b[0m\u001b[0mrequest\u001b[0m\u001b[0;34m(\u001b[0m\u001b[0mmethod\u001b[0m\u001b[0;34m=\u001b[0m\u001b[0mmethod\u001b[0m\u001b[0;34m,\u001b[0m \u001b[0murl\u001b[0m\u001b[0;34m=\u001b[0m\u001b[0murl\u001b[0m\u001b[0;34m,\u001b[0m \u001b[0;34m**\u001b[0m\u001b[0mkwargs\u001b[0m\u001b[0;34m)\u001b[0m\u001b[0;34m\u001b[0m\u001b[0;34m\u001b[0m\u001b[0m\n\u001b[0m\u001b[1;32m     62\u001b[0m \u001b[0;34m\u001b[0m\u001b[0m\n",
      "\u001b[0;32m~/.local/share/virtualenvs/covid19_analysis-ImUBmtTy/lib/python3.8/site-packages/requests/sessions.py\u001b[0m in \u001b[0;36mrequest\u001b[0;34m(self, method, url, params, data, headers, cookies, files, auth, timeout, allow_redirects, proxies, hooks, stream, verify, cert, json)\u001b[0m\n\u001b[1;32m    529\u001b[0m         \u001b[0msend_kwargs\u001b[0m\u001b[0;34m.\u001b[0m\u001b[0mupdate\u001b[0m\u001b[0;34m(\u001b[0m\u001b[0msettings\u001b[0m\u001b[0;34m)\u001b[0m\u001b[0;34m\u001b[0m\u001b[0;34m\u001b[0m\u001b[0m\n\u001b[0;32m--> 530\u001b[0;31m         \u001b[0mresp\u001b[0m \u001b[0;34m=\u001b[0m \u001b[0mself\u001b[0m\u001b[0;34m.\u001b[0m\u001b[0msend\u001b[0m\u001b[0;34m(\u001b[0m\u001b[0mprep\u001b[0m\u001b[0;34m,\u001b[0m \u001b[0;34m**\u001b[0m\u001b[0msend_kwargs\u001b[0m\u001b[0;34m)\u001b[0m\u001b[0;34m\u001b[0m\u001b[0;34m\u001b[0m\u001b[0m\n\u001b[0m\u001b[1;32m    531\u001b[0m \u001b[0;34m\u001b[0m\u001b[0m\n",
      "\u001b[0;32m~/.local/share/virtualenvs/covid19_analysis-ImUBmtTy/lib/python3.8/site-packages/requests/sessions.py\u001b[0m in \u001b[0;36msend\u001b[0;34m(self, request, **kwargs)\u001b[0m\n\u001b[1;32m    642\u001b[0m         \u001b[0;31m# Send the request\u001b[0m\u001b[0;34m\u001b[0m\u001b[0;34m\u001b[0m\u001b[0;34m\u001b[0m\u001b[0m\n\u001b[0;32m--> 643\u001b[0;31m         \u001b[0mr\u001b[0m \u001b[0;34m=\u001b[0m \u001b[0madapter\u001b[0m\u001b[0;34m.\u001b[0m\u001b[0msend\u001b[0m\u001b[0;34m(\u001b[0m\u001b[0mrequest\u001b[0m\u001b[0;34m,\u001b[0m \u001b[0;34m**\u001b[0m\u001b[0mkwargs\u001b[0m\u001b[0;34m)\u001b[0m\u001b[0;34m\u001b[0m\u001b[0;34m\u001b[0m\u001b[0m\n\u001b[0m\u001b[1;32m    644\u001b[0m \u001b[0;34m\u001b[0m\u001b[0m\n",
      "\u001b[0;32m~/.local/share/virtualenvs/covid19_analysis-ImUBmtTy/lib/python3.8/site-packages/requests/adapters.py\u001b[0m in \u001b[0;36msend\u001b[0;34m(self, request, stream, timeout, verify, cert, proxies)\u001b[0m\n\u001b[1;32m    503\u001b[0m                 \u001b[0;32mif\u001b[0m \u001b[0;32mnot\u001b[0m \u001b[0misinstance\u001b[0m\u001b[0;34m(\u001b[0m\u001b[0me\u001b[0m\u001b[0;34m.\u001b[0m\u001b[0mreason\u001b[0m\u001b[0;34m,\u001b[0m \u001b[0mNewConnectionError\u001b[0m\u001b[0;34m)\u001b[0m\u001b[0;34m:\u001b[0m\u001b[0;34m\u001b[0m\u001b[0;34m\u001b[0m\u001b[0m\n\u001b[0;32m--> 504\u001b[0;31m                     \u001b[0;32mraise\u001b[0m \u001b[0mConnectTimeout\u001b[0m\u001b[0;34m(\u001b[0m\u001b[0me\u001b[0m\u001b[0;34m,\u001b[0m \u001b[0mrequest\u001b[0m\u001b[0;34m=\u001b[0m\u001b[0mrequest\u001b[0m\u001b[0;34m)\u001b[0m\u001b[0;34m\u001b[0m\u001b[0;34m\u001b[0m\u001b[0m\n\u001b[0m\u001b[1;32m    505\u001b[0m \u001b[0;34m\u001b[0m\u001b[0m\n",
      "\u001b[0;31mConnectTimeout\u001b[0m: HTTPSConnectionPool(host='api.covid19api.com', port=443): Max retries exceeded with url: /total/country/malaysia?from=2021-02-01&to=2020-08-04 (Caused by ConnectTimeoutError(<urllib3.connection.HTTPSConnection object at 0x11b6f1670>, 'Connection to api.covid19api.com timed out. (connect timeout=30)'))",
      "\nDuring handling of the above exception, another exception occurred:\n",
      "\u001b[0;31mSystemExit\u001b[0m                                Traceback (most recent call last)",
      "    \u001b[0;31m[... skipping hidden 1 frame]\u001b[0m\n",
      "\u001b[0;32m<ipython-input-248-ea5d43c945af>\u001b[0m in \u001b[0;36m<module>\u001b[0;34m\u001b[0m\n\u001b[1;32m     18\u001b[0m     \u001b[0mprint\u001b[0m\u001b[0;34m(\u001b[0m\u001b[0;34m'Exiting ....'\u001b[0m\u001b[0;34m)\u001b[0m\u001b[0;34m\u001b[0m\u001b[0;34m\u001b[0m\u001b[0m\n\u001b[0;32m---> 19\u001b[0;31m     \u001b[0msys\u001b[0m\u001b[0;34m.\u001b[0m\u001b[0mexit\u001b[0m\u001b[0;34m(\u001b[0m\u001b[0;36m0\u001b[0m\u001b[0;34m)\u001b[0m\u001b[0;34m\u001b[0m\u001b[0;34m\u001b[0m\u001b[0m\n\u001b[0m\u001b[1;32m     20\u001b[0m \u001b[0;34m\u001b[0m\u001b[0m\n",
      "\u001b[0;31mSystemExit\u001b[0m: 0",
      "\nDuring handling of the above exception, another exception occurred:\n",
      "\u001b[0;31mTypeError\u001b[0m                                 Traceback (most recent call last)",
      "    \u001b[0;31m[... skipping hidden 1 frame]\u001b[0m\n",
      "\u001b[0;32m~/.local/share/virtualenvs/covid19_analysis-ImUBmtTy/lib/python3.8/site-packages/IPython/core/interactiveshell.py\u001b[0m in \u001b[0;36mshowtraceback\u001b[0;34m(self, exc_tuple, filename, tb_offset, exception_only, running_compiled_code)\u001b[0m\n\u001b[1;32m   2035\u001b[0m                     stb = ['An exception has occurred, use %tb to see '\n\u001b[1;32m   2036\u001b[0m                            'the full traceback.\\n']\n\u001b[0;32m-> 2037\u001b[0;31m                     stb.extend(self.InteractiveTB.get_exception_only(etype,\n\u001b[0m\u001b[1;32m   2038\u001b[0m                                                                      value))\n\u001b[1;32m   2039\u001b[0m                 \u001b[0;32melse\u001b[0m\u001b[0;34m:\u001b[0m\u001b[0;34m\u001b[0m\u001b[0;34m\u001b[0m\u001b[0m\n",
      "\u001b[0;32m~/.local/share/virtualenvs/covid19_analysis-ImUBmtTy/lib/python3.8/site-packages/IPython/core/ultratb.py\u001b[0m in \u001b[0;36mget_exception_only\u001b[0;34m(self, etype, value)\u001b[0m\n\u001b[1;32m    821\u001b[0m         \u001b[0mvalue\u001b[0m \u001b[0;34m:\u001b[0m \u001b[0mexception\u001b[0m \u001b[0mvalue\u001b[0m\u001b[0;34m\u001b[0m\u001b[0;34m\u001b[0m\u001b[0m\n\u001b[1;32m    822\u001b[0m         \"\"\"\n\u001b[0;32m--> 823\u001b[0;31m         \u001b[0;32mreturn\u001b[0m \u001b[0mListTB\u001b[0m\u001b[0;34m.\u001b[0m\u001b[0mstructured_traceback\u001b[0m\u001b[0;34m(\u001b[0m\u001b[0mself\u001b[0m\u001b[0;34m,\u001b[0m \u001b[0metype\u001b[0m\u001b[0;34m,\u001b[0m \u001b[0mvalue\u001b[0m\u001b[0;34m)\u001b[0m\u001b[0;34m\u001b[0m\u001b[0;34m\u001b[0m\u001b[0m\n\u001b[0m\u001b[1;32m    824\u001b[0m \u001b[0;34m\u001b[0m\u001b[0m\n\u001b[1;32m    825\u001b[0m     \u001b[0;32mdef\u001b[0m \u001b[0mshow_exception_only\u001b[0m\u001b[0;34m(\u001b[0m\u001b[0mself\u001b[0m\u001b[0;34m,\u001b[0m \u001b[0metype\u001b[0m\u001b[0;34m,\u001b[0m \u001b[0mevalue\u001b[0m\u001b[0;34m)\u001b[0m\u001b[0;34m:\u001b[0m\u001b[0;34m\u001b[0m\u001b[0;34m\u001b[0m\u001b[0m\n",
      "\u001b[0;32m~/.local/share/virtualenvs/covid19_analysis-ImUBmtTy/lib/python3.8/site-packages/IPython/core/ultratb.py\u001b[0m in \u001b[0;36mstructured_traceback\u001b[0;34m(self, etype, evalue, etb, tb_offset, context)\u001b[0m\n\u001b[1;32m    696\u001b[0m             \u001b[0mchained_exceptions_tb_offset\u001b[0m \u001b[0;34m=\u001b[0m \u001b[0;36m0\u001b[0m\u001b[0;34m\u001b[0m\u001b[0;34m\u001b[0m\u001b[0m\n\u001b[1;32m    697\u001b[0m             out_list = (\n\u001b[0;32m--> 698\u001b[0;31m                 self.structured_traceback(\n\u001b[0m\u001b[1;32m    699\u001b[0m                     \u001b[0metype\u001b[0m\u001b[0;34m,\u001b[0m \u001b[0mevalue\u001b[0m\u001b[0;34m,\u001b[0m \u001b[0;34m(\u001b[0m\u001b[0metb\u001b[0m\u001b[0;34m,\u001b[0m \u001b[0mchained_exc_ids\u001b[0m\u001b[0;34m)\u001b[0m\u001b[0;34m,\u001b[0m\u001b[0;34m\u001b[0m\u001b[0;34m\u001b[0m\u001b[0m\n\u001b[1;32m    700\u001b[0m                     chained_exceptions_tb_offset, context)\n",
      "\u001b[0;32m~/.local/share/virtualenvs/covid19_analysis-ImUBmtTy/lib/python3.8/site-packages/IPython/core/ultratb.py\u001b[0m in \u001b[0;36mstructured_traceback\u001b[0;34m(self, etype, value, tb, tb_offset, number_of_lines_of_context)\u001b[0m\n\u001b[1;32m   1433\u001b[0m         \u001b[0;32melse\u001b[0m\u001b[0;34m:\u001b[0m\u001b[0;34m\u001b[0m\u001b[0;34m\u001b[0m\u001b[0m\n\u001b[1;32m   1434\u001b[0m             \u001b[0mself\u001b[0m\u001b[0;34m.\u001b[0m\u001b[0mtb\u001b[0m \u001b[0;34m=\u001b[0m \u001b[0mtb\u001b[0m\u001b[0;34m\u001b[0m\u001b[0;34m\u001b[0m\u001b[0m\n\u001b[0;32m-> 1435\u001b[0;31m         return FormattedTB.structured_traceback(\n\u001b[0m\u001b[1;32m   1436\u001b[0m             self, etype, value, tb, tb_offset, number_of_lines_of_context)\n\u001b[1;32m   1437\u001b[0m \u001b[0;34m\u001b[0m\u001b[0m\n",
      "\u001b[0;32m~/.local/share/virtualenvs/covid19_analysis-ImUBmtTy/lib/python3.8/site-packages/IPython/core/ultratb.py\u001b[0m in \u001b[0;36mstructured_traceback\u001b[0;34m(self, etype, value, tb, tb_offset, number_of_lines_of_context)\u001b[0m\n\u001b[1;32m   1333\u001b[0m         \u001b[0;32mif\u001b[0m \u001b[0mmode\u001b[0m \u001b[0;32min\u001b[0m \u001b[0mself\u001b[0m\u001b[0;34m.\u001b[0m\u001b[0mverbose_modes\u001b[0m\u001b[0;34m:\u001b[0m\u001b[0;34m\u001b[0m\u001b[0;34m\u001b[0m\u001b[0m\n\u001b[1;32m   1334\u001b[0m             \u001b[0;31m# Verbose modes need a full traceback\u001b[0m\u001b[0;34m\u001b[0m\u001b[0;34m\u001b[0m\u001b[0;34m\u001b[0m\u001b[0m\n\u001b[0;32m-> 1335\u001b[0;31m             return VerboseTB.structured_traceback(\n\u001b[0m\u001b[1;32m   1336\u001b[0m                 \u001b[0mself\u001b[0m\u001b[0;34m,\u001b[0m \u001b[0metype\u001b[0m\u001b[0;34m,\u001b[0m \u001b[0mvalue\u001b[0m\u001b[0;34m,\u001b[0m \u001b[0mtb\u001b[0m\u001b[0;34m,\u001b[0m \u001b[0mtb_offset\u001b[0m\u001b[0;34m,\u001b[0m \u001b[0mnumber_of_lines_of_context\u001b[0m\u001b[0;34m\u001b[0m\u001b[0;34m\u001b[0m\u001b[0m\n\u001b[1;32m   1337\u001b[0m             )\n",
      "\u001b[0;32m~/.local/share/virtualenvs/covid19_analysis-ImUBmtTy/lib/python3.8/site-packages/IPython/core/ultratb.py\u001b[0m in \u001b[0;36mstructured_traceback\u001b[0;34m(self, etype, evalue, etb, tb_offset, number_of_lines_of_context)\u001b[0m\n\u001b[1;32m   1190\u001b[0m         \u001b[0;34m\"\"\"Return a nice text document describing the traceback.\"\"\"\u001b[0m\u001b[0;34m\u001b[0m\u001b[0;34m\u001b[0m\u001b[0m\n\u001b[1;32m   1191\u001b[0m \u001b[0;34m\u001b[0m\u001b[0m\n\u001b[0;32m-> 1192\u001b[0;31m         formatted_exception = self.format_exception_as_a_whole(etype, evalue, etb, number_of_lines_of_context,\n\u001b[0m\u001b[1;32m   1193\u001b[0m                                                                tb_offset)\n\u001b[1;32m   1194\u001b[0m \u001b[0;34m\u001b[0m\u001b[0m\n",
      "\u001b[0;32m~/.local/share/virtualenvs/covid19_analysis-ImUBmtTy/lib/python3.8/site-packages/IPython/core/ultratb.py\u001b[0m in \u001b[0;36mformat_exception_as_a_whole\u001b[0;34m(self, etype, evalue, etb, number_of_lines_of_context, tb_offset)\u001b[0m\n\u001b[1;32m   1148\u001b[0m \u001b[0;34m\u001b[0m\u001b[0m\n\u001b[1;32m   1149\u001b[0m \u001b[0;34m\u001b[0m\u001b[0m\n\u001b[0;32m-> 1150\u001b[0;31m         \u001b[0mlast_unique\u001b[0m\u001b[0;34m,\u001b[0m \u001b[0mrecursion_repeat\u001b[0m \u001b[0;34m=\u001b[0m \u001b[0mfind_recursion\u001b[0m\u001b[0;34m(\u001b[0m\u001b[0morig_etype\u001b[0m\u001b[0;34m,\u001b[0m \u001b[0mevalue\u001b[0m\u001b[0;34m,\u001b[0m \u001b[0mrecords\u001b[0m\u001b[0;34m)\u001b[0m\u001b[0;34m\u001b[0m\u001b[0;34m\u001b[0m\u001b[0m\n\u001b[0m\u001b[1;32m   1151\u001b[0m \u001b[0;34m\u001b[0m\u001b[0m\n\u001b[1;32m   1152\u001b[0m         \u001b[0mframes\u001b[0m \u001b[0;34m=\u001b[0m \u001b[0mself\u001b[0m\u001b[0;34m.\u001b[0m\u001b[0mformat_records\u001b[0m\u001b[0;34m(\u001b[0m\u001b[0mrecords\u001b[0m\u001b[0;34m,\u001b[0m \u001b[0mlast_unique\u001b[0m\u001b[0;34m,\u001b[0m \u001b[0mrecursion_repeat\u001b[0m\u001b[0;34m)\u001b[0m\u001b[0;34m\u001b[0m\u001b[0;34m\u001b[0m\u001b[0m\n",
      "\u001b[0;32m~/.local/share/virtualenvs/covid19_analysis-ImUBmtTy/lib/python3.8/site-packages/IPython/core/ultratb.py\u001b[0m in \u001b[0;36mfind_recursion\u001b[0;34m(etype, value, records)\u001b[0m\n\u001b[1;32m    449\u001b[0m     \u001b[0;31m# first frame (from in to out) that looks different.\u001b[0m\u001b[0;34m\u001b[0m\u001b[0;34m\u001b[0m\u001b[0;34m\u001b[0m\u001b[0m\n\u001b[1;32m    450\u001b[0m     \u001b[0;32mif\u001b[0m \u001b[0;32mnot\u001b[0m \u001b[0mis_recursion_error\u001b[0m\u001b[0;34m(\u001b[0m\u001b[0metype\u001b[0m\u001b[0;34m,\u001b[0m \u001b[0mvalue\u001b[0m\u001b[0;34m,\u001b[0m \u001b[0mrecords\u001b[0m\u001b[0;34m)\u001b[0m\u001b[0;34m:\u001b[0m\u001b[0;34m\u001b[0m\u001b[0;34m\u001b[0m\u001b[0m\n\u001b[0;32m--> 451\u001b[0;31m         \u001b[0;32mreturn\u001b[0m \u001b[0mlen\u001b[0m\u001b[0;34m(\u001b[0m\u001b[0mrecords\u001b[0m\u001b[0;34m)\u001b[0m\u001b[0;34m,\u001b[0m \u001b[0;36m0\u001b[0m\u001b[0;34m\u001b[0m\u001b[0;34m\u001b[0m\u001b[0m\n\u001b[0m\u001b[1;32m    452\u001b[0m \u001b[0;34m\u001b[0m\u001b[0m\n\u001b[1;32m    453\u001b[0m     \u001b[0;31m# Select filename, lineno, func_name to track frames with\u001b[0m\u001b[0;34m\u001b[0m\u001b[0;34m\u001b[0m\u001b[0;34m\u001b[0m\u001b[0m\n",
      "\u001b[0;31mTypeError\u001b[0m: object of type 'NoneType' has no len()"
     ]
    }
   ],
   "source": [
    "import sys\n",
    "import requests\n",
    "import json\n",
    "from datetime import datetime \n",
    "import pandas as pd\n",
    "\n",
    "COUNTRY_LOC = 'malaysia'\n",
    "API_URL = 'https://api.covid19api.com/total/country/' + COUNTRY_LOC\n",
    "\n",
    "start_date = '2021-02-01'\n",
    "to_date = datetime.today()\n",
    "url_param = {'from': start_date, 'to': str(to_date)[:10]}\n",
    "\n",
    "try:\n",
    "    api_request = requests.get(API_URL, params=url_param, timeout=30)\n",
    "except requests.exceptions.RequestException as e:\n",
    "    print('Server Request Failed :', e)\n",
    "    print('Exiting ....')\n",
    "    sys.exit(0)\n",
    "\n",
    "\"\"\"\n",
    "if not api_request.ok:\n",
    "    print('Server Request Failed :', api_request.status_code, api_request.reason)\n",
    "    print('Exiting ....')\n",
    "    sys.exit(0)\n",
    "\"\"\"\n",
    "\n",
    "df = pd.DataFrame(api_request.json())\n",
    "df.set_index('Date', inplace=True)"
   ]
  },
  {
   "cell_type": "code",
   "execution_count": 249,
   "metadata": {},
   "outputs": [
    {
     "output_type": "execute_result",
     "data": {
      "text/plain": "            Confirmed  Deaths  Recovered  Active  Daily Cases  Daily Deaths  \\\nDate                                                                          \n2020-01-22          0       0          0       0          0.0           0.0   \n2020-01-23          0       0          0       0          0.0           0.0   \n2020-01-24          0       0          0       0          0.0           0.0   \n2020-01-25          3       0          0       3          3.0           0.0   \n2020-01-26          4       0          0       4          1.0           0.0   \n...               ...     ...        ...     ...          ...           ...   \n2020-07-30       8964     124       8617     223          8.0           0.0   \n2020-07-31       8976     125       8644     207         12.0           1.0   \n2020-08-01       8985     125       8647     213          9.0           0.0   \n2020-08-02       8999     125       8664     210         14.0           0.0   \n2020-08-03       9001     125       8668     208          2.0           0.0   \n\n            Daily Recovered  Mortality Rates  Recovered Rates  Active Rates  \\\nDate                                                                          \n2020-01-22              0.0             0.00             0.00          0.00   \n2020-01-23              0.0             0.00             0.00          0.00   \n2020-01-24              0.0             0.00             0.00          0.00   \n2020-01-25              0.0             0.00             0.00          1.00   \n2020-01-26              0.0             0.00             0.00          1.00   \n...                     ...              ...              ...           ...   \n2020-07-30              5.0             0.01             0.96          0.02   \n2020-07-31             27.0             0.01             0.96          0.02   \n2020-08-01              3.0             0.01             0.96          0.02   \n2020-08-02             17.0             0.01             0.96          0.02   \n2020-08-03              4.0             0.01             0.96          0.02   \n\n            Cases per 1mil pop  \nDate                            \n2020-01-22                0.00  \n2020-01-23                0.00  \n2020-01-24                0.00  \n2020-01-25                0.09  \n2020-01-26                0.12  \n...                        ...  \n2020-07-30              276.96  \n2020-07-31              277.33  \n2020-08-01              277.61  \n2020-08-02              278.04  \n2020-08-03              278.10  \n\n[195 rows x 11 columns]",
      "text/html": "<div>\n<style scoped>\n    .dataframe tbody tr th:only-of-type {\n        vertical-align: middle;\n    }\n\n    .dataframe tbody tr th {\n        vertical-align: top;\n    }\n\n    .dataframe thead th {\n        text-align: right;\n    }\n</style>\n<table border=\"1\" class=\"dataframe\">\n  <thead>\n    <tr style=\"text-align: right;\">\n      <th></th>\n      <th>Confirmed</th>\n      <th>Deaths</th>\n      <th>Recovered</th>\n      <th>Active</th>\n      <th>Daily Cases</th>\n      <th>Daily Deaths</th>\n      <th>Daily Recovered</th>\n      <th>Mortality Rates</th>\n      <th>Recovered Rates</th>\n      <th>Active Rates</th>\n      <th>Cases per 1mil pop</th>\n    </tr>\n    <tr>\n      <th>Date</th>\n      <th></th>\n      <th></th>\n      <th></th>\n      <th></th>\n      <th></th>\n      <th></th>\n      <th></th>\n      <th></th>\n      <th></th>\n      <th></th>\n      <th></th>\n    </tr>\n  </thead>\n  <tbody>\n    <tr>\n      <th>2020-01-22</th>\n      <td>0</td>\n      <td>0</td>\n      <td>0</td>\n      <td>0</td>\n      <td>0.0</td>\n      <td>0.0</td>\n      <td>0.0</td>\n      <td>0.00</td>\n      <td>0.00</td>\n      <td>0.00</td>\n      <td>0.00</td>\n    </tr>\n    <tr>\n      <th>2020-01-23</th>\n      <td>0</td>\n      <td>0</td>\n      <td>0</td>\n      <td>0</td>\n      <td>0.0</td>\n      <td>0.0</td>\n      <td>0.0</td>\n      <td>0.00</td>\n      <td>0.00</td>\n      <td>0.00</td>\n      <td>0.00</td>\n    </tr>\n    <tr>\n      <th>2020-01-24</th>\n      <td>0</td>\n      <td>0</td>\n      <td>0</td>\n      <td>0</td>\n      <td>0.0</td>\n      <td>0.0</td>\n      <td>0.0</td>\n      <td>0.00</td>\n      <td>0.00</td>\n      <td>0.00</td>\n      <td>0.00</td>\n    </tr>\n    <tr>\n      <th>2020-01-25</th>\n      <td>3</td>\n      <td>0</td>\n      <td>0</td>\n      <td>3</td>\n      <td>3.0</td>\n      <td>0.0</td>\n      <td>0.0</td>\n      <td>0.00</td>\n      <td>0.00</td>\n      <td>1.00</td>\n      <td>0.09</td>\n    </tr>\n    <tr>\n      <th>2020-01-26</th>\n      <td>4</td>\n      <td>0</td>\n      <td>0</td>\n      <td>4</td>\n      <td>1.0</td>\n      <td>0.0</td>\n      <td>0.0</td>\n      <td>0.00</td>\n      <td>0.00</td>\n      <td>1.00</td>\n      <td>0.12</td>\n    </tr>\n    <tr>\n      <th>...</th>\n      <td>...</td>\n      <td>...</td>\n      <td>...</td>\n      <td>...</td>\n      <td>...</td>\n      <td>...</td>\n      <td>...</td>\n      <td>...</td>\n      <td>...</td>\n      <td>...</td>\n      <td>...</td>\n    </tr>\n    <tr>\n      <th>2020-07-30</th>\n      <td>8964</td>\n      <td>124</td>\n      <td>8617</td>\n      <td>223</td>\n      <td>8.0</td>\n      <td>0.0</td>\n      <td>5.0</td>\n      <td>0.01</td>\n      <td>0.96</td>\n      <td>0.02</td>\n      <td>276.96</td>\n    </tr>\n    <tr>\n      <th>2020-07-31</th>\n      <td>8976</td>\n      <td>125</td>\n      <td>8644</td>\n      <td>207</td>\n      <td>12.0</td>\n      <td>1.0</td>\n      <td>27.0</td>\n      <td>0.01</td>\n      <td>0.96</td>\n      <td>0.02</td>\n      <td>277.33</td>\n    </tr>\n    <tr>\n      <th>2020-08-01</th>\n      <td>8985</td>\n      <td>125</td>\n      <td>8647</td>\n      <td>213</td>\n      <td>9.0</td>\n      <td>0.0</td>\n      <td>3.0</td>\n      <td>0.01</td>\n      <td>0.96</td>\n      <td>0.02</td>\n      <td>277.61</td>\n    </tr>\n    <tr>\n      <th>2020-08-02</th>\n      <td>8999</td>\n      <td>125</td>\n      <td>8664</td>\n      <td>210</td>\n      <td>14.0</td>\n      <td>0.0</td>\n      <td>17.0</td>\n      <td>0.01</td>\n      <td>0.96</td>\n      <td>0.02</td>\n      <td>278.04</td>\n    </tr>\n    <tr>\n      <th>2020-08-03</th>\n      <td>9001</td>\n      <td>125</td>\n      <td>8668</td>\n      <td>208</td>\n      <td>2.0</td>\n      <td>0.0</td>\n      <td>4.0</td>\n      <td>0.01</td>\n      <td>0.96</td>\n      <td>0.02</td>\n      <td>278.10</td>\n    </tr>\n  </tbody>\n</table>\n<p>195 rows × 11 columns</p>\n</div>"
     },
     "metadata": {},
     "execution_count": 249
    }
   ],
   "source": [
    "df"
   ]
  },
  {
   "cell_type": "code",
   "execution_count": 250,
   "metadata": {},
   "outputs": [
    {
     "output_type": "error",
     "ename": "KeyError",
     "evalue": "\"['Country' 'CountryCode' 'Province' 'City' 'CityCode' 'Lat' 'Lon'] not found in axis\"",
     "traceback": [
      "\u001b[0;31m---------------------------------------------------------------------------\u001b[0m",
      "\u001b[0;31mKeyError\u001b[0m                                  Traceback (most recent call last)",
      "\u001b[0;32m<ipython-input-250-e42c72b57929>\u001b[0m in \u001b[0;36m<module>\u001b[0;34m\u001b[0m\n\u001b[1;32m      1\u001b[0m \u001b[0;31m# remove unwanted Columns\u001b[0m\u001b[0;34m\u001b[0m\u001b[0;34m\u001b[0m\u001b[0;34m\u001b[0m\u001b[0m\n\u001b[0;32m----> 2\u001b[0;31m \u001b[0mdf\u001b[0m\u001b[0;34m.\u001b[0m\u001b[0mdrop\u001b[0m\u001b[0;34m(\u001b[0m\u001b[0mcolumns\u001b[0m\u001b[0;34m=\u001b[0m\u001b[0;34m[\u001b[0m\u001b[0;34m'Country'\u001b[0m\u001b[0;34m,\u001b[0m \u001b[0;34m'CountryCode'\u001b[0m\u001b[0;34m,\u001b[0m \u001b[0;34m'Province'\u001b[0m\u001b[0;34m,\u001b[0m \u001b[0;34m'City'\u001b[0m\u001b[0;34m,\u001b[0m \u001b[0;34m'CityCode'\u001b[0m\u001b[0;34m,\u001b[0m \u001b[0;34m'Lat'\u001b[0m\u001b[0;34m,\u001b[0m \u001b[0;34m\"Lon\"\u001b[0m\u001b[0;34m]\u001b[0m\u001b[0;34m,\u001b[0m \u001b[0minplace\u001b[0m\u001b[0;34m=\u001b[0m\u001b[0;32mTrue\u001b[0m\u001b[0;34m)\u001b[0m\u001b[0;34m\u001b[0m\u001b[0;34m\u001b[0m\u001b[0m\n\u001b[0m",
      "\u001b[0;32m~/.local/share/virtualenvs/covid19_analysis-ImUBmtTy/lib/python3.8/site-packages/pandas/core/frame.py\u001b[0m in \u001b[0;36mdrop\u001b[0;34m(self, labels, axis, index, columns, level, inplace, errors)\u001b[0m\n\u001b[1;32m   4155\u001b[0m                 \u001b[0mweight\u001b[0m  \u001b[0;36m1.0\u001b[0m     \u001b[0;36m0.8\u001b[0m\u001b[0;34m\u001b[0m\u001b[0;34m\u001b[0m\u001b[0m\n\u001b[1;32m   4156\u001b[0m         \"\"\"\n\u001b[0;32m-> 4157\u001b[0;31m         return super().drop(\n\u001b[0m\u001b[1;32m   4158\u001b[0m             \u001b[0mlabels\u001b[0m\u001b[0;34m=\u001b[0m\u001b[0mlabels\u001b[0m\u001b[0;34m,\u001b[0m\u001b[0;34m\u001b[0m\u001b[0;34m\u001b[0m\u001b[0m\n\u001b[1;32m   4159\u001b[0m             \u001b[0maxis\u001b[0m\u001b[0;34m=\u001b[0m\u001b[0maxis\u001b[0m\u001b[0;34m,\u001b[0m\u001b[0;34m\u001b[0m\u001b[0;34m\u001b[0m\u001b[0m\n",
      "\u001b[0;32m~/.local/share/virtualenvs/covid19_analysis-ImUBmtTy/lib/python3.8/site-packages/pandas/core/generic.py\u001b[0m in \u001b[0;36mdrop\u001b[0;34m(self, labels, axis, index, columns, level, inplace, errors)\u001b[0m\n\u001b[1;32m   3876\u001b[0m         \u001b[0;32mfor\u001b[0m \u001b[0maxis\u001b[0m\u001b[0;34m,\u001b[0m \u001b[0mlabels\u001b[0m \u001b[0;32min\u001b[0m \u001b[0maxes\u001b[0m\u001b[0;34m.\u001b[0m\u001b[0mitems\u001b[0m\u001b[0;34m(\u001b[0m\u001b[0;34m)\u001b[0m\u001b[0;34m:\u001b[0m\u001b[0;34m\u001b[0m\u001b[0;34m\u001b[0m\u001b[0m\n\u001b[1;32m   3877\u001b[0m             \u001b[0;32mif\u001b[0m \u001b[0mlabels\u001b[0m \u001b[0;32mis\u001b[0m \u001b[0;32mnot\u001b[0m \u001b[0;32mNone\u001b[0m\u001b[0;34m:\u001b[0m\u001b[0;34m\u001b[0m\u001b[0;34m\u001b[0m\u001b[0m\n\u001b[0;32m-> 3878\u001b[0;31m                 \u001b[0mobj\u001b[0m \u001b[0;34m=\u001b[0m \u001b[0mobj\u001b[0m\u001b[0;34m.\u001b[0m\u001b[0m_drop_axis\u001b[0m\u001b[0;34m(\u001b[0m\u001b[0mlabels\u001b[0m\u001b[0;34m,\u001b[0m \u001b[0maxis\u001b[0m\u001b[0;34m,\u001b[0m \u001b[0mlevel\u001b[0m\u001b[0;34m=\u001b[0m\u001b[0mlevel\u001b[0m\u001b[0;34m,\u001b[0m \u001b[0merrors\u001b[0m\u001b[0;34m=\u001b[0m\u001b[0merrors\u001b[0m\u001b[0;34m)\u001b[0m\u001b[0;34m\u001b[0m\u001b[0;34m\u001b[0m\u001b[0m\n\u001b[0m\u001b[1;32m   3879\u001b[0m \u001b[0;34m\u001b[0m\u001b[0m\n\u001b[1;32m   3880\u001b[0m         \u001b[0;32mif\u001b[0m \u001b[0minplace\u001b[0m\u001b[0;34m:\u001b[0m\u001b[0;34m\u001b[0m\u001b[0;34m\u001b[0m\u001b[0m\n",
      "\u001b[0;32m~/.local/share/virtualenvs/covid19_analysis-ImUBmtTy/lib/python3.8/site-packages/pandas/core/generic.py\u001b[0m in \u001b[0;36m_drop_axis\u001b[0;34m(self, labels, axis, level, errors)\u001b[0m\n\u001b[1;32m   3910\u001b[0m                 \u001b[0mnew_axis\u001b[0m \u001b[0;34m=\u001b[0m \u001b[0maxis\u001b[0m\u001b[0;34m.\u001b[0m\u001b[0mdrop\u001b[0m\u001b[0;34m(\u001b[0m\u001b[0mlabels\u001b[0m\u001b[0;34m,\u001b[0m \u001b[0mlevel\u001b[0m\u001b[0;34m=\u001b[0m\u001b[0mlevel\u001b[0m\u001b[0;34m,\u001b[0m \u001b[0merrors\u001b[0m\u001b[0;34m=\u001b[0m\u001b[0merrors\u001b[0m\u001b[0;34m)\u001b[0m\u001b[0;34m\u001b[0m\u001b[0;34m\u001b[0m\u001b[0m\n\u001b[1;32m   3911\u001b[0m             \u001b[0;32melse\u001b[0m\u001b[0;34m:\u001b[0m\u001b[0;34m\u001b[0m\u001b[0;34m\u001b[0m\u001b[0m\n\u001b[0;32m-> 3912\u001b[0;31m                 \u001b[0mnew_axis\u001b[0m \u001b[0;34m=\u001b[0m \u001b[0maxis\u001b[0m\u001b[0;34m.\u001b[0m\u001b[0mdrop\u001b[0m\u001b[0;34m(\u001b[0m\u001b[0mlabels\u001b[0m\u001b[0;34m,\u001b[0m \u001b[0merrors\u001b[0m\u001b[0;34m=\u001b[0m\u001b[0merrors\u001b[0m\u001b[0;34m)\u001b[0m\u001b[0;34m\u001b[0m\u001b[0;34m\u001b[0m\u001b[0m\n\u001b[0m\u001b[1;32m   3913\u001b[0m             \u001b[0mresult\u001b[0m \u001b[0;34m=\u001b[0m \u001b[0mself\u001b[0m\u001b[0;34m.\u001b[0m\u001b[0mreindex\u001b[0m\u001b[0;34m(\u001b[0m\u001b[0;34m**\u001b[0m\u001b[0;34m{\u001b[0m\u001b[0maxis_name\u001b[0m\u001b[0;34m:\u001b[0m \u001b[0mnew_axis\u001b[0m\u001b[0;34m}\u001b[0m\u001b[0;34m)\u001b[0m\u001b[0;34m\u001b[0m\u001b[0;34m\u001b[0m\u001b[0m\n\u001b[1;32m   3914\u001b[0m \u001b[0;34m\u001b[0m\u001b[0m\n",
      "\u001b[0;32m~/.local/share/virtualenvs/covid19_analysis-ImUBmtTy/lib/python3.8/site-packages/pandas/core/indexes/base.py\u001b[0m in \u001b[0;36mdrop\u001b[0;34m(self, labels, errors)\u001b[0m\n\u001b[1;32m   5274\u001b[0m         \u001b[0;32mif\u001b[0m \u001b[0mmask\u001b[0m\u001b[0;34m.\u001b[0m\u001b[0many\u001b[0m\u001b[0;34m(\u001b[0m\u001b[0;34m)\u001b[0m\u001b[0;34m:\u001b[0m\u001b[0;34m\u001b[0m\u001b[0;34m\u001b[0m\u001b[0m\n\u001b[1;32m   5275\u001b[0m             \u001b[0;32mif\u001b[0m \u001b[0merrors\u001b[0m \u001b[0;34m!=\u001b[0m \u001b[0;34m\"ignore\"\u001b[0m\u001b[0;34m:\u001b[0m\u001b[0;34m\u001b[0m\u001b[0;34m\u001b[0m\u001b[0m\n\u001b[0;32m-> 5276\u001b[0;31m                 \u001b[0;32mraise\u001b[0m \u001b[0mKeyError\u001b[0m\u001b[0;34m(\u001b[0m\u001b[0;34mf\"{labels[mask]} not found in axis\"\u001b[0m\u001b[0;34m)\u001b[0m\u001b[0;34m\u001b[0m\u001b[0;34m\u001b[0m\u001b[0m\n\u001b[0m\u001b[1;32m   5277\u001b[0m             \u001b[0mindexer\u001b[0m \u001b[0;34m=\u001b[0m \u001b[0mindexer\u001b[0m\u001b[0;34m[\u001b[0m\u001b[0;34m~\u001b[0m\u001b[0mmask\u001b[0m\u001b[0;34m]\u001b[0m\u001b[0;34m\u001b[0m\u001b[0;34m\u001b[0m\u001b[0m\n\u001b[1;32m   5278\u001b[0m         \u001b[0;32mreturn\u001b[0m \u001b[0mself\u001b[0m\u001b[0;34m.\u001b[0m\u001b[0mdelete\u001b[0m\u001b[0;34m(\u001b[0m\u001b[0mindexer\u001b[0m\u001b[0;34m)\u001b[0m\u001b[0;34m\u001b[0m\u001b[0;34m\u001b[0m\u001b[0m\n",
      "\u001b[0;31mKeyError\u001b[0m: \"['Country' 'CountryCode' 'Province' 'City' 'CityCode' 'Lat' 'Lon'] not found in axis\""
     ]
    }
   ],
   "source": [
    "# remove unwanted Columns\n",
    "df.drop(columns=['Country', 'CountryCode', 'Province', 'City', 'CityCode', 'Lat', \"Lon\"], inplace=True)"
   ]
  },
  {
   "cell_type": "code",
   "execution_count": 251,
   "metadata": {
    "tags": []
   },
   "outputs": [
    {
     "output_type": "execute_result",
     "data": {
      "text/plain": "            Confirmed  Deaths  Recovered  Active  Daily Cases  Daily Deaths  \\\nDate                                                                          \n2020-01-22          0       0          0       0          0.0           0.0   \n2020-01-23          0       0          0       0          0.0           0.0   \n2020-01-24          0       0          0       0          0.0           0.0   \n2020-01-25          3       0          0       3          3.0           0.0   \n2020-01-26          4       0          0       4          1.0           0.0   \n...               ...     ...        ...     ...          ...           ...   \n2020-07-30       8964     124       8617     223          8.0           0.0   \n2020-07-31       8976     125       8644     207         12.0           1.0   \n2020-08-01       8985     125       8647     213          9.0           0.0   \n2020-08-02       8999     125       8664     210         14.0           0.0   \n2020-08-03       9001     125       8668     208          2.0           0.0   \n\n            Daily Recovered  Mortality Rates  Recovered Rates  Active Rates  \\\nDate                                                                          \n2020-01-22              0.0             0.00             0.00          0.00   \n2020-01-23              0.0             0.00             0.00          0.00   \n2020-01-24              0.0             0.00             0.00          0.00   \n2020-01-25              0.0             0.00             0.00          1.00   \n2020-01-26              0.0             0.00             0.00          1.00   \n...                     ...              ...              ...           ...   \n2020-07-30              5.0             0.01             0.96          0.02   \n2020-07-31             27.0             0.01             0.96          0.02   \n2020-08-01              3.0             0.01             0.96          0.02   \n2020-08-02             17.0             0.01             0.96          0.02   \n2020-08-03              4.0             0.01             0.96          0.02   \n\n            Cases per 1mil pop  \nDate                            \n2020-01-22                0.00  \n2020-01-23                0.00  \n2020-01-24                0.00  \n2020-01-25                0.09  \n2020-01-26                0.12  \n...                        ...  \n2020-07-30              276.96  \n2020-07-31              277.33  \n2020-08-01              277.61  \n2020-08-02              278.04  \n2020-08-03              278.10  \n\n[195 rows x 11 columns]",
      "text/html": "<div>\n<style scoped>\n    .dataframe tbody tr th:only-of-type {\n        vertical-align: middle;\n    }\n\n    .dataframe tbody tr th {\n        vertical-align: top;\n    }\n\n    .dataframe thead th {\n        text-align: right;\n    }\n</style>\n<table border=\"1\" class=\"dataframe\">\n  <thead>\n    <tr style=\"text-align: right;\">\n      <th></th>\n      <th>Confirmed</th>\n      <th>Deaths</th>\n      <th>Recovered</th>\n      <th>Active</th>\n      <th>Daily Cases</th>\n      <th>Daily Deaths</th>\n      <th>Daily Recovered</th>\n      <th>Mortality Rates</th>\n      <th>Recovered Rates</th>\n      <th>Active Rates</th>\n      <th>Cases per 1mil pop</th>\n    </tr>\n    <tr>\n      <th>Date</th>\n      <th></th>\n      <th></th>\n      <th></th>\n      <th></th>\n      <th></th>\n      <th></th>\n      <th></th>\n      <th></th>\n      <th></th>\n      <th></th>\n      <th></th>\n    </tr>\n  </thead>\n  <tbody>\n    <tr>\n      <th>2020-01-22</th>\n      <td>0</td>\n      <td>0</td>\n      <td>0</td>\n      <td>0</td>\n      <td>0.0</td>\n      <td>0.0</td>\n      <td>0.0</td>\n      <td>0.00</td>\n      <td>0.00</td>\n      <td>0.00</td>\n      <td>0.00</td>\n    </tr>\n    <tr>\n      <th>2020-01-23</th>\n      <td>0</td>\n      <td>0</td>\n      <td>0</td>\n      <td>0</td>\n      <td>0.0</td>\n      <td>0.0</td>\n      <td>0.0</td>\n      <td>0.00</td>\n      <td>0.00</td>\n      <td>0.00</td>\n      <td>0.00</td>\n    </tr>\n    <tr>\n      <th>2020-01-24</th>\n      <td>0</td>\n      <td>0</td>\n      <td>0</td>\n      <td>0</td>\n      <td>0.0</td>\n      <td>0.0</td>\n      <td>0.0</td>\n      <td>0.00</td>\n      <td>0.00</td>\n      <td>0.00</td>\n      <td>0.00</td>\n    </tr>\n    <tr>\n      <th>2020-01-25</th>\n      <td>3</td>\n      <td>0</td>\n      <td>0</td>\n      <td>3</td>\n      <td>3.0</td>\n      <td>0.0</td>\n      <td>0.0</td>\n      <td>0.00</td>\n      <td>0.00</td>\n      <td>1.00</td>\n      <td>0.09</td>\n    </tr>\n    <tr>\n      <th>2020-01-26</th>\n      <td>4</td>\n      <td>0</td>\n      <td>0</td>\n      <td>4</td>\n      <td>1.0</td>\n      <td>0.0</td>\n      <td>0.0</td>\n      <td>0.00</td>\n      <td>0.00</td>\n      <td>1.00</td>\n      <td>0.12</td>\n    </tr>\n    <tr>\n      <th>...</th>\n      <td>...</td>\n      <td>...</td>\n      <td>...</td>\n      <td>...</td>\n      <td>...</td>\n      <td>...</td>\n      <td>...</td>\n      <td>...</td>\n      <td>...</td>\n      <td>...</td>\n      <td>...</td>\n    </tr>\n    <tr>\n      <th>2020-07-30</th>\n      <td>8964</td>\n      <td>124</td>\n      <td>8617</td>\n      <td>223</td>\n      <td>8.0</td>\n      <td>0.0</td>\n      <td>5.0</td>\n      <td>0.01</td>\n      <td>0.96</td>\n      <td>0.02</td>\n      <td>276.96</td>\n    </tr>\n    <tr>\n      <th>2020-07-31</th>\n      <td>8976</td>\n      <td>125</td>\n      <td>8644</td>\n      <td>207</td>\n      <td>12.0</td>\n      <td>1.0</td>\n      <td>27.0</td>\n      <td>0.01</td>\n      <td>0.96</td>\n      <td>0.02</td>\n      <td>277.33</td>\n    </tr>\n    <tr>\n      <th>2020-08-01</th>\n      <td>8985</td>\n      <td>125</td>\n      <td>8647</td>\n      <td>213</td>\n      <td>9.0</td>\n      <td>0.0</td>\n      <td>3.0</td>\n      <td>0.01</td>\n      <td>0.96</td>\n      <td>0.02</td>\n      <td>277.61</td>\n    </tr>\n    <tr>\n      <th>2020-08-02</th>\n      <td>8999</td>\n      <td>125</td>\n      <td>8664</td>\n      <td>210</td>\n      <td>14.0</td>\n      <td>0.0</td>\n      <td>17.0</td>\n      <td>0.01</td>\n      <td>0.96</td>\n      <td>0.02</td>\n      <td>278.04</td>\n    </tr>\n    <tr>\n      <th>2020-08-03</th>\n      <td>9001</td>\n      <td>125</td>\n      <td>8668</td>\n      <td>208</td>\n      <td>2.0</td>\n      <td>0.0</td>\n      <td>4.0</td>\n      <td>0.01</td>\n      <td>0.96</td>\n      <td>0.02</td>\n      <td>278.10</td>\n    </tr>\n  </tbody>\n</table>\n<p>195 rows × 11 columns</p>\n</div>"
     },
     "metadata": {},
     "execution_count": 251
    }
   ],
   "source": [
    "# rename columns date to strip of time info\n",
    "for item in df.index:\n",
    "    df.rename(index={item: str(item)[:10]}, inplace=True)\n",
    "df"
   ]
  },
  {
   "cell_type": "code",
   "execution_count": 252,
   "metadata": {},
   "outputs": [],
   "source": [
    "# Population by Country data pulled from UN [source: https://population.un.org/wpp/Download/Standard/Population/] edited to conform to country's name\n",
    "pop_df = pd.read_csv('../data/population.csv')\n",
    "\n",
    "for index, item in enumerate(pop_df['Pop.(\\'000)']):\n",
    "    # strip empty spaces and convert to integer (in millions)\n",
    "    pop_df.loc[index, 'Pop.(\\'000)'] = int(item.replace(' ', ''))\n",
    "    pop_df.loc[index, 'Pop.(\\'000)'] = pop_df.loc[index, 'Pop.(\\'000)'] * 1000 \n",
    "\n",
    "    # rename Country's name to conform to covid's dataframe\n",
    "    pop_df.loc[index, 'Country'] = pop_df.loc[index, 'Country'].lower().replace(' ', '-')\n",
    "\n",
    "pop_df.set_index('Country', inplace=True)"
   ]
  },
  {
   "cell_type": "markdown",
   "metadata": {},
   "source": [
    "## Data Crunching to form new dataset\n"
   ]
  },
  {
   "cell_type": "code",
   "execution_count": 253,
   "metadata": {
    "tags": []
   },
   "outputs": [
    {
     "output_type": "execute_result",
     "data": {
      "text/plain": "            Confirmed  Deaths  Recovered  Active  Daily Cases  Daily Deaths  \\\nDate                                                                          \n2020-01-22          0       0          0       0          0.0           0.0   \n2020-01-23          0       0          0       0          0.0           0.0   \n2020-01-24          0       0          0       0          0.0           0.0   \n2020-01-25          3       0          0       3          3.0           0.0   \n2020-01-26          4       0          0       4          1.0           0.0   \n...               ...     ...        ...     ...          ...           ...   \n2020-07-30       8964     124       8617     223          8.0           0.0   \n2020-07-31       8976     125       8644     207         12.0           1.0   \n2020-08-01       8985     125       8647     213          9.0           0.0   \n2020-08-02       8999     125       8664     210         14.0           0.0   \n2020-08-03       9001     125       8668     208          2.0           0.0   \n\n            Daily Recovered  Mortality Rates  Recovered Rates  Active Rates  \\\nDate                                                                          \n2020-01-22              0.0             0.00             0.00          0.00   \n2020-01-23              0.0             0.00             0.00          0.00   \n2020-01-24              0.0             0.00             0.00          0.00   \n2020-01-25              0.0             0.00             0.00          1.00   \n2020-01-26              0.0             0.00             0.00          1.00   \n...                     ...              ...              ...           ...   \n2020-07-30              5.0             0.01             0.96          0.02   \n2020-07-31             27.0             0.01             0.96          0.02   \n2020-08-01              3.0             0.01             0.96          0.02   \n2020-08-02             17.0             0.01             0.96          0.02   \n2020-08-03              4.0             0.01             0.96          0.02   \n\n            Cases per 1mil pop  \nDate                            \n2020-01-22                0.00  \n2020-01-23                0.00  \n2020-01-24                0.00  \n2020-01-25                0.09  \n2020-01-26                0.12  \n...                        ...  \n2020-07-30              276.96  \n2020-07-31              277.33  \n2020-08-01              277.61  \n2020-08-02              278.04  \n2020-08-03              278.10  \n\n[195 rows x 11 columns]",
      "text/html": "<div>\n<style scoped>\n    .dataframe tbody tr th:only-of-type {\n        vertical-align: middle;\n    }\n\n    .dataframe tbody tr th {\n        vertical-align: top;\n    }\n\n    .dataframe thead th {\n        text-align: right;\n    }\n</style>\n<table border=\"1\" class=\"dataframe\">\n  <thead>\n    <tr style=\"text-align: right;\">\n      <th></th>\n      <th>Confirmed</th>\n      <th>Deaths</th>\n      <th>Recovered</th>\n      <th>Active</th>\n      <th>Daily Cases</th>\n      <th>Daily Deaths</th>\n      <th>Daily Recovered</th>\n      <th>Mortality Rates</th>\n      <th>Recovered Rates</th>\n      <th>Active Rates</th>\n      <th>Cases per 1mil pop</th>\n    </tr>\n    <tr>\n      <th>Date</th>\n      <th></th>\n      <th></th>\n      <th></th>\n      <th></th>\n      <th></th>\n      <th></th>\n      <th></th>\n      <th></th>\n      <th></th>\n      <th></th>\n      <th></th>\n    </tr>\n  </thead>\n  <tbody>\n    <tr>\n      <th>2020-01-22</th>\n      <td>0</td>\n      <td>0</td>\n      <td>0</td>\n      <td>0</td>\n      <td>0.0</td>\n      <td>0.0</td>\n      <td>0.0</td>\n      <td>0.00</td>\n      <td>0.00</td>\n      <td>0.00</td>\n      <td>0.00</td>\n    </tr>\n    <tr>\n      <th>2020-01-23</th>\n      <td>0</td>\n      <td>0</td>\n      <td>0</td>\n      <td>0</td>\n      <td>0.0</td>\n      <td>0.0</td>\n      <td>0.0</td>\n      <td>0.00</td>\n      <td>0.00</td>\n      <td>0.00</td>\n      <td>0.00</td>\n    </tr>\n    <tr>\n      <th>2020-01-24</th>\n      <td>0</td>\n      <td>0</td>\n      <td>0</td>\n      <td>0</td>\n      <td>0.0</td>\n      <td>0.0</td>\n      <td>0.0</td>\n      <td>0.00</td>\n      <td>0.00</td>\n      <td>0.00</td>\n      <td>0.00</td>\n    </tr>\n    <tr>\n      <th>2020-01-25</th>\n      <td>3</td>\n      <td>0</td>\n      <td>0</td>\n      <td>3</td>\n      <td>3.0</td>\n      <td>0.0</td>\n      <td>0.0</td>\n      <td>0.00</td>\n      <td>0.00</td>\n      <td>1.00</td>\n      <td>0.09</td>\n    </tr>\n    <tr>\n      <th>2020-01-26</th>\n      <td>4</td>\n      <td>0</td>\n      <td>0</td>\n      <td>4</td>\n      <td>1.0</td>\n      <td>0.0</td>\n      <td>0.0</td>\n      <td>0.00</td>\n      <td>0.00</td>\n      <td>1.00</td>\n      <td>0.12</td>\n    </tr>\n    <tr>\n      <th>...</th>\n      <td>...</td>\n      <td>...</td>\n      <td>...</td>\n      <td>...</td>\n      <td>...</td>\n      <td>...</td>\n      <td>...</td>\n      <td>...</td>\n      <td>...</td>\n      <td>...</td>\n      <td>...</td>\n    </tr>\n    <tr>\n      <th>2020-07-30</th>\n      <td>8964</td>\n      <td>124</td>\n      <td>8617</td>\n      <td>223</td>\n      <td>8.0</td>\n      <td>0.0</td>\n      <td>5.0</td>\n      <td>0.01</td>\n      <td>0.96</td>\n      <td>0.02</td>\n      <td>276.96</td>\n    </tr>\n    <tr>\n      <th>2020-07-31</th>\n      <td>8976</td>\n      <td>125</td>\n      <td>8644</td>\n      <td>207</td>\n      <td>12.0</td>\n      <td>1.0</td>\n      <td>27.0</td>\n      <td>0.01</td>\n      <td>0.96</td>\n      <td>0.02</td>\n      <td>277.33</td>\n    </tr>\n    <tr>\n      <th>2020-08-01</th>\n      <td>8985</td>\n      <td>125</td>\n      <td>8647</td>\n      <td>213</td>\n      <td>9.0</td>\n      <td>0.0</td>\n      <td>3.0</td>\n      <td>0.01</td>\n      <td>0.96</td>\n      <td>0.02</td>\n      <td>277.61</td>\n    </tr>\n    <tr>\n      <th>2020-08-02</th>\n      <td>8999</td>\n      <td>125</td>\n      <td>8664</td>\n      <td>210</td>\n      <td>14.0</td>\n      <td>0.0</td>\n      <td>17.0</td>\n      <td>0.01</td>\n      <td>0.96</td>\n      <td>0.02</td>\n      <td>278.04</td>\n    </tr>\n    <tr>\n      <th>2020-08-03</th>\n      <td>9001</td>\n      <td>125</td>\n      <td>8668</td>\n      <td>208</td>\n      <td>2.0</td>\n      <td>0.0</td>\n      <td>4.0</td>\n      <td>0.01</td>\n      <td>0.96</td>\n      <td>0.02</td>\n      <td>278.10</td>\n    </tr>\n  </tbody>\n</table>\n<p>195 rows × 11 columns</p>\n</div>"
     },
     "metadata": {},
     "execution_count": 253
    }
   ],
   "source": [
    "daily_cases = []\n",
    "daily_deaths = []\n",
    "daily_recovered = []\n",
    "mortality_rate = []\n",
    "recovered_rate = []\n",
    "active_rate = []\n",
    "cases_per_million_pop = []\n",
    "\n",
    "def append_rate_data(index):\n",
    "    \"\"\" to append into list after calculation of\n",
    "            - mortality rate\n",
    "            - recovered rate\n",
    "            - active rate\n",
    "            - cases per 1mil population\n",
    "    \"\"\"\n",
    "    \n",
    "    # TODO: catch error for division with 0.0 (Not Working)\n",
    "  \n",
    "    mortality_rate.append(round((df.loc[df.index[index], 'Deaths'] / df.loc[df.index[index], 'Confirmed']) * 100, 2))\n",
    "    recovered_rate.append(round((df.loc[df.index[index], 'Recovered'] / df.loc[df.index[index], 'Confirmed']) * 100, 2))\n",
    "    active_rate.append(round((df.loc[df.index[index], 'Active'] / df.loc[df.index[index], 'Confirmed']) * 100, 2))\n",
    "    cases_per_million_pop.append(round((df.loc[df.index[index], 'Confirmed'] / pop_df.loc[COUNTRY_LOC, 'Pop.(\\'000)']) * 1000000, 0))    \n",
    "\n",
    "      \n",
    "for index, item in enumerate(df.index):\n",
    "    if item == df.index[0]:\n",
    "        new_case, new_death, new_recovered = df.loc[df.index[0], ['Confirmed', 'Deaths', 'Recovered']] \n",
    "        daily_cases.append(new_case)\n",
    "        daily_deaths.append(new_death)\n",
    "        daily_recovered.append(new_recovered)\n",
    "\n",
    "    else:\n",
    "        new_case, new_death, new_recovered = df.loc[df.index[index], ['Confirmed', 'Deaths', 'Recovered']] \\\n",
    "                                            - df.loc[df.index[index - 1], ['Confirmed', 'Deaths', 'Recovered']]\n",
    "        daily_cases.append(new_case)\n",
    "        daily_deaths.append(new_death)\n",
    "        daily_recovered.append(new_recovered)\n",
    "\n",
    "    df.loc[item, ['Daily Cases', 'Daily Deaths', 'Daily Recovered']] \\\n",
    "                  = daily_cases[index], daily_deaths[index], daily_recovered[index]\n",
    "\n",
    "# release unwanted objects from memory\n",
    "del daily_cases, daily_deaths, daily_recovered\n",
    "\n",
    "\n",
    "df['Mortality Rates'] = round(df['Deaths'].divide(df ['Confirmed']).fillna(0.0), 2)\n",
    "df['Recovered Rates'] = round(df['Recovered'].divide(df ['Confirmed']).fillna(0.0), 2)\n",
    "df['Active Rates'] = round(df['Active'].divide(df ['Confirmed']).fillna(0.0), 2)\n",
    "df['Cases per 1mil pop'] = round(df['Confirmed'] / pop_df.loc[COUNTRY_LOC, 'Pop.(\\'000)'] * 1000000, 2)   \n",
    "\n",
    "# TODO: add to df column\n",
    "\n",
    "df\n"
   ]
  },
  {
   "cell_type": "code",
   "execution_count": 259,
   "metadata": {
    "scrolled": true
   },
   "outputs": [
    {
     "output_type": "execute_result",
     "data": {
      "text/plain": "            Confirmed  Deaths  Recovered  Active  Daily Cases  Daily Deaths  \\\nDate                                                                          \n2020-07-28       8943     124       8607     212         39.0           0.0   \n2020-07-29       8956     124       8612     220         13.0           0.0   \n2020-07-30       8964     124       8617     223          8.0           0.0   \n2020-07-31       8976     125       8644     207         12.0           1.0   \n2020-08-01       8985     125       8647     213          9.0           0.0   \n2020-08-02       8999     125       8664     210         14.0           0.0   \n2020-08-03       9001     125       8668     208          2.0           0.0   \n\n            Daily Recovered  Mortality Rates  Recovered Rates  Active Rates  \\\nDate                                                                          \n2020-07-28              6.0             0.01             0.96          0.02   \n2020-07-29              5.0             0.01             0.96          0.02   \n2020-07-30              5.0             0.01             0.96          0.02   \n2020-07-31             27.0             0.01             0.96          0.02   \n2020-08-01              3.0             0.01             0.96          0.02   \n2020-08-02             17.0             0.01             0.96          0.02   \n2020-08-03              4.0             0.01             0.96          0.02   \n\n            Cases per 1mil pop  \nDate                            \n2020-07-28              276.31  \n2020-07-29              276.71  \n2020-07-30              276.96  \n2020-07-31              277.33  \n2020-08-01              277.61  \n2020-08-02              278.04  \n2020-08-03              278.10  ",
      "text/html": "<div>\n<style scoped>\n    .dataframe tbody tr th:only-of-type {\n        vertical-align: middle;\n    }\n\n    .dataframe tbody tr th {\n        vertical-align: top;\n    }\n\n    .dataframe thead th {\n        text-align: right;\n    }\n</style>\n<table border=\"1\" class=\"dataframe\">\n  <thead>\n    <tr style=\"text-align: right;\">\n      <th></th>\n      <th>Confirmed</th>\n      <th>Deaths</th>\n      <th>Recovered</th>\n      <th>Active</th>\n      <th>Daily Cases</th>\n      <th>Daily Deaths</th>\n      <th>Daily Recovered</th>\n      <th>Mortality Rates</th>\n      <th>Recovered Rates</th>\n      <th>Active Rates</th>\n      <th>Cases per 1mil pop</th>\n    </tr>\n    <tr>\n      <th>Date</th>\n      <th></th>\n      <th></th>\n      <th></th>\n      <th></th>\n      <th></th>\n      <th></th>\n      <th></th>\n      <th></th>\n      <th></th>\n      <th></th>\n      <th></th>\n    </tr>\n  </thead>\n  <tbody>\n    <tr>\n      <th>2020-07-28</th>\n      <td>8943</td>\n      <td>124</td>\n      <td>8607</td>\n      <td>212</td>\n      <td>39.0</td>\n      <td>0.0</td>\n      <td>6.0</td>\n      <td>0.01</td>\n      <td>0.96</td>\n      <td>0.02</td>\n      <td>276.31</td>\n    </tr>\n    <tr>\n      <th>2020-07-29</th>\n      <td>8956</td>\n      <td>124</td>\n      <td>8612</td>\n      <td>220</td>\n      <td>13.0</td>\n      <td>0.0</td>\n      <td>5.0</td>\n      <td>0.01</td>\n      <td>0.96</td>\n      <td>0.02</td>\n      <td>276.71</td>\n    </tr>\n    <tr>\n      <th>2020-07-30</th>\n      <td>8964</td>\n      <td>124</td>\n      <td>8617</td>\n      <td>223</td>\n      <td>8.0</td>\n      <td>0.0</td>\n      <td>5.0</td>\n      <td>0.01</td>\n      <td>0.96</td>\n      <td>0.02</td>\n      <td>276.96</td>\n    </tr>\n    <tr>\n      <th>2020-07-31</th>\n      <td>8976</td>\n      <td>125</td>\n      <td>8644</td>\n      <td>207</td>\n      <td>12.0</td>\n      <td>1.0</td>\n      <td>27.0</td>\n      <td>0.01</td>\n      <td>0.96</td>\n      <td>0.02</td>\n      <td>277.33</td>\n    </tr>\n    <tr>\n      <th>2020-08-01</th>\n      <td>8985</td>\n      <td>125</td>\n      <td>8647</td>\n      <td>213</td>\n      <td>9.0</td>\n      <td>0.0</td>\n      <td>3.0</td>\n      <td>0.01</td>\n      <td>0.96</td>\n      <td>0.02</td>\n      <td>277.61</td>\n    </tr>\n    <tr>\n      <th>2020-08-02</th>\n      <td>8999</td>\n      <td>125</td>\n      <td>8664</td>\n      <td>210</td>\n      <td>14.0</td>\n      <td>0.0</td>\n      <td>17.0</td>\n      <td>0.01</td>\n      <td>0.96</td>\n      <td>0.02</td>\n      <td>278.04</td>\n    </tr>\n    <tr>\n      <th>2020-08-03</th>\n      <td>9001</td>\n      <td>125</td>\n      <td>8668</td>\n      <td>208</td>\n      <td>2.0</td>\n      <td>0.0</td>\n      <td>4.0</td>\n      <td>0.01</td>\n      <td>0.96</td>\n      <td>0.02</td>\n      <td>278.10</td>\n    </tr>\n  </tbody>\n</table>\n</div>"
     },
     "metadata": {},
     "execution_count": 259
    }
   ],
   "source": [
    "# replace NaN to zero\n",
    "#df.fillna(0.0, inplace=True)\n",
    "df.tail(7)"
   ]
  },
  {
   "cell_type": "code",
   "execution_count": 256,
   "metadata": {},
   "outputs": [
    {
     "output_type": "execute_result",
     "data": {
      "text/plain": "Daily Cases        277.0\nDaily Deaths         8.0\nDaily Recovered    333.0\ndtype: float64"
     },
     "metadata": {},
     "execution_count": 256
    }
   ],
   "source": [
    "# Max Daily Record\n",
    "round(df[['Daily Cases', 'Daily Deaths', 'Daily Recovered']].max(), 2)"
   ]
  },
  {
   "cell_type": "code",
   "execution_count": 257,
   "metadata": {},
   "outputs": [
    {
     "output_type": "execute_result",
     "data": {
      "text/plain": "Daily Cases        46.16\nDaily Deaths        0.64\nDaily Recovered    44.45\ndtype: float64"
     },
     "metadata": {},
     "execution_count": 257
    }
   ],
   "source": [
    "round(df[['Daily Cases', 'Daily Deaths', 'Daily Recovered']].mean(), 2)"
   ]
  },
  {
   "cell_type": "code",
   "execution_count": 258,
   "metadata": {},
   "outputs": [
    {
     "output_type": "execute_result",
     "data": {
      "text/plain": "Confirmed             9001.00\nDeaths                 125.00\nRecovered             8668.00\nActive                 208.00\nDaily Cases              2.00\nDaily Deaths             0.00\nDaily Recovered          4.00\nMortality Rates          0.01\nRecovered Rates          0.96\nActive Rates             0.02\nCases per 1mil pop     278.10\nName: 2020-08-03, dtype: float64"
     },
     "metadata": {},
     "execution_count": 258
    }
   ],
   "source": [
    "last_entry_date = df.index[len(df.index) - 1]\n",
    "df.loc[last_entry_date]"
   ]
  },
  {
   "cell_type": "code",
   "execution_count": null,
   "metadata": {},
   "outputs": [],
   "source": []
  }
 ],
 "metadata": {
  "kernelspec": {
   "display_name": "Python 3.8.5 64-bit ('covid19_analysis': pipenv)",
   "language": "python",
   "name": "python38564bitcovid19analysispipenvf5d08d121e804a9e97298d31ee73a5b4"
  },
  "language_info": {
   "codemirror_mode": {
    "name": "ipython",
    "version": 3
   },
   "file_extension": ".py",
   "mimetype": "text/x-python",
   "name": "python",
   "nbconvert_exporter": "python",
   "pygments_lexer": "ipython3",
   "version": "3.8.5-final"
  }
 },
 "nbformat": 4,
 "nbformat_minor": 2
}