{
 "cells": [
  {
   "cell_type": "markdown",
   "metadata": {},
   "source": [
    "# Covid-19 Daily Tracking\n"
   ]
  },
  {
   "cell_type": "code",
   "execution_count": 1,
   "metadata": {
    "tags": []
   },
   "outputs": [],
   "source": [
    "import sys\n",
    "import requests\n",
    "import json\n",
    "from datetime import datetime \n",
    "import pandas as pd\n",
    "\n",
    "COUNTRY_LOC = 'malaysia'\n",
    "API_URL = 'https://api.covid19api.com/total/country/' + COUNTRY_LOC\n",
    "\n",
    "start_date = '2021-02-01'\n",
    "to_date = datetime.today()\n",
    "url_param = {'from': start_date, 'to': str(to_date)[:10]}\n",
    "\n",
    "try:\n",
    "    api_request = requests.get(API_URL, params=url_param, timeout=30)\n",
    "except requests.exceptions.RequestException as e:\n",
    "    print('Server Request Failed :', e)\n",
    "    print('Exiting ....')\n",
    "    sys.exit(0)\n",
    "\n",
    "\"\"\"\n",
    "if not api_request.ok:\n",
    "    print('Server Request Failed :', api_request.status_code, api_request.reason)\n",
    "    print('Exiting ....')\n",
    "    sys.exit(0)\n",
    "\"\"\"\n",
    "\n",
    "df = pd.DataFrame(api_request.json())\n",
    "df.set_index('Date', inplace=True)"
   ]
  },
  {
   "cell_type": "code",
   "execution_count": 2,
   "metadata": {},
   "outputs": [
    {
     "output_type": "execute_result",
     "data": {
      "text/plain": "                       Country CountryCode Province City CityCode Lat Lon  \\\nDate                                                                        \n2020-01-22T00:00:00Z  Malaysia                                      0   0   \n2020-01-23T00:00:00Z  Malaysia                                      0   0   \n2020-01-24T00:00:00Z  Malaysia                                      0   0   \n2020-01-25T00:00:00Z  Malaysia                                      0   0   \n2020-01-26T00:00:00Z  Malaysia                                      0   0   \n...                        ...         ...      ...  ...      ...  ..  ..   \n2020-07-30T00:00:00Z  Malaysia                                      0   0   \n2020-07-31T00:00:00Z  Malaysia                                      0   0   \n2020-08-01T00:00:00Z  Malaysia                                      0   0   \n2020-08-02T00:00:00Z  Malaysia                                      0   0   \n2020-08-03T00:00:00Z  Malaysia                                      0   0   \n\n                      Confirmed  Deaths  Recovered  Active  \nDate                                                        \n2020-01-22T00:00:00Z          0       0          0       0  \n2020-01-23T00:00:00Z          0       0          0       0  \n2020-01-24T00:00:00Z          0       0          0       0  \n2020-01-25T00:00:00Z          3       0          0       3  \n2020-01-26T00:00:00Z          4       0          0       4  \n...                         ...     ...        ...     ...  \n2020-07-30T00:00:00Z       8964     124       8617     223  \n2020-07-31T00:00:00Z       8976     125       8644     207  \n2020-08-01T00:00:00Z       8985     125       8647     213  \n2020-08-02T00:00:00Z       8999     125       8664     210  \n2020-08-03T00:00:00Z       9001     125       8668     208  \n\n[195 rows x 11 columns]",
      "text/html": "<div>\n<style scoped>\n    .dataframe tbody tr th:only-of-type {\n        vertical-align: middle;\n    }\n\n    .dataframe tbody tr th {\n        vertical-align: top;\n    }\n\n    .dataframe thead th {\n        text-align: right;\n    }\n</style>\n<table border=\"1\" class=\"dataframe\">\n  <thead>\n    <tr style=\"text-align: right;\">\n      <th></th>\n      <th>Country</th>\n      <th>CountryCode</th>\n      <th>Province</th>\n      <th>City</th>\n      <th>CityCode</th>\n      <th>Lat</th>\n      <th>Lon</th>\n      <th>Confirmed</th>\n      <th>Deaths</th>\n      <th>Recovered</th>\n      <th>Active</th>\n    </tr>\n    <tr>\n      <th>Date</th>\n      <th></th>\n      <th></th>\n      <th></th>\n      <th></th>\n      <th></th>\n      <th></th>\n      <th></th>\n      <th></th>\n      <th></th>\n      <th></th>\n      <th></th>\n    </tr>\n  </thead>\n  <tbody>\n    <tr>\n      <th>2020-01-22T00:00:00Z</th>\n      <td>Malaysia</td>\n      <td></td>\n      <td></td>\n      <td></td>\n      <td></td>\n      <td>0</td>\n      <td>0</td>\n      <td>0</td>\n      <td>0</td>\n      <td>0</td>\n      <td>0</td>\n    </tr>\n    <tr>\n      <th>2020-01-23T00:00:00Z</th>\n      <td>Malaysia</td>\n      <td></td>\n      <td></td>\n      <td></td>\n      <td></td>\n      <td>0</td>\n      <td>0</td>\n      <td>0</td>\n      <td>0</td>\n      <td>0</td>\n      <td>0</td>\n    </tr>\n    <tr>\n      <th>2020-01-24T00:00:00Z</th>\n      <td>Malaysia</td>\n      <td></td>\n      <td></td>\n      <td></td>\n      <td></td>\n      <td>0</td>\n      <td>0</td>\n      <td>0</td>\n      <td>0</td>\n      <td>0</td>\n      <td>0</td>\n    </tr>\n    <tr>\n      <th>2020-01-25T00:00:00Z</th>\n      <td>Malaysia</td>\n      <td></td>\n      <td></td>\n      <td></td>\n      <td></td>\n      <td>0</td>\n      <td>0</td>\n      <td>3</td>\n      <td>0</td>\n      <td>0</td>\n      <td>3</td>\n    </tr>\n    <tr>\n      <th>2020-01-26T00:00:00Z</th>\n      <td>Malaysia</td>\n      <td></td>\n      <td></td>\n      <td></td>\n      <td></td>\n      <td>0</td>\n      <td>0</td>\n      <td>4</td>\n      <td>0</td>\n      <td>0</td>\n      <td>4</td>\n    </tr>\n    <tr>\n      <th>...</th>\n      <td>...</td>\n      <td>...</td>\n      <td>...</td>\n      <td>...</td>\n      <td>...</td>\n      <td>...</td>\n      <td>...</td>\n      <td>...</td>\n      <td>...</td>\n      <td>...</td>\n      <td>...</td>\n    </tr>\n    <tr>\n      <th>2020-07-30T00:00:00Z</th>\n      <td>Malaysia</td>\n      <td></td>\n      <td></td>\n      <td></td>\n      <td></td>\n      <td>0</td>\n      <td>0</td>\n      <td>8964</td>\n      <td>124</td>\n      <td>8617</td>\n      <td>223</td>\n    </tr>\n    <tr>\n      <th>2020-07-31T00:00:00Z</th>\n      <td>Malaysia</td>\n      <td></td>\n      <td></td>\n      <td></td>\n      <td></td>\n      <td>0</td>\n      <td>0</td>\n      <td>8976</td>\n      <td>125</td>\n      <td>8644</td>\n      <td>207</td>\n    </tr>\n    <tr>\n      <th>2020-08-01T00:00:00Z</th>\n      <td>Malaysia</td>\n      <td></td>\n      <td></td>\n      <td></td>\n      <td></td>\n      <td>0</td>\n      <td>0</td>\n      <td>8985</td>\n      <td>125</td>\n      <td>8647</td>\n      <td>213</td>\n    </tr>\n    <tr>\n      <th>2020-08-02T00:00:00Z</th>\n      <td>Malaysia</td>\n      <td></td>\n      <td></td>\n      <td></td>\n      <td></td>\n      <td>0</td>\n      <td>0</td>\n      <td>8999</td>\n      <td>125</td>\n      <td>8664</td>\n      <td>210</td>\n    </tr>\n    <tr>\n      <th>2020-08-03T00:00:00Z</th>\n      <td>Malaysia</td>\n      <td></td>\n      <td></td>\n      <td></td>\n      <td></td>\n      <td>0</td>\n      <td>0</td>\n      <td>9001</td>\n      <td>125</td>\n      <td>8668</td>\n      <td>208</td>\n    </tr>\n  </tbody>\n</table>\n<p>195 rows × 11 columns</p>\n</div>"
     },
     "metadata": {},
     "execution_count": 2
    }
   ],
   "source": [
    "df"
   ]
  },
  {
   "cell_type": "code",
   "execution_count": 3,
   "metadata": {},
   "outputs": [],
   "source": [
    "# remove unwanted Columns\n",
    "df.drop(columns=['Country', 'CountryCode', 'Province', 'City', 'CityCode', 'Lat', \"Lon\"], inplace=True)"
   ]
  },
  {
   "cell_type": "code",
   "execution_count": 4,
   "metadata": {
    "tags": []
   },
   "outputs": [
    {
     "output_type": "execute_result",
     "data": {
      "text/plain": "            Confirmed  Deaths  Recovered  Active\nDate                                            \n2020-01-22          0       0          0       0\n2020-01-23          0       0          0       0\n2020-01-24          0       0          0       0\n2020-01-25          3       0          0       3\n2020-01-26          4       0          0       4\n...               ...     ...        ...     ...\n2020-07-30       8964     124       8617     223\n2020-07-31       8976     125       8644     207\n2020-08-01       8985     125       8647     213\n2020-08-02       8999     125       8664     210\n2020-08-03       9001     125       8668     208\n\n[195 rows x 4 columns]",
      "text/html": "<div>\n<style scoped>\n    .dataframe tbody tr th:only-of-type {\n        vertical-align: middle;\n    }\n\n    .dataframe tbody tr th {\n        vertical-align: top;\n    }\n\n    .dataframe thead th {\n        text-align: right;\n    }\n</style>\n<table border=\"1\" class=\"dataframe\">\n  <thead>\n    <tr style=\"text-align: right;\">\n      <th></th>\n      <th>Confirmed</th>\n      <th>Deaths</th>\n      <th>Recovered</th>\n      <th>Active</th>\n    </tr>\n    <tr>\n      <th>Date</th>\n      <th></th>\n      <th></th>\n      <th></th>\n      <th></th>\n    </tr>\n  </thead>\n  <tbody>\n    <tr>\n      <th>2020-01-22</th>\n      <td>0</td>\n      <td>0</td>\n      <td>0</td>\n      <td>0</td>\n    </tr>\n    <tr>\n      <th>2020-01-23</th>\n      <td>0</td>\n      <td>0</td>\n      <td>0</td>\n      <td>0</td>\n    </tr>\n    <tr>\n      <th>2020-01-24</th>\n      <td>0</td>\n      <td>0</td>\n      <td>0</td>\n      <td>0</td>\n    </tr>\n    <tr>\n      <th>2020-01-25</th>\n      <td>3</td>\n      <td>0</td>\n      <td>0</td>\n      <td>3</td>\n    </tr>\n    <tr>\n      <th>2020-01-26</th>\n      <td>4</td>\n      <td>0</td>\n      <td>0</td>\n      <td>4</td>\n    </tr>\n    <tr>\n      <th>...</th>\n      <td>...</td>\n      <td>...</td>\n      <td>...</td>\n      <td>...</td>\n    </tr>\n    <tr>\n      <th>2020-07-30</th>\n      <td>8964</td>\n      <td>124</td>\n      <td>8617</td>\n      <td>223</td>\n    </tr>\n    <tr>\n      <th>2020-07-31</th>\n      <td>8976</td>\n      <td>125</td>\n      <td>8644</td>\n      <td>207</td>\n    </tr>\n    <tr>\n      <th>2020-08-01</th>\n      <td>8985</td>\n      <td>125</td>\n      <td>8647</td>\n      <td>213</td>\n    </tr>\n    <tr>\n      <th>2020-08-02</th>\n      <td>8999</td>\n      <td>125</td>\n      <td>8664</td>\n      <td>210</td>\n    </tr>\n    <tr>\n      <th>2020-08-03</th>\n      <td>9001</td>\n      <td>125</td>\n      <td>8668</td>\n      <td>208</td>\n    </tr>\n  </tbody>\n</table>\n<p>195 rows × 4 columns</p>\n</div>"
     },
     "metadata": {},
     "execution_count": 4
    }
   ],
   "source": [
    "# rename columns date to strip of time info\n",
    "for item in df.index:\n",
    "    df.rename(index={item: str(item)[:10]}, inplace=True)\n",
    "df"
   ]
  },
  {
   "cell_type": "code",
   "execution_count": 5,
   "metadata": {},
   "outputs": [],
   "source": [
    "# Population by Country data pulled from UN [source: https://population.un.org/wpp/Download/Standard/Population/] edited to conform to country's name\n",
    "pop_df = pd.read_csv('../data/population.csv')\n",
    "\n",
    "for index, item in enumerate(pop_df['Pop.(\\'000)']):\n",
    "    # strip empty spaces and convert to integer (in millions)\n",
    "    pop_df.loc[index, 'Pop.(\\'000)'] = int(item.replace(' ', ''))\n",
    "    pop_df.loc[index, 'Pop.(\\'000)'] = pop_df.loc[index, 'Pop.(\\'000)'] * 1000 \n",
    "\n",
    "    # rename Country's name to conform to covid's dataframe\n",
    "    pop_df.loc[index, 'Country'] = pop_df.loc[index, 'Country'].lower().replace(' ', '-')\n",
    "\n",
    "pop_df.set_index('Country', inplace=True)"
   ]
  },
  {
   "cell_type": "markdown",
   "metadata": {},
   "source": [
    "## Data Crunching to form new dataset\n"
   ]
  },
  {
   "cell_type": "code",
   "execution_count": 6,
   "metadata": {
    "tags": []
   },
   "outputs": [
    {
     "output_type": "execute_result",
     "data": {
      "text/plain": "            Confirmed  Deaths  Recovered  Active  Daily Cases  Daily Deaths  \\\nDate                                                                          \n2020-01-22          0       0          0       0          0.0           0.0   \n2020-01-23          0       0          0       0          0.0           0.0   \n2020-01-24          0       0          0       0          0.0           0.0   \n2020-01-25          3       0          0       3          3.0           0.0   \n2020-01-26          4       0          0       4          1.0           0.0   \n...               ...     ...        ...     ...          ...           ...   \n2020-07-30       8964     124       8617     223          8.0           0.0   \n2020-07-31       8976     125       8644     207         12.0           1.0   \n2020-08-01       8985     125       8647     213          9.0           0.0   \n2020-08-02       8999     125       8664     210         14.0           0.0   \n2020-08-03       9001     125       8668     208          2.0           0.0   \n\n            Daily Recovered  Mortality Rates  Recovered Rates  Active Rates  \\\nDate                                                                          \n2020-01-22              0.0             0.00             0.00          0.00   \n2020-01-23              0.0             0.00             0.00          0.00   \n2020-01-24              0.0             0.00             0.00          0.00   \n2020-01-25              0.0             0.00             0.00          1.00   \n2020-01-26              0.0             0.00             0.00          1.00   \n...                     ...              ...              ...           ...   \n2020-07-30              5.0             0.01             0.96          0.02   \n2020-07-31             27.0             0.01             0.96          0.02   \n2020-08-01              3.0             0.01             0.96          0.02   \n2020-08-02             17.0             0.01             0.96          0.02   \n2020-08-03              4.0             0.01             0.96          0.02   \n\n            Cases per 1mil pop  \nDate                            \n2020-01-22                0.00  \n2020-01-23                0.00  \n2020-01-24                0.00  \n2020-01-25                0.09  \n2020-01-26                0.12  \n...                        ...  \n2020-07-30              276.96  \n2020-07-31              277.33  \n2020-08-01              277.61  \n2020-08-02              278.04  \n2020-08-03              278.10  \n\n[195 rows x 11 columns]",
      "text/html": "<div>\n<style scoped>\n    .dataframe tbody tr th:only-of-type {\n        vertical-align: middle;\n    }\n\n    .dataframe tbody tr th {\n        vertical-align: top;\n    }\n\n    .dataframe thead th {\n        text-align: right;\n    }\n</style>\n<table border=\"1\" class=\"dataframe\">\n  <thead>\n    <tr style=\"text-align: right;\">\n      <th></th>\n      <th>Confirmed</th>\n      <th>Deaths</th>\n      <th>Recovered</th>\n      <th>Active</th>\n      <th>Daily Cases</th>\n      <th>Daily Deaths</th>\n      <th>Daily Recovered</th>\n      <th>Mortality Rates</th>\n      <th>Recovered Rates</th>\n      <th>Active Rates</th>\n      <th>Cases per 1mil pop</th>\n    </tr>\n    <tr>\n      <th>Date</th>\n      <th></th>\n      <th></th>\n      <th></th>\n      <th></th>\n      <th></th>\n      <th></th>\n      <th></th>\n      <th></th>\n      <th></th>\n      <th></th>\n      <th></th>\n    </tr>\n  </thead>\n  <tbody>\n    <tr>\n      <th>2020-01-22</th>\n      <td>0</td>\n      <td>0</td>\n      <td>0</td>\n      <td>0</td>\n      <td>0.0</td>\n      <td>0.0</td>\n      <td>0.0</td>\n      <td>0.00</td>\n      <td>0.00</td>\n      <td>0.00</td>\n      <td>0.00</td>\n    </tr>\n    <tr>\n      <th>2020-01-23</th>\n      <td>0</td>\n      <td>0</td>\n      <td>0</td>\n      <td>0</td>\n      <td>0.0</td>\n      <td>0.0</td>\n      <td>0.0</td>\n      <td>0.00</td>\n      <td>0.00</td>\n      <td>0.00</td>\n      <td>0.00</td>\n    </tr>\n    <tr>\n      <th>2020-01-24</th>\n      <td>0</td>\n      <td>0</td>\n      <td>0</td>\n      <td>0</td>\n      <td>0.0</td>\n      <td>0.0</td>\n      <td>0.0</td>\n      <td>0.00</td>\n      <td>0.00</td>\n      <td>0.00</td>\n      <td>0.00</td>\n    </tr>\n    <tr>\n      <th>2020-01-25</th>\n      <td>3</td>\n      <td>0</td>\n      <td>0</td>\n      <td>3</td>\n      <td>3.0</td>\n      <td>0.0</td>\n      <td>0.0</td>\n      <td>0.00</td>\n      <td>0.00</td>\n      <td>1.00</td>\n      <td>0.09</td>\n    </tr>\n    <tr>\n      <th>2020-01-26</th>\n      <td>4</td>\n      <td>0</td>\n      <td>0</td>\n      <td>4</td>\n      <td>1.0</td>\n      <td>0.0</td>\n      <td>0.0</td>\n      <td>0.00</td>\n      <td>0.00</td>\n      <td>1.00</td>\n      <td>0.12</td>\n    </tr>\n    <tr>\n      <th>...</th>\n      <td>...</td>\n      <td>...</td>\n      <td>...</td>\n      <td>...</td>\n      <td>...</td>\n      <td>...</td>\n      <td>...</td>\n      <td>...</td>\n      <td>...</td>\n      <td>...</td>\n      <td>...</td>\n    </tr>\n    <tr>\n      <th>2020-07-30</th>\n      <td>8964</td>\n      <td>124</td>\n      <td>8617</td>\n      <td>223</td>\n      <td>8.0</td>\n      <td>0.0</td>\n      <td>5.0</td>\n      <td>0.01</td>\n      <td>0.96</td>\n      <td>0.02</td>\n      <td>276.96</td>\n    </tr>\n    <tr>\n      <th>2020-07-31</th>\n      <td>8976</td>\n      <td>125</td>\n      <td>8644</td>\n      <td>207</td>\n      <td>12.0</td>\n      <td>1.0</td>\n      <td>27.0</td>\n      <td>0.01</td>\n      <td>0.96</td>\n      <td>0.02</td>\n      <td>277.33</td>\n    </tr>\n    <tr>\n      <th>2020-08-01</th>\n      <td>8985</td>\n      <td>125</td>\n      <td>8647</td>\n      <td>213</td>\n      <td>9.0</td>\n      <td>0.0</td>\n      <td>3.0</td>\n      <td>0.01</td>\n      <td>0.96</td>\n      <td>0.02</td>\n      <td>277.61</td>\n    </tr>\n    <tr>\n      <th>2020-08-02</th>\n      <td>8999</td>\n      <td>125</td>\n      <td>8664</td>\n      <td>210</td>\n      <td>14.0</td>\n      <td>0.0</td>\n      <td>17.0</td>\n      <td>0.01</td>\n      <td>0.96</td>\n      <td>0.02</td>\n      <td>278.04</td>\n    </tr>\n    <tr>\n      <th>2020-08-03</th>\n      <td>9001</td>\n      <td>125</td>\n      <td>8668</td>\n      <td>208</td>\n      <td>2.0</td>\n      <td>0.0</td>\n      <td>4.0</td>\n      <td>0.01</td>\n      <td>0.96</td>\n      <td>0.02</td>\n      <td>278.10</td>\n    </tr>\n  </tbody>\n</table>\n<p>195 rows × 11 columns</p>\n</div>"
     },
     "metadata": {},
     "execution_count": 6
    }
   ],
   "source": [
    "daily_cases = []\n",
    "daily_deaths = []\n",
    "daily_recovered = []\n",
    "mortality_rate = []\n",
    "recovered_rate = []\n",
    "active_rate = []\n",
    "cases_per_million_pop = []\n",
    "\n",
    "def append_rate_data(index):\n",
    "    \"\"\" to append into list after calculation of\n",
    "            - mortality rate\n",
    "            - recovered rate\n",
    "            - active rate\n",
    "            - cases per 1mil population\n",
    "    \"\"\"\n",
    "    \n",
    "    # TODO: catch error for division with 0.0 (Not Working)\n",
    "  \n",
    "    mortality_rate.append(round((df.loc[df.index[index], 'Deaths'] / df.loc[df.index[index], 'Confirmed']) * 100, 2))\n",
    "    recovered_rate.append(round((df.loc[df.index[index], 'Recovered'] / df.loc[df.index[index], 'Confirmed']) * 100, 2))\n",
    "    active_rate.append(round((df.loc[df.index[index], 'Active'] / df.loc[df.index[index], 'Confirmed']) * 100, 2))\n",
    "    cases_per_million_pop.append(round((df.loc[df.index[index], 'Confirmed'] / pop_df.loc[COUNTRY_LOC, 'Pop.(\\'000)']) * 1000000, 0))    \n",
    "\n",
    "      \n",
    "for index, item in enumerate(df.index):\n",
    "    if item == df.index[0]:\n",
    "        new_case, new_death, new_recovered = df.loc[df.index[0], ['Confirmed', 'Deaths', 'Recovered']] \n",
    "        daily_cases.append(new_case)\n",
    "        daily_deaths.append(new_death)\n",
    "        daily_recovered.append(new_recovered)\n",
    "\n",
    "    else:\n",
    "        new_case, new_death, new_recovered = df.loc[df.index[index], ['Confirmed', 'Deaths', 'Recovered']] \\\n",
    "                                            - df.loc[df.index[index - 1], ['Confirmed', 'Deaths', 'Recovered']]\n",
    "        daily_cases.append(new_case)\n",
    "        daily_deaths.append(new_death)\n",
    "        daily_recovered.append(new_recovered)\n",
    "\n",
    "    df.loc[item, ['Daily Cases', 'Daily Deaths', 'Daily Recovered']] \\\n",
    "                  = daily_cases[index], daily_deaths[index], daily_recovered[index]\n",
    "\n",
    "# release unwanted objects from memory\n",
    "del daily_cases, daily_deaths, daily_recovered\n",
    "\n",
    "\n",
    "df['Mortality Rates'] = round(df['Deaths'].divide(df ['Confirmed']).fillna(0.0), 2)\n",
    "df['Recovered Rates'] = round(df['Recovered'].divide(df ['Confirmed']).fillna(0.0), 2)\n",
    "df['Active Rates'] = round(df['Active'].divide(df ['Confirmed']).fillna(0.0), 2)\n",
    "df['Cases per 1mil pop'] = round(df['Confirmed'] / pop_df.loc[COUNTRY_LOC, 'Pop.(\\'000)'] * 1000000, 2)   \n",
    "\n",
    "# TODO: add to df column\n",
    "\n",
    "df\n"
   ]
  },
  {
   "cell_type": "code",
   "execution_count": 7,
   "metadata": {
    "scrolled": true
   },
   "outputs": [
    {
     "output_type": "execute_result",
     "data": {
      "text/plain": "            Confirmed  Deaths  Recovered  Active  Daily Cases  Daily Deaths  \\\nDate                                                                          \n2020-07-28       8943     124       8607     212         39.0           0.0   \n2020-07-29       8956     124       8612     220         13.0           0.0   \n2020-07-30       8964     124       8617     223          8.0           0.0   \n2020-07-31       8976     125       8644     207         12.0           1.0   \n2020-08-01       8985     125       8647     213          9.0           0.0   \n2020-08-02       8999     125       8664     210         14.0           0.0   \n2020-08-03       9001     125       8668     208          2.0           0.0   \n\n            Daily Recovered  Mortality Rates  Recovered Rates  Active Rates  \\\nDate                                                                          \n2020-07-28              6.0             0.01             0.96          0.02   \n2020-07-29              5.0             0.01             0.96          0.02   \n2020-07-30              5.0             0.01             0.96          0.02   \n2020-07-31             27.0             0.01             0.96          0.02   \n2020-08-01              3.0             0.01             0.96          0.02   \n2020-08-02             17.0             0.01             0.96          0.02   \n2020-08-03              4.0             0.01             0.96          0.02   \n\n            Cases per 1mil pop  \nDate                            \n2020-07-28              276.31  \n2020-07-29              276.71  \n2020-07-30              276.96  \n2020-07-31              277.33  \n2020-08-01              277.61  \n2020-08-02              278.04  \n2020-08-03              278.10  ",
      "text/html": "<div>\n<style scoped>\n    .dataframe tbody tr th:only-of-type {\n        vertical-align: middle;\n    }\n\n    .dataframe tbody tr th {\n        vertical-align: top;\n    }\n\n    .dataframe thead th {\n        text-align: right;\n    }\n</style>\n<table border=\"1\" class=\"dataframe\">\n  <thead>\n    <tr style=\"text-align: right;\">\n      <th></th>\n      <th>Confirmed</th>\n      <th>Deaths</th>\n      <th>Recovered</th>\n      <th>Active</th>\n      <th>Daily Cases</th>\n      <th>Daily Deaths</th>\n      <th>Daily Recovered</th>\n      <th>Mortality Rates</th>\n      <th>Recovered Rates</th>\n      <th>Active Rates</th>\n      <th>Cases per 1mil pop</th>\n    </tr>\n    <tr>\n      <th>Date</th>\n      <th></th>\n      <th></th>\n      <th></th>\n      <th></th>\n      <th></th>\n      <th></th>\n      <th></th>\n      <th></th>\n      <th></th>\n      <th></th>\n      <th></th>\n    </tr>\n  </thead>\n  <tbody>\n    <tr>\n      <th>2020-07-28</th>\n      <td>8943</td>\n      <td>124</td>\n      <td>8607</td>\n      <td>212</td>\n      <td>39.0</td>\n      <td>0.0</td>\n      <td>6.0</td>\n      <td>0.01</td>\n      <td>0.96</td>\n      <td>0.02</td>\n      <td>276.31</td>\n    </tr>\n    <tr>\n      <th>2020-07-29</th>\n      <td>8956</td>\n      <td>124</td>\n      <td>8612</td>\n      <td>220</td>\n      <td>13.0</td>\n      <td>0.0</td>\n      <td>5.0</td>\n      <td>0.01</td>\n      <td>0.96</td>\n      <td>0.02</td>\n      <td>276.71</td>\n    </tr>\n    <tr>\n      <th>2020-07-30</th>\n      <td>8964</td>\n      <td>124</td>\n      <td>8617</td>\n      <td>223</td>\n      <td>8.0</td>\n      <td>0.0</td>\n      <td>5.0</td>\n      <td>0.01</td>\n      <td>0.96</td>\n      <td>0.02</td>\n      <td>276.96</td>\n    </tr>\n    <tr>\n      <th>2020-07-31</th>\n      <td>8976</td>\n      <td>125</td>\n      <td>8644</td>\n      <td>207</td>\n      <td>12.0</td>\n      <td>1.0</td>\n      <td>27.0</td>\n      <td>0.01</td>\n      <td>0.96</td>\n      <td>0.02</td>\n      <td>277.33</td>\n    </tr>\n    <tr>\n      <th>2020-08-01</th>\n      <td>8985</td>\n      <td>125</td>\n      <td>8647</td>\n      <td>213</td>\n      <td>9.0</td>\n      <td>0.0</td>\n      <td>3.0</td>\n      <td>0.01</td>\n      <td>0.96</td>\n      <td>0.02</td>\n      <td>277.61</td>\n    </tr>\n    <tr>\n      <th>2020-08-02</th>\n      <td>8999</td>\n      <td>125</td>\n      <td>8664</td>\n      <td>210</td>\n      <td>14.0</td>\n      <td>0.0</td>\n      <td>17.0</td>\n      <td>0.01</td>\n      <td>0.96</td>\n      <td>0.02</td>\n      <td>278.04</td>\n    </tr>\n    <tr>\n      <th>2020-08-03</th>\n      <td>9001</td>\n      <td>125</td>\n      <td>8668</td>\n      <td>208</td>\n      <td>2.0</td>\n      <td>0.0</td>\n      <td>4.0</td>\n      <td>0.01</td>\n      <td>0.96</td>\n      <td>0.02</td>\n      <td>278.10</td>\n    </tr>\n  </tbody>\n</table>\n</div>"
     },
     "metadata": {},
     "execution_count": 7
    }
   ],
   "source": [
    "# replace NaN to zero\n",
    "#df.fillna(0.0, inplace=True)\n",
    "df.tail(7)"
   ]
  },
  {
   "cell_type": "code",
   "execution_count": 8,
   "metadata": {},
   "outputs": [
    {
     "output_type": "execute_result",
     "data": {
      "text/plain": "Daily Cases        277.0\nDaily Deaths         8.0\nDaily Recovered    333.0\ndtype: float64"
     },
     "metadata": {},
     "execution_count": 8
    }
   ],
   "source": [
    "# Max Daily Record\n",
    "round(df[['Daily Cases', 'Daily Deaths', 'Daily Recovered']].max(), 2)"
   ]
  },
  {
   "cell_type": "code",
   "execution_count": 9,
   "metadata": {},
   "outputs": [
    {
     "output_type": "execute_result",
     "data": {
      "text/plain": "Daily Cases        46.16\nDaily Deaths        0.64\nDaily Recovered    44.45\ndtype: float64"
     },
     "metadata": {},
     "execution_count": 9
    }
   ],
   "source": [
    "round(df[['Daily Cases', 'Daily Deaths', 'Daily Recovered']].mean(), 2)"
   ]
  },
  {
   "cell_type": "code",
   "execution_count": 10,
   "metadata": {},
   "outputs": [
    {
     "output_type": "execute_result",
     "data": {
      "text/plain": "Confirmed             9001.00\nDeaths                 125.00\nRecovered             8668.00\nActive                 208.00\nDaily Cases              2.00\nDaily Deaths             0.00\nDaily Recovered          4.00\nMortality Rates          0.01\nRecovered Rates          0.96\nActive Rates             0.02\nCases per 1mil pop     278.10\nName: 2020-08-03, dtype: float64"
     },
     "metadata": {},
     "execution_count": 10
    }
   ],
   "source": [
    "last_entry_date = df.index[len(df.index) - 1]\n",
    "df.loc[last_entry_date]"
   ]
  },
  {
   "cell_type": "code",
   "execution_count": null,
   "metadata": {},
   "outputs": [],
   "source": []
  }
 ],
 "metadata": {
  "kernelspec": {
   "display_name": "Python 3.8.5 64-bit ('covid19_analysis': pipenv)",
   "language": "python",
   "name": "python38564bitcovid19analysispipenvf5d08d121e804a9e97298d31ee73a5b4"
  },
  "language_info": {
   "codemirror_mode": {
    "name": "ipython",
    "version": 3
   },
   "file_extension": ".py",
   "mimetype": "text/x-python",
   "name": "python",
   "nbconvert_exporter": "python",
   "pygments_lexer": "ipython3",
   "version": "3.8.5-final"
  }
 },
 "nbformat": 4,
 "nbformat_minor": 2
}