{
 "metadata": {
  "language_info": {
   "codemirror_mode": {
    "name": "ipython",
    "version": 3
   },
   "file_extension": ".py",
   "mimetype": "text/x-python",
   "name": "python",
   "nbconvert_exporter": "python",
   "pygments_lexer": "ipython3",
   "version": "3.8.5-final"
  },
  "orig_nbformat": 2,
  "kernelspec": {
   "name": "python38564bitcovid19analysispipenvf5d08d121e804a9e97298d31ee73a5b4",
   "display_name": "Python 3.8.5 64-bit ('covid19_analysis': pipenv)"
  }
 },
 "nbformat": 4,
 "nbformat_minor": 2,
 "cells": [
  {
   "cell_type": "markdown",
   "metadata": {},
   "source": [
    "# Covid-19 Daily Tracking\n"
   ]
  },
  {
   "cell_type": "code",
   "execution_count": 113,
   "metadata": {
    "tags": []
   },
   "outputs": [],
   "source": [
    "import sys\n",
    "import requests\n",
    "import json\n",
    "from datetime import datetime \n",
    "import pandas as pd\n",
    "\n",
    "COUNTRY_LOC = 'vietnam'\n",
    "API_URL = 'https://api.covid19api.com/total/country/' + COUNTRY_LOC\n",
    "\n",
    "start_date = '2021-02-01'\n",
    "to_date = datetime.today()\n",
    "url_param = {'from': start_date, 'to': str(to_date)[:10]}\n",
    "\n",
    "api_request = requests.get(API_URL, params=url_param)\n",
    "\n",
    "if not api_request.ok:\n",
    "    print('Server Request Failed :', api_request.status_code, api_request.reason)\n",
    "    print('Exiting ....')\n",
    "    sys.exit(0)\n",
    "\n",
    "\n",
    "df = pd.DataFrame(api_request.json())\n",
    "df.set_index('Date', inplace=True)"
   ]
  },
  {
   "cell_type": "code",
   "execution_count": 114,
   "metadata": {},
   "outputs": [
    {
     "output_type": "execute_result",
     "data": {
      "text/plain": "                       Country CountryCode Province City CityCode Lat Lon  \\\nDate                                                                        \n2020-01-22T00:00:00Z  Viet Nam                                      0   0   \n2020-01-23T00:00:00Z  Viet Nam                                      0   0   \n2020-01-24T00:00:00Z  Viet Nam                                      0   0   \n2020-01-25T00:00:00Z  Viet Nam                                      0   0   \n2020-01-26T00:00:00Z  Viet Nam                                      0   0   \n...                        ...         ...      ...  ...      ...  ..  ..   \n2020-07-30T00:00:00Z  Viet Nam                                      0   0   \n2020-07-31T00:00:00Z  Viet Nam                                      0   0   \n2020-08-01T00:00:00Z  Viet Nam                                      0   0   \n2020-08-02T00:00:00Z  Viet Nam                                      0   0   \n2020-08-03T00:00:00Z  Viet Nam                                      0   0   \n\n                      Confirmed  Deaths  Recovered  Active  \nDate                                                        \n2020-01-22T00:00:00Z          0       0          0       0  \n2020-01-23T00:00:00Z          2       0          0       2  \n2020-01-24T00:00:00Z          2       0          0       2  \n2020-01-25T00:00:00Z          2       0          0       2  \n2020-01-26T00:00:00Z          2       0          0       2  \n...                         ...     ...        ...     ...  \n2020-07-30T00:00:00Z        509       0        373     136  \n2020-07-31T00:00:00Z        558       3        373     182  \n2020-08-01T00:00:00Z        590       3        373     214  \n2020-08-02T00:00:00Z        621       6        373     242  \n2020-08-03T00:00:00Z        652       7        374     271  \n\n[195 rows x 11 columns]",
      "text/html": "<div>\n<style scoped>\n    .dataframe tbody tr th:only-of-type {\n        vertical-align: middle;\n    }\n\n    .dataframe tbody tr th {\n        vertical-align: top;\n    }\n\n    .dataframe thead th {\n        text-align: right;\n    }\n</style>\n<table border=\"1\" class=\"dataframe\">\n  <thead>\n    <tr style=\"text-align: right;\">\n      <th></th>\n      <th>Country</th>\n      <th>CountryCode</th>\n      <th>Province</th>\n      <th>City</th>\n      <th>CityCode</th>\n      <th>Lat</th>\n      <th>Lon</th>\n      <th>Confirmed</th>\n      <th>Deaths</th>\n      <th>Recovered</th>\n      <th>Active</th>\n    </tr>\n    <tr>\n      <th>Date</th>\n      <th></th>\n      <th></th>\n      <th></th>\n      <th></th>\n      <th></th>\n      <th></th>\n      <th></th>\n      <th></th>\n      <th></th>\n      <th></th>\n      <th></th>\n    </tr>\n  </thead>\n  <tbody>\n    <tr>\n      <th>2020-01-22T00:00:00Z</th>\n      <td>Viet Nam</td>\n      <td></td>\n      <td></td>\n      <td></td>\n      <td></td>\n      <td>0</td>\n      <td>0</td>\n      <td>0</td>\n      <td>0</td>\n      <td>0</td>\n      <td>0</td>\n    </tr>\n    <tr>\n      <th>2020-01-23T00:00:00Z</th>\n      <td>Viet Nam</td>\n      <td></td>\n      <td></td>\n      <td></td>\n      <td></td>\n      <td>0</td>\n      <td>0</td>\n      <td>2</td>\n      <td>0</td>\n      <td>0</td>\n      <td>2</td>\n    </tr>\n    <tr>\n      <th>2020-01-24T00:00:00Z</th>\n      <td>Viet Nam</td>\n      <td></td>\n      <td></td>\n      <td></td>\n      <td></td>\n      <td>0</td>\n      <td>0</td>\n      <td>2</td>\n      <td>0</td>\n      <td>0</td>\n      <td>2</td>\n    </tr>\n    <tr>\n      <th>2020-01-25T00:00:00Z</th>\n      <td>Viet Nam</td>\n      <td></td>\n      <td></td>\n      <td></td>\n      <td></td>\n      <td>0</td>\n      <td>0</td>\n      <td>2</td>\n      <td>0</td>\n      <td>0</td>\n      <td>2</td>\n    </tr>\n    <tr>\n      <th>2020-01-26T00:00:00Z</th>\n      <td>Viet Nam</td>\n      <td></td>\n      <td></td>\n      <td></td>\n      <td></td>\n      <td>0</td>\n      <td>0</td>\n      <td>2</td>\n      <td>0</td>\n      <td>0</td>\n      <td>2</td>\n    </tr>\n    <tr>\n      <th>...</th>\n      <td>...</td>\n      <td>...</td>\n      <td>...</td>\n      <td>...</td>\n      <td>...</td>\n      <td>...</td>\n      <td>...</td>\n      <td>...</td>\n      <td>...</td>\n      <td>...</td>\n      <td>...</td>\n    </tr>\n    <tr>\n      <th>2020-07-30T00:00:00Z</th>\n      <td>Viet Nam</td>\n      <td></td>\n      <td></td>\n      <td></td>\n      <td></td>\n      <td>0</td>\n      <td>0</td>\n      <td>509</td>\n      <td>0</td>\n      <td>373</td>\n      <td>136</td>\n    </tr>\n    <tr>\n      <th>2020-07-31T00:00:00Z</th>\n      <td>Viet Nam</td>\n      <td></td>\n      <td></td>\n      <td></td>\n      <td></td>\n      <td>0</td>\n      <td>0</td>\n      <td>558</td>\n      <td>3</td>\n      <td>373</td>\n      <td>182</td>\n    </tr>\n    <tr>\n      <th>2020-08-01T00:00:00Z</th>\n      <td>Viet Nam</td>\n      <td></td>\n      <td></td>\n      <td></td>\n      <td></td>\n      <td>0</td>\n      <td>0</td>\n      <td>590</td>\n      <td>3</td>\n      <td>373</td>\n      <td>214</td>\n    </tr>\n    <tr>\n      <th>2020-08-02T00:00:00Z</th>\n      <td>Viet Nam</td>\n      <td></td>\n      <td></td>\n      <td></td>\n      <td></td>\n      <td>0</td>\n      <td>0</td>\n      <td>621</td>\n      <td>6</td>\n      <td>373</td>\n      <td>242</td>\n    </tr>\n    <tr>\n      <th>2020-08-03T00:00:00Z</th>\n      <td>Viet Nam</td>\n      <td></td>\n      <td></td>\n      <td></td>\n      <td></td>\n      <td>0</td>\n      <td>0</td>\n      <td>652</td>\n      <td>7</td>\n      <td>374</td>\n      <td>271</td>\n    </tr>\n  </tbody>\n</table>\n<p>195 rows × 11 columns</p>\n</div>"
     },
     "metadata": {},
     "execution_count": 114
    }
   ],
   "source": [
    "df"
   ]
  },
  {
   "cell_type": "code",
   "execution_count": 115,
   "metadata": {},
   "outputs": [],
   "source": [
    "# remove unwanted Columns\n",
    "df.drop(columns=['Country', 'CountryCode', 'Province', 'City', 'CityCode', 'Lat', \"Lon\"], inplace=True)"
   ]
  },
  {
   "cell_type": "code",
   "execution_count": 116,
   "metadata": {
    "tags": []
   },
   "outputs": [
    {
     "output_type": "execute_result",
     "data": {
      "text/plain": "            Confirmed  Deaths  Recovered  Active\nDate                                            \n2020-01-22          0       0          0       0\n2020-01-23          2       0          0       2\n2020-01-24          2       0          0       2\n2020-01-25          2       0          0       2\n2020-01-26          2       0          0       2\n...               ...     ...        ...     ...\n2020-07-30        509       0        373     136\n2020-07-31        558       3        373     182\n2020-08-01        590       3        373     214\n2020-08-02        621       6        373     242\n2020-08-03        652       7        374     271\n\n[195 rows x 4 columns]",
      "text/html": "<div>\n<style scoped>\n    .dataframe tbody tr th:only-of-type {\n        vertical-align: middle;\n    }\n\n    .dataframe tbody tr th {\n        vertical-align: top;\n    }\n\n    .dataframe thead th {\n        text-align: right;\n    }\n</style>\n<table border=\"1\" class=\"dataframe\">\n  <thead>\n    <tr style=\"text-align: right;\">\n      <th></th>\n      <th>Confirmed</th>\n      <th>Deaths</th>\n      <th>Recovered</th>\n      <th>Active</th>\n    </tr>\n    <tr>\n      <th>Date</th>\n      <th></th>\n      <th></th>\n      <th></th>\n      <th></th>\n    </tr>\n  </thead>\n  <tbody>\n    <tr>\n      <th>2020-01-22</th>\n      <td>0</td>\n      <td>0</td>\n      <td>0</td>\n      <td>0</td>\n    </tr>\n    <tr>\n      <th>2020-01-23</th>\n      <td>2</td>\n      <td>0</td>\n      <td>0</td>\n      <td>2</td>\n    </tr>\n    <tr>\n      <th>2020-01-24</th>\n      <td>2</td>\n      <td>0</td>\n      <td>0</td>\n      <td>2</td>\n    </tr>\n    <tr>\n      <th>2020-01-25</th>\n      <td>2</td>\n      <td>0</td>\n      <td>0</td>\n      <td>2</td>\n    </tr>\n    <tr>\n      <th>2020-01-26</th>\n      <td>2</td>\n      <td>0</td>\n      <td>0</td>\n      <td>2</td>\n    </tr>\n    <tr>\n      <th>...</th>\n      <td>...</td>\n      <td>...</td>\n      <td>...</td>\n      <td>...</td>\n    </tr>\n    <tr>\n      <th>2020-07-30</th>\n      <td>509</td>\n      <td>0</td>\n      <td>373</td>\n      <td>136</td>\n    </tr>\n    <tr>\n      <th>2020-07-31</th>\n      <td>558</td>\n      <td>3</td>\n      <td>373</td>\n      <td>182</td>\n    </tr>\n    <tr>\n      <th>2020-08-01</th>\n      <td>590</td>\n      <td>3</td>\n      <td>373</td>\n      <td>214</td>\n    </tr>\n    <tr>\n      <th>2020-08-02</th>\n      <td>621</td>\n      <td>6</td>\n      <td>373</td>\n      <td>242</td>\n    </tr>\n    <tr>\n      <th>2020-08-03</th>\n      <td>652</td>\n      <td>7</td>\n      <td>374</td>\n      <td>271</td>\n    </tr>\n  </tbody>\n</table>\n<p>195 rows × 4 columns</p>\n</div>"
     },
     "metadata": {},
     "execution_count": 116
    }
   ],
   "source": [
    "# rename columns date to strip of time info\n",
    "for item in df.index:\n",
    "    df.rename(index={item: str(item)[:10]}, inplace=True)\n",
    "df"
   ]
  },
  {
   "cell_type": "code",
   "execution_count": 117,
   "metadata": {},
   "outputs": [],
   "source": [
    "# Population by Country data pulled from UN [source: https://population.un.org/wpp/Download/Standard/Population/] edited to conform to country's name\n",
    "pop_df = pd.read_csv('../datas/population.csv')\n",
    "\n",
    "for index, item in enumerate(pop_df['Pop.(\\'000)']):\n",
    "    # strip empty spaces and convert to integer (in millions)\n",
    "    pop_df.loc[index, 'Pop.(\\'000)'] = int(item.replace(' ', ''))\n",
    "    pop_df.loc[index, 'Pop.(\\'000)'] = pop_df.loc[index, 'Pop.(\\'000)'] * 1000 \n",
    "\n",
    "    # rename Country's name to conform to covid's dataframe\n",
    "    pop_df.loc[index, 'Country'] = pop_df.loc[index, 'Country'].lower().replace(' ', '-')\n",
    "\n",
    "pop_df.set_index('Country', inplace=True)"
   ]
  },
  {
   "cell_type": "code",
   "execution_count": 118,
   "metadata": {},
   "outputs": [
    {
     "output_type": "execute_result",
     "data": {
      "text/plain": "Pop.('000)    7497000\nName: hong-kong-sar-china, dtype: object"
     },
     "metadata": {},
     "execution_count": 118
    }
   ],
   "source": [
    "pop_df.loc['hong-kong-sar-china']"
   ]
  },
  {
   "cell_type": "markdown",
   "metadata": {},
   "source": [
    "## Data Crunching to form new dataset\n"
   ]
  },
  {
   "cell_type": "code",
   "execution_count": 119,
   "metadata": {
    "tags": []
   },
   "outputs": [],
   "source": [
    "daily_cases = []\n",
    "daily_deaths = []\n",
    "daily_recovered = []\n",
    "mortality_rate = []\n",
    "recovered_rate = []\n",
    "active_rate = []\n",
    "cases_per_million_pop = []\n",
    "\n",
    "def append_rate_data(index):\n",
    "    \"\"\" to append into list after calculation of\n",
    "            - mortality rate\n",
    "            - recovered rate\n",
    "            - active rate\n",
    "            - cases per 1mil population\n",
    "    \"\"\"\n",
    "    mortality_rate.append(round((df.loc[df.index[index], 'Deaths'] / df.loc[df.index[index], 'Confirmed']) * 100, 2))\n",
    "    recovered_rate.append(round((df.loc[df.index[index], 'Recovered'] / df.loc[df.index[index], 'Confirmed']) * 100, 2))\n",
    "    active_rate.append(round((df.loc[df.index[index], 'Active'] / df.loc[df.index[index], 'Confirmed']) * 100, 2))\n",
    "    cases_per_million_pop.append(round((df.loc[df.index[index], 'Confirmed'] / pop_df.loc[COUNTRY_LOC, 'Pop.(\\'000)']) * 1000000, 0))\n",
    "\n",
    "for index, item in enumerate(df.index):\n",
    "    if item == df.index[0]:\n",
    "        new_case, new_death, new_recovered = df.loc[df.index[0], ['Confirmed', 'Deaths', 'Recovered']] \n",
    "        daily_cases.append(new_case)\n",
    "        daily_deaths.append(new_death)\n",
    "        daily_recovered.append(new_recovered)\n",
    "        append_rate_data(0)\n",
    "    else:\n",
    "        new_case, new_death, new_recovered = df.loc[df.index[index], ['Confirmed', 'Deaths', 'Recovered']] \\\n",
    "                                            - df.loc[df.index[index - 1], ['Confirmed', 'Deaths', 'Recovered']]\n",
    "        daily_cases.append(new_case)\n",
    "        daily_deaths.append(new_death)\n",
    "        daily_recovered.append(new_recovered)\n",
    "        append_rate_data(index)\n",
    "    \n",
    "    df.loc[item, ['Daily Cases', 'Daily Deaths', 'Daily Recovered', 'Mortality Rate', \\\n",
    "                  'Recovered Rate', 'Active Rate', 'Cases per 1mil pop']] \\\n",
    "                  = daily_cases[index], daily_deaths[index], daily_recovered[index], mortality_rate[index], \\\n",
    "                    recovered_rate[index], active_rate[index], cases_per_million_pop[index]\n",
    "\n",
    "# release unwanted objects from memory\n",
    "del daily_cases, daily_deaths, daily_recovered, mortality_rate, recovered_rate, active_rate, cases_per_million_pop\n"
   ]
  },
  {
   "cell_type": "code",
   "execution_count": 124,
   "metadata": {},
   "outputs": [
    {
     "output_type": "execute_result",
     "data": {
      "text/plain": "            Confirmed  Deaths  Recovered  Active  Daily Cases  Daily Deaths  \\\nDate                                                                          \n2020-07-28        446       0        369      77         15.0           0.0   \n2020-07-29        459       0        369      90         13.0           0.0   \n2020-07-30        509       0        373     136         50.0           0.0   \n2020-07-31        558       3        373     182         49.0           3.0   \n2020-08-01        590       3        373     214         32.0           0.0   \n2020-08-02        621       6        373     242         31.0           3.0   \n2020-08-03        652       7        374     271         31.0           1.0   \n\n            Daily Recovered  Mortality Rate  Recovered Rate  Active Rate  \\\nDate                                                                       \n2020-07-28              4.0            0.00           82.74        17.26   \n2020-07-29              0.0            0.00           80.39        19.61   \n2020-07-30              4.0            0.00           73.28        26.72   \n2020-07-31              0.0            0.54           66.85        32.62   \n2020-08-01              0.0            0.51           63.22        36.27   \n2020-08-02              0.0            0.97           60.06        38.97   \n2020-08-03              1.0            1.07           57.36        41.56   \n\n            Cases per 1mil pop  \nDate                            \n2020-07-28                 5.0  \n2020-07-29                 5.0  \n2020-07-30                 5.0  \n2020-07-31                 6.0  \n2020-08-01                 6.0  \n2020-08-02                 6.0  \n2020-08-03                 7.0  ",
      "text/html": "<div>\n<style scoped>\n    .dataframe tbody tr th:only-of-type {\n        vertical-align: middle;\n    }\n\n    .dataframe tbody tr th {\n        vertical-align: top;\n    }\n\n    .dataframe thead th {\n        text-align: right;\n    }\n</style>\n<table border=\"1\" class=\"dataframe\">\n  <thead>\n    <tr style=\"text-align: right;\">\n      <th></th>\n      <th>Confirmed</th>\n      <th>Deaths</th>\n      <th>Recovered</th>\n      <th>Active</th>\n      <th>Daily Cases</th>\n      <th>Daily Deaths</th>\n      <th>Daily Recovered</th>\n      <th>Mortality Rate</th>\n      <th>Recovered Rate</th>\n      <th>Active Rate</th>\n      <th>Cases per 1mil pop</th>\n    </tr>\n    <tr>\n      <th>Date</th>\n      <th></th>\n      <th></th>\n      <th></th>\n      <th></th>\n      <th></th>\n      <th></th>\n      <th></th>\n      <th></th>\n      <th></th>\n      <th></th>\n      <th></th>\n    </tr>\n  </thead>\n  <tbody>\n    <tr>\n      <th>2020-07-28</th>\n      <td>446</td>\n      <td>0</td>\n      <td>369</td>\n      <td>77</td>\n      <td>15.0</td>\n      <td>0.0</td>\n      <td>4.0</td>\n      <td>0.00</td>\n      <td>82.74</td>\n      <td>17.26</td>\n      <td>5.0</td>\n    </tr>\n    <tr>\n      <th>2020-07-29</th>\n      <td>459</td>\n      <td>0</td>\n      <td>369</td>\n      <td>90</td>\n      <td>13.0</td>\n      <td>0.0</td>\n      <td>0.0</td>\n      <td>0.00</td>\n      <td>80.39</td>\n      <td>19.61</td>\n      <td>5.0</td>\n    </tr>\n    <tr>\n      <th>2020-07-30</th>\n      <td>509</td>\n      <td>0</td>\n      <td>373</td>\n      <td>136</td>\n      <td>50.0</td>\n      <td>0.0</td>\n      <td>4.0</td>\n      <td>0.00</td>\n      <td>73.28</td>\n      <td>26.72</td>\n      <td>5.0</td>\n    </tr>\n    <tr>\n      <th>2020-07-31</th>\n      <td>558</td>\n      <td>3</td>\n      <td>373</td>\n      <td>182</td>\n      <td>49.0</td>\n      <td>3.0</td>\n      <td>0.0</td>\n      <td>0.54</td>\n      <td>66.85</td>\n      <td>32.62</td>\n      <td>6.0</td>\n    </tr>\n    <tr>\n      <th>2020-08-01</th>\n      <td>590</td>\n      <td>3</td>\n      <td>373</td>\n      <td>214</td>\n      <td>32.0</td>\n      <td>0.0</td>\n      <td>0.0</td>\n      <td>0.51</td>\n      <td>63.22</td>\n      <td>36.27</td>\n      <td>6.0</td>\n    </tr>\n    <tr>\n      <th>2020-08-02</th>\n      <td>621</td>\n      <td>6</td>\n      <td>373</td>\n      <td>242</td>\n      <td>31.0</td>\n      <td>3.0</td>\n      <td>0.0</td>\n      <td>0.97</td>\n      <td>60.06</td>\n      <td>38.97</td>\n      <td>6.0</td>\n    </tr>\n    <tr>\n      <th>2020-08-03</th>\n      <td>652</td>\n      <td>7</td>\n      <td>374</td>\n      <td>271</td>\n      <td>31.0</td>\n      <td>1.0</td>\n      <td>1.0</td>\n      <td>1.07</td>\n      <td>57.36</td>\n      <td>41.56</td>\n      <td>7.0</td>\n    </tr>\n  </tbody>\n</table>\n</div>"
     },
     "metadata": {},
     "execution_count": 124
    }
   ],
   "source": [
    "# replace NaN to zero\n",
    "df.fillna(0.0, inplace=True)\n",
    "df.tail(7)"
   ]
  },
  {
   "cell_type": "code",
   "execution_count": 121,
   "metadata": {},
   "outputs": [
    {
     "output_type": "execute_result",
     "data": {
      "text/plain": "Daily Cases        50.0\nDaily Deaths        3.0\nDaily Recovered    30.0\ndtype: float64"
     },
     "metadata": {},
     "execution_count": 121
    }
   ],
   "source": [
    "# Max Daily Record\n",
    "round(df[['Daily Cases', 'Daily Deaths', 'Daily Recovered']].max(), 2)"
   ]
  },
  {
   "cell_type": "code",
   "execution_count": 122,
   "metadata": {},
   "outputs": [
    {
     "output_type": "execute_result",
     "data": {
      "text/plain": "Daily Cases        3.34\nDaily Deaths       0.04\nDaily Recovered    1.92\ndtype: float64"
     },
     "metadata": {},
     "execution_count": 122
    }
   ],
   "source": [
    "round(df[['Daily Cases', 'Daily Deaths', 'Daily Recovered']].mean(), 2)"
   ]
  },
  {
   "cell_type": "code",
   "execution_count": 123,
   "metadata": {},
   "outputs": [
    {
     "output_type": "execute_result",
     "data": {
      "text/plain": "Confirmed             652.00\nDeaths                  7.00\nRecovered             374.00\nActive                271.00\nDaily Cases            31.00\nDaily Deaths            1.00\nDaily Recovered         1.00\nMortality Rate          1.07\nRecovered Rate         57.36\nActive Rate            41.56\nCases per 1mil pop      7.00\nName: 2020-08-03, dtype: float64"
     },
     "metadata": {},
     "execution_count": 123
    }
   ],
   "source": [
    "last_entry_date = df.index[len(df.index) - 1]\n",
    "df.loc[last_entry_date]"
   ]
  },
  {
   "cell_type": "code",
   "execution_count": null,
   "metadata": {},
   "outputs": [],
   "source": []
  }
 ]
}