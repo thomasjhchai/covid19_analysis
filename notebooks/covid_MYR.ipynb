{
 "cells": [
  {
   "cell_type": "markdown",
   "metadata": {},
   "source": [
    "# Covid-19 Daily Tracking\n"
   ]
  },
  {
   "cell_type": "code",
   "execution_count": 170,
   "metadata": {
    "tags": []
   },
   "outputs": [
    {
     "output_type": "stream",
     "name": "stdout",
     "text": "Exist\nFile Current\n"
    }
   ],
   "source": [
    "import sys\n",
    "import os.path\n",
    "import requests\n",
    "import json\n",
    "from datetime import datetime \n",
    "import pandas as pd\n",
    "\n",
    "COUNTRY_LOC = 'malaysia'\n",
    "API_URL = 'https://api.covid19api.com/total/country/' + COUNTRY_LOC\n",
    "COVID_LOCAL = '../data/covid_19.json'\n",
    "\n",
    "start_date = '2021-02-01'\n",
    "today_date = datetime.today()\n",
    "url_param = {'from': start_date, 'to': str(today_date)[:10]}\n",
    "\n",
    "try:\n",
    "    api_request = requests.get(API_URL, params=url_param, timeout=30)\n",
    "\n",
    "    if os.path.isfile(COVID_LOCAL):\n",
    "        print('Exist')\n",
    "        t = os.path.getmtime(COVID_LOCAL)\n",
    "        file_date = (str(datetime.fromtimestamp(t)))[:10]\n",
    "\n",
    "        if file_date < str(today_date)[:10]:\n",
    "            if api_request.ok:\n",
    "                print('Outdated File. Updating new data from web.....')\n",
    "                with open(COVID_LOCAL, \"wb\") as file:\n",
    "                    file.write(api_request.content) \n",
    "                df = pd.read_json(COVID_LOCAL)\n",
    "                df.set_index('Date', inplace=True)\n",
    "            else:\n",
    "                print('Error: ', api_request.status_code)\n",
    "                print('Use existing file.....')\n",
    "                df = pd.read_json(COVID_LOCAL)\n",
    "                df.set_index('Date', inplace=True)\n",
    "        else:\n",
    "            print('Retrieving from current file....')\n",
    "            df = pd.read_json(COVID_LOCAL)\n",
    "            df.set_index('Date', inplace=True)\n",
    "        \n",
    "    else:\n",
    "        if api_request.ok:\n",
    "            print('Pulling data from web to new file....')\n",
    "            with open(COVID_LOCAL, \"wb\") as file:\n",
    "                file.write(api_request.content) \n",
    "            df = pd.read_json(COVID_LOCAL)\n",
    "            df.set_index('Date', inplace=True)\n",
    "        else:\n",
    "            print('Error: ', api_request.status_code)\n",
    "            print('No Data File exist....quiting')\n",
    "            sys.exit(0)\n",
    "\n",
    "except requests.exceptions.RequestException as e:\n",
    "    print('Server Request Failed :', e)\n",
    "    print('using existing file ....')\n",
    "    df = pd.read_json(COVID_LOCAL)\n",
    "    df.set_index('Date', inplace=True)\n",
    "\n",
    "\n"
   ]
  },
  {
   "cell_type": "code",
   "execution_count": 155,
   "metadata": {},
   "outputs": [
    {
     "output_type": "execute_result",
     "data": {
      "text/plain": "                            Country CountryCode Province City CityCode  Lat  \\\nDate                                                                          \n2020-01-22 00:00:00+00:00  Malaysia                                       0   \n2020-01-23 00:00:00+00:00  Malaysia                                       0   \n2020-01-24 00:00:00+00:00  Malaysia                                       0   \n2020-01-25 00:00:00+00:00  Malaysia                                       0   \n2020-01-26 00:00:00+00:00  Malaysia                                       0   \n...                             ...         ...      ...  ...      ...  ...   \n2020-07-30 00:00:00+00:00  Malaysia                                       0   \n2020-07-31 00:00:00+00:00  Malaysia                                       0   \n2020-08-01 00:00:00+00:00  Malaysia                                       0   \n2020-08-02 00:00:00+00:00  Malaysia                                       0   \n2020-08-03 00:00:00+00:00  Malaysia                                       0   \n\n                           Lon  Confirmed  Deaths  Recovered  Active  \nDate                                                                  \n2020-01-22 00:00:00+00:00    0          0       0          0       0  \n2020-01-23 00:00:00+00:00    0          0       0          0       0  \n2020-01-24 00:00:00+00:00    0          0       0          0       0  \n2020-01-25 00:00:00+00:00    0          3       0          0       3  \n2020-01-26 00:00:00+00:00    0          4       0          0       4  \n...                        ...        ...     ...        ...     ...  \n2020-07-30 00:00:00+00:00    0       8964     124       8617     223  \n2020-07-31 00:00:00+00:00    0       8976     125       8644     207  \n2020-08-01 00:00:00+00:00    0       8985     125       8647     213  \n2020-08-02 00:00:00+00:00    0       8999     125       8664     210  \n2020-08-03 00:00:00+00:00    0       9001     125       8668     208  \n\n[195 rows x 11 columns]",
      "text/html": "<div>\n<style scoped>\n    .dataframe tbody tr th:only-of-type {\n        vertical-align: middle;\n    }\n\n    .dataframe tbody tr th {\n        vertical-align: top;\n    }\n\n    .dataframe thead th {\n        text-align: right;\n    }\n</style>\n<table border=\"1\" class=\"dataframe\">\n  <thead>\n    <tr style=\"text-align: right;\">\n      <th></th>\n      <th>Country</th>\n      <th>CountryCode</th>\n      <th>Province</th>\n      <th>City</th>\n      <th>CityCode</th>\n      <th>Lat</th>\n      <th>Lon</th>\n      <th>Confirmed</th>\n      <th>Deaths</th>\n      <th>Recovered</th>\n      <th>Active</th>\n    </tr>\n    <tr>\n      <th>Date</th>\n      <th></th>\n      <th></th>\n      <th></th>\n      <th></th>\n      <th></th>\n      <th></th>\n      <th></th>\n      <th></th>\n      <th></th>\n      <th></th>\n      <th></th>\n    </tr>\n  </thead>\n  <tbody>\n    <tr>\n      <th>2020-01-22 00:00:00+00:00</th>\n      <td>Malaysia</td>\n      <td></td>\n      <td></td>\n      <td></td>\n      <td></td>\n      <td>0</td>\n      <td>0</td>\n      <td>0</td>\n      <td>0</td>\n      <td>0</td>\n      <td>0</td>\n    </tr>\n    <tr>\n      <th>2020-01-23 00:00:00+00:00</th>\n      <td>Malaysia</td>\n      <td></td>\n      <td></td>\n      <td></td>\n      <td></td>\n      <td>0</td>\n      <td>0</td>\n      <td>0</td>\n      <td>0</td>\n      <td>0</td>\n      <td>0</td>\n    </tr>\n    <tr>\n      <th>2020-01-24 00:00:00+00:00</th>\n      <td>Malaysia</td>\n      <td></td>\n      <td></td>\n      <td></td>\n      <td></td>\n      <td>0</td>\n      <td>0</td>\n      <td>0</td>\n      <td>0</td>\n      <td>0</td>\n      <td>0</td>\n    </tr>\n    <tr>\n      <th>2020-01-25 00:00:00+00:00</th>\n      <td>Malaysia</td>\n      <td></td>\n      <td></td>\n      <td></td>\n      <td></td>\n      <td>0</td>\n      <td>0</td>\n      <td>3</td>\n      <td>0</td>\n      <td>0</td>\n      <td>3</td>\n    </tr>\n    <tr>\n      <th>2020-01-26 00:00:00+00:00</th>\n      <td>Malaysia</td>\n      <td></td>\n      <td></td>\n      <td></td>\n      <td></td>\n      <td>0</td>\n      <td>0</td>\n      <td>4</td>\n      <td>0</td>\n      <td>0</td>\n      <td>4</td>\n    </tr>\n    <tr>\n      <th>...</th>\n      <td>...</td>\n      <td>...</td>\n      <td>...</td>\n      <td>...</td>\n      <td>...</td>\n      <td>...</td>\n      <td>...</td>\n      <td>...</td>\n      <td>...</td>\n      <td>...</td>\n      <td>...</td>\n    </tr>\n    <tr>\n      <th>2020-07-30 00:00:00+00:00</th>\n      <td>Malaysia</td>\n      <td></td>\n      <td></td>\n      <td></td>\n      <td></td>\n      <td>0</td>\n      <td>0</td>\n      <td>8964</td>\n      <td>124</td>\n      <td>8617</td>\n      <td>223</td>\n    </tr>\n    <tr>\n      <th>2020-07-31 00:00:00+00:00</th>\n      <td>Malaysia</td>\n      <td></td>\n      <td></td>\n      <td></td>\n      <td></td>\n      <td>0</td>\n      <td>0</td>\n      <td>8976</td>\n      <td>125</td>\n      <td>8644</td>\n      <td>207</td>\n    </tr>\n    <tr>\n      <th>2020-08-01 00:00:00+00:00</th>\n      <td>Malaysia</td>\n      <td></td>\n      <td></td>\n      <td></td>\n      <td></td>\n      <td>0</td>\n      <td>0</td>\n      <td>8985</td>\n      <td>125</td>\n      <td>8647</td>\n      <td>213</td>\n    </tr>\n    <tr>\n      <th>2020-08-02 00:00:00+00:00</th>\n      <td>Malaysia</td>\n      <td></td>\n      <td></td>\n      <td></td>\n      <td></td>\n      <td>0</td>\n      <td>0</td>\n      <td>8999</td>\n      <td>125</td>\n      <td>8664</td>\n      <td>210</td>\n    </tr>\n    <tr>\n      <th>2020-08-03 00:00:00+00:00</th>\n      <td>Malaysia</td>\n      <td></td>\n      <td></td>\n      <td></td>\n      <td></td>\n      <td>0</td>\n      <td>0</td>\n      <td>9001</td>\n      <td>125</td>\n      <td>8668</td>\n      <td>208</td>\n    </tr>\n  </tbody>\n</table>\n<p>195 rows × 11 columns</p>\n</div>"
     },
     "metadata": {},
     "execution_count": 155
    }
   ],
   "source": [
    "df"
   ]
  },
  {
   "cell_type": "code",
   "execution_count": 120,
   "metadata": {},
   "outputs": [],
   "source": [
    "# remove unwanted Columns\n",
    "df.drop(columns=['Country', 'CountryCode', 'Province', 'City', 'CityCode', 'Lat', \"Lon\"], inplace=True)"
   ]
  },
  {
   "cell_type": "code",
   "execution_count": 121,
   "metadata": {
    "tags": []
   },
   "outputs": [
    {
     "output_type": "execute_result",
     "data": {
      "text/plain": "            Confirmed  Deaths  Recovered  Active\nDate                                            \n2020-01-22          0       0          0       0\n2020-01-23          0       0          0       0\n2020-01-24          0       0          0       0\n2020-01-25          3       0          0       3\n2020-01-26          4       0          0       4\n...               ...     ...        ...     ...\n2020-07-30       8964     124       8617     223\n2020-07-31       8976     125       8644     207\n2020-08-01       8985     125       8647     213\n2020-08-02       8999     125       8664     210\n2020-08-03       9001     125       8668     208\n\n[195 rows x 4 columns]",
      "text/html": "<div>\n<style scoped>\n    .dataframe tbody tr th:only-of-type {\n        vertical-align: middle;\n    }\n\n    .dataframe tbody tr th {\n        vertical-align: top;\n    }\n\n    .dataframe thead th {\n        text-align: right;\n    }\n</style>\n<table border=\"1\" class=\"dataframe\">\n  <thead>\n    <tr style=\"text-align: right;\">\n      <th></th>\n      <th>Confirmed</th>\n      <th>Deaths</th>\n      <th>Recovered</th>\n      <th>Active</th>\n    </tr>\n    <tr>\n      <th>Date</th>\n      <th></th>\n      <th></th>\n      <th></th>\n      <th></th>\n    </tr>\n  </thead>\n  <tbody>\n    <tr>\n      <th>2020-01-22</th>\n      <td>0</td>\n      <td>0</td>\n      <td>0</td>\n      <td>0</td>\n    </tr>\n    <tr>\n      <th>2020-01-23</th>\n      <td>0</td>\n      <td>0</td>\n      <td>0</td>\n      <td>0</td>\n    </tr>\n    <tr>\n      <th>2020-01-24</th>\n      <td>0</td>\n      <td>0</td>\n      <td>0</td>\n      <td>0</td>\n    </tr>\n    <tr>\n      <th>2020-01-25</th>\n      <td>3</td>\n      <td>0</td>\n      <td>0</td>\n      <td>3</td>\n    </tr>\n    <tr>\n      <th>2020-01-26</th>\n      <td>4</td>\n      <td>0</td>\n      <td>0</td>\n      <td>4</td>\n    </tr>\n    <tr>\n      <th>...</th>\n      <td>...</td>\n      <td>...</td>\n      <td>...</td>\n      <td>...</td>\n    </tr>\n    <tr>\n      <th>2020-07-30</th>\n      <td>8964</td>\n      <td>124</td>\n      <td>8617</td>\n      <td>223</td>\n    </tr>\n    <tr>\n      <th>2020-07-31</th>\n      <td>8976</td>\n      <td>125</td>\n      <td>8644</td>\n      <td>207</td>\n    </tr>\n    <tr>\n      <th>2020-08-01</th>\n      <td>8985</td>\n      <td>125</td>\n      <td>8647</td>\n      <td>213</td>\n    </tr>\n    <tr>\n      <th>2020-08-02</th>\n      <td>8999</td>\n      <td>125</td>\n      <td>8664</td>\n      <td>210</td>\n    </tr>\n    <tr>\n      <th>2020-08-03</th>\n      <td>9001</td>\n      <td>125</td>\n      <td>8668</td>\n      <td>208</td>\n    </tr>\n  </tbody>\n</table>\n<p>195 rows × 4 columns</p>\n</div>"
     },
     "metadata": {},
     "execution_count": 121
    }
   ],
   "source": [
    "# rename columns date to strip of time info\n",
    "for item in df.index:\n",
    "    df.rename(index={item: str(item)[:10]}, inplace=True)\n",
    "df"
   ]
  },
  {
   "cell_type": "code",
   "execution_count": 122,
   "metadata": {},
   "outputs": [
    {
     "output_type": "execute_result",
     "data": {
      "text/plain": "                       Country  Pop.('000)\n0                      burundi    11891000\n1                      comoros      870000\n2                     djibouti      988000\n3                      eritrea     3546000\n4                     ethiopia   114964000\n..                         ...         ...\n228                    bermuda       62000\n229                     canada    37742000\n230                  greenland       57000\n231  saint-pierre-and-miquelon        6000\n232              united-states   331003000\n\n[233 rows x 2 columns]",
      "text/html": "<div>\n<style scoped>\n    .dataframe tbody tr th:only-of-type {\n        vertical-align: middle;\n    }\n\n    .dataframe tbody tr th {\n        vertical-align: top;\n    }\n\n    .dataframe thead th {\n        text-align: right;\n    }\n</style>\n<table border=\"1\" class=\"dataframe\">\n  <thead>\n    <tr style=\"text-align: right;\">\n      <th></th>\n      <th>Country</th>\n      <th>Pop.('000)</th>\n    </tr>\n  </thead>\n  <tbody>\n    <tr>\n      <th>0</th>\n      <td>burundi</td>\n      <td>11891000</td>\n    </tr>\n    <tr>\n      <th>1</th>\n      <td>comoros</td>\n      <td>870000</td>\n    </tr>\n    <tr>\n      <th>2</th>\n      <td>djibouti</td>\n      <td>988000</td>\n    </tr>\n    <tr>\n      <th>3</th>\n      <td>eritrea</td>\n      <td>3546000</td>\n    </tr>\n    <tr>\n      <th>4</th>\n      <td>ethiopia</td>\n      <td>114964000</td>\n    </tr>\n    <tr>\n      <th>...</th>\n      <td>...</td>\n      <td>...</td>\n    </tr>\n    <tr>\n      <th>228</th>\n      <td>bermuda</td>\n      <td>62000</td>\n    </tr>\n    <tr>\n      <th>229</th>\n      <td>canada</td>\n      <td>37742000</td>\n    </tr>\n    <tr>\n      <th>230</th>\n      <td>greenland</td>\n      <td>57000</td>\n    </tr>\n    <tr>\n      <th>231</th>\n      <td>saint-pierre-and-miquelon</td>\n      <td>6000</td>\n    </tr>\n    <tr>\n      <th>232</th>\n      <td>united-states</td>\n      <td>331003000</td>\n    </tr>\n  </tbody>\n</table>\n<p>233 rows × 2 columns</p>\n</div>"
     },
     "metadata": {},
     "execution_count": 122
    }
   ],
   "source": [
    "# Population by Country data pulled from UN [source: https://population.un.org/wpp/Download/Standard/Population/] edited to conform to country's name\n",
    "pop_df = pd.read_csv('../data/population.csv')\n",
    "\"\"\"\n",
    "for index, item in enumerate(pop_df['Pop.(\\'000)']):\n",
    "    # strip empty spaces and convert to integer (in millions)\n",
    "    pop_df.loc[index, 'Pop.(\\'000)'] = int(item.replace(' ', ''))\n",
    "    pop_df.loc[index, 'Pop.(\\'000)'] = pop_df.loc[index, 'Pop.(\\'000)'] * 1000 \n",
    "\n",
    "    # rename Country's name to conform to covid's dataframe\n",
    "    pop_df.loc[index, 'Country'] = pop_df.loc[index, 'Country'].lower().replace(' ', '-')\n",
    "\"\"\"\n",
    "pop_df['Country'] = pop_df['Country'].str.replace(' ', '-').str.lower()\n",
    "pop_df['Pop.(\\'000)'] = pop_df['Pop.(\\'000)'].str.replace(' ', '').astype(int) \\\n",
    " * 1000 #pop_df.set_index('Country', inplace=True)\n",
    "pop_df"
   ]
  },
  {
   "cell_type": "markdown",
   "metadata": {},
   "source": [
    "## Data Crunching to form new dataset\n"
   ]
  },
  {
   "cell_type": "code",
   "execution_count": 123,
   "metadata": {
    "tags": []
   },
   "outputs": [
    {
     "output_type": "error",
     "ename": "KeyError",
     "evalue": "'malaysia'",
     "traceback": [
      "\u001b[0;31m---------------------------------------------------------------------------\u001b[0m",
      "\u001b[0;31mKeyError\u001b[0m                                  Traceback (most recent call last)",
      "\u001b[0;32m<ipython-input-123-9b3046c60d18>\u001b[0m in \u001b[0;36m<module>\u001b[0;34m\u001b[0m\n\u001b[1;32m     47\u001b[0m \u001b[0mdf\u001b[0m\u001b[0;34m[\u001b[0m\u001b[0;34m'Recovered Rates'\u001b[0m\u001b[0;34m]\u001b[0m \u001b[0;34m=\u001b[0m \u001b[0mround\u001b[0m\u001b[0;34m(\u001b[0m\u001b[0mdf\u001b[0m\u001b[0;34m[\u001b[0m\u001b[0;34m'Recovered'\u001b[0m\u001b[0;34m]\u001b[0m\u001b[0;34m.\u001b[0m\u001b[0mdivide\u001b[0m\u001b[0;34m(\u001b[0m\u001b[0mdf\u001b[0m \u001b[0;34m[\u001b[0m\u001b[0;34m'Confirmed'\u001b[0m\u001b[0;34m]\u001b[0m\u001b[0;34m)\u001b[0m\u001b[0;34m.\u001b[0m\u001b[0mfillna\u001b[0m\u001b[0;34m(\u001b[0m\u001b[0;36m0.0\u001b[0m\u001b[0;34m)\u001b[0m\u001b[0;34m,\u001b[0m \u001b[0;36m2\u001b[0m\u001b[0;34m)\u001b[0m\u001b[0;34m\u001b[0m\u001b[0;34m\u001b[0m\u001b[0m\n\u001b[1;32m     48\u001b[0m \u001b[0mdf\u001b[0m\u001b[0;34m[\u001b[0m\u001b[0;34m'Active Rates'\u001b[0m\u001b[0;34m]\u001b[0m \u001b[0;34m=\u001b[0m \u001b[0mround\u001b[0m\u001b[0;34m(\u001b[0m\u001b[0mdf\u001b[0m\u001b[0;34m[\u001b[0m\u001b[0;34m'Active'\u001b[0m\u001b[0;34m]\u001b[0m\u001b[0;34m.\u001b[0m\u001b[0mdivide\u001b[0m\u001b[0;34m(\u001b[0m\u001b[0mdf\u001b[0m \u001b[0;34m[\u001b[0m\u001b[0;34m'Confirmed'\u001b[0m\u001b[0;34m]\u001b[0m\u001b[0;34m)\u001b[0m\u001b[0;34m.\u001b[0m\u001b[0mfillna\u001b[0m\u001b[0;34m(\u001b[0m\u001b[0;36m0.0\u001b[0m\u001b[0;34m)\u001b[0m\u001b[0;34m,\u001b[0m \u001b[0;36m2\u001b[0m\u001b[0;34m)\u001b[0m\u001b[0;34m\u001b[0m\u001b[0;34m\u001b[0m\u001b[0m\n\u001b[0;32m---> 49\u001b[0;31m \u001b[0mdf\u001b[0m\u001b[0;34m[\u001b[0m\u001b[0;34m'Cases per 1mil pop'\u001b[0m\u001b[0;34m]\u001b[0m \u001b[0;34m=\u001b[0m \u001b[0mround\u001b[0m\u001b[0;34m(\u001b[0m\u001b[0mdf\u001b[0m\u001b[0;34m[\u001b[0m\u001b[0;34m'Confirmed'\u001b[0m\u001b[0;34m]\u001b[0m \u001b[0;34m/\u001b[0m \u001b[0mpop_df\u001b[0m\u001b[0;34m.\u001b[0m\u001b[0mloc\u001b[0m\u001b[0;34m[\u001b[0m\u001b[0mCOUNTRY_LOC\u001b[0m\u001b[0;34m,\u001b[0m \u001b[0;34m'Pop.(\\'000)'\u001b[0m\u001b[0;34m]\u001b[0m \u001b[0;34m*\u001b[0m \u001b[0;36m1000000\u001b[0m\u001b[0;34m,\u001b[0m \u001b[0;36m2\u001b[0m\u001b[0;34m)\u001b[0m\u001b[0;34m\u001b[0m\u001b[0;34m\u001b[0m\u001b[0m\n\u001b[0m\u001b[1;32m     50\u001b[0m \u001b[0;34m\u001b[0m\u001b[0m\n\u001b[1;32m     51\u001b[0m \u001b[0;31m# TODO: add to df column\u001b[0m\u001b[0;34m\u001b[0m\u001b[0;34m\u001b[0m\u001b[0;34m\u001b[0m\u001b[0m\n",
      "\u001b[0;32m~/.local/share/virtualenvs/covid19_analysis-ImUBmtTy/lib/python3.8/site-packages/pandas/core/indexing.py\u001b[0m in \u001b[0;36m__getitem__\u001b[0;34m(self, key)\u001b[0m\n\u001b[1;32m    871\u001b[0m                     \u001b[0;31m# AttributeError for IntervalTree get_value\u001b[0m\u001b[0;34m\u001b[0m\u001b[0;34m\u001b[0m\u001b[0;34m\u001b[0m\u001b[0m\n\u001b[1;32m    872\u001b[0m                     \u001b[0;32mpass\u001b[0m\u001b[0;34m\u001b[0m\u001b[0;34m\u001b[0m\u001b[0m\n\u001b[0;32m--> 873\u001b[0;31m             \u001b[0;32mreturn\u001b[0m \u001b[0mself\u001b[0m\u001b[0;34m.\u001b[0m\u001b[0m_getitem_tuple\u001b[0m\u001b[0;34m(\u001b[0m\u001b[0mkey\u001b[0m\u001b[0;34m)\u001b[0m\u001b[0;34m\u001b[0m\u001b[0;34m\u001b[0m\u001b[0m\n\u001b[0m\u001b[1;32m    874\u001b[0m         \u001b[0;32melse\u001b[0m\u001b[0;34m:\u001b[0m\u001b[0;34m\u001b[0m\u001b[0;34m\u001b[0m\u001b[0m\n\u001b[1;32m    875\u001b[0m             \u001b[0;31m# we by definition only have the 0th axis\u001b[0m\u001b[0;34m\u001b[0m\u001b[0;34m\u001b[0m\u001b[0;34m\u001b[0m\u001b[0m\n",
      "\u001b[0;32m~/.local/share/virtualenvs/covid19_analysis-ImUBmtTy/lib/python3.8/site-packages/pandas/core/indexing.py\u001b[0m in \u001b[0;36m_getitem_tuple\u001b[0;34m(self, tup)\u001b[0m\n\u001b[1;32m   1042\u001b[0m     \u001b[0;32mdef\u001b[0m \u001b[0m_getitem_tuple\u001b[0m\u001b[0;34m(\u001b[0m\u001b[0mself\u001b[0m\u001b[0;34m,\u001b[0m \u001b[0mtup\u001b[0m\u001b[0;34m:\u001b[0m \u001b[0mTuple\u001b[0m\u001b[0;34m)\u001b[0m\u001b[0;34m:\u001b[0m\u001b[0;34m\u001b[0m\u001b[0;34m\u001b[0m\u001b[0m\n\u001b[1;32m   1043\u001b[0m         \u001b[0;32mtry\u001b[0m\u001b[0;34m:\u001b[0m\u001b[0;34m\u001b[0m\u001b[0;34m\u001b[0m\u001b[0m\n\u001b[0;32m-> 1044\u001b[0;31m             \u001b[0;32mreturn\u001b[0m \u001b[0mself\u001b[0m\u001b[0;34m.\u001b[0m\u001b[0m_getitem_lowerdim\u001b[0m\u001b[0;34m(\u001b[0m\u001b[0mtup\u001b[0m\u001b[0;34m)\u001b[0m\u001b[0;34m\u001b[0m\u001b[0;34m\u001b[0m\u001b[0m\n\u001b[0m\u001b[1;32m   1045\u001b[0m         \u001b[0;32mexcept\u001b[0m \u001b[0mIndexingError\u001b[0m\u001b[0;34m:\u001b[0m\u001b[0;34m\u001b[0m\u001b[0;34m\u001b[0m\u001b[0m\n\u001b[1;32m   1046\u001b[0m             \u001b[0;32mpass\u001b[0m\u001b[0;34m\u001b[0m\u001b[0;34m\u001b[0m\u001b[0m\n",
      "\u001b[0;32m~/.local/share/virtualenvs/covid19_analysis-ImUBmtTy/lib/python3.8/site-packages/pandas/core/indexing.py\u001b[0m in \u001b[0;36m_getitem_lowerdim\u001b[0;34m(self, tup)\u001b[0m\n\u001b[1;32m    784\u001b[0m                 \u001b[0;31m# We don't need to check for tuples here because those are\u001b[0m\u001b[0;34m\u001b[0m\u001b[0;34m\u001b[0m\u001b[0;34m\u001b[0m\u001b[0m\n\u001b[1;32m    785\u001b[0m                 \u001b[0;31m#  caught by the _is_nested_tuple_indexer check above.\u001b[0m\u001b[0;34m\u001b[0m\u001b[0;34m\u001b[0m\u001b[0;34m\u001b[0m\u001b[0m\n\u001b[0;32m--> 786\u001b[0;31m                 \u001b[0msection\u001b[0m \u001b[0;34m=\u001b[0m \u001b[0mself\u001b[0m\u001b[0;34m.\u001b[0m\u001b[0m_getitem_axis\u001b[0m\u001b[0;34m(\u001b[0m\u001b[0mkey\u001b[0m\u001b[0;34m,\u001b[0m \u001b[0maxis\u001b[0m\u001b[0;34m=\u001b[0m\u001b[0mi\u001b[0m\u001b[0;34m)\u001b[0m\u001b[0;34m\u001b[0m\u001b[0;34m\u001b[0m\u001b[0m\n\u001b[0m\u001b[1;32m    787\u001b[0m \u001b[0;34m\u001b[0m\u001b[0m\n\u001b[1;32m    788\u001b[0m                 \u001b[0;31m# We should never have a scalar section here, because\u001b[0m\u001b[0;34m\u001b[0m\u001b[0;34m\u001b[0m\u001b[0;34m\u001b[0m\u001b[0m\n",
      "\u001b[0;32m~/.local/share/virtualenvs/covid19_analysis-ImUBmtTy/lib/python3.8/site-packages/pandas/core/indexing.py\u001b[0m in \u001b[0;36m_getitem_axis\u001b[0;34m(self, key, axis)\u001b[0m\n\u001b[1;32m   1108\u001b[0m         \u001b[0;31m# fall thru to straight lookup\u001b[0m\u001b[0;34m\u001b[0m\u001b[0;34m\u001b[0m\u001b[0;34m\u001b[0m\u001b[0m\n\u001b[1;32m   1109\u001b[0m         \u001b[0mself\u001b[0m\u001b[0;34m.\u001b[0m\u001b[0m_validate_key\u001b[0m\u001b[0;34m(\u001b[0m\u001b[0mkey\u001b[0m\u001b[0;34m,\u001b[0m \u001b[0maxis\u001b[0m\u001b[0;34m)\u001b[0m\u001b[0;34m\u001b[0m\u001b[0;34m\u001b[0m\u001b[0m\n\u001b[0;32m-> 1110\u001b[0;31m         \u001b[0;32mreturn\u001b[0m \u001b[0mself\u001b[0m\u001b[0;34m.\u001b[0m\u001b[0m_get_label\u001b[0m\u001b[0;34m(\u001b[0m\u001b[0mkey\u001b[0m\u001b[0;34m,\u001b[0m \u001b[0maxis\u001b[0m\u001b[0;34m=\u001b[0m\u001b[0maxis\u001b[0m\u001b[0;34m)\u001b[0m\u001b[0;34m\u001b[0m\u001b[0;34m\u001b[0m\u001b[0m\n\u001b[0m\u001b[1;32m   1111\u001b[0m \u001b[0;34m\u001b[0m\u001b[0m\n\u001b[1;32m   1112\u001b[0m     \u001b[0;32mdef\u001b[0m \u001b[0m_get_slice_axis\u001b[0m\u001b[0;34m(\u001b[0m\u001b[0mself\u001b[0m\u001b[0;34m,\u001b[0m \u001b[0mslice_obj\u001b[0m\u001b[0;34m:\u001b[0m \u001b[0mslice\u001b[0m\u001b[0;34m,\u001b[0m \u001b[0maxis\u001b[0m\u001b[0;34m:\u001b[0m \u001b[0mint\u001b[0m\u001b[0;34m)\u001b[0m\u001b[0;34m:\u001b[0m\u001b[0;34m\u001b[0m\u001b[0;34m\u001b[0m\u001b[0m\n",
      "\u001b[0;32m~/.local/share/virtualenvs/covid19_analysis-ImUBmtTy/lib/python3.8/site-packages/pandas/core/indexing.py\u001b[0m in \u001b[0;36m_get_label\u001b[0;34m(self, label, axis)\u001b[0m\n\u001b[1;32m   1057\u001b[0m     \u001b[0;32mdef\u001b[0m \u001b[0m_get_label\u001b[0m\u001b[0;34m(\u001b[0m\u001b[0mself\u001b[0m\u001b[0;34m,\u001b[0m \u001b[0mlabel\u001b[0m\u001b[0;34m,\u001b[0m \u001b[0maxis\u001b[0m\u001b[0;34m:\u001b[0m \u001b[0mint\u001b[0m\u001b[0;34m)\u001b[0m\u001b[0;34m:\u001b[0m\u001b[0;34m\u001b[0m\u001b[0;34m\u001b[0m\u001b[0m\n\u001b[1;32m   1058\u001b[0m         \u001b[0;31m# GH#5667 this will fail if the label is not present in the axis.\u001b[0m\u001b[0;34m\u001b[0m\u001b[0;34m\u001b[0m\u001b[0;34m\u001b[0m\u001b[0m\n\u001b[0;32m-> 1059\u001b[0;31m         \u001b[0;32mreturn\u001b[0m \u001b[0mself\u001b[0m\u001b[0;34m.\u001b[0m\u001b[0mobj\u001b[0m\u001b[0;34m.\u001b[0m\u001b[0mxs\u001b[0m\u001b[0;34m(\u001b[0m\u001b[0mlabel\u001b[0m\u001b[0;34m,\u001b[0m \u001b[0maxis\u001b[0m\u001b[0;34m=\u001b[0m\u001b[0maxis\u001b[0m\u001b[0;34m)\u001b[0m\u001b[0;34m\u001b[0m\u001b[0;34m\u001b[0m\u001b[0m\n\u001b[0m\u001b[1;32m   1060\u001b[0m \u001b[0;34m\u001b[0m\u001b[0m\n\u001b[1;32m   1061\u001b[0m     \u001b[0;32mdef\u001b[0m \u001b[0m_handle_lowerdim_multi_index_axis0\u001b[0m\u001b[0;34m(\u001b[0m\u001b[0mself\u001b[0m\u001b[0;34m,\u001b[0m \u001b[0mtup\u001b[0m\u001b[0;34m:\u001b[0m \u001b[0mTuple\u001b[0m\u001b[0;34m)\u001b[0m\u001b[0;34m:\u001b[0m\u001b[0;34m\u001b[0m\u001b[0;34m\u001b[0m\u001b[0m\n",
      "\u001b[0;32m~/.local/share/virtualenvs/covid19_analysis-ImUBmtTy/lib/python3.8/site-packages/pandas/core/generic.py\u001b[0m in \u001b[0;36mxs\u001b[0;34m(self, key, axis, level, drop_level)\u001b[0m\n\u001b[1;32m   3480\u001b[0m             \u001b[0mloc\u001b[0m\u001b[0;34m,\u001b[0m \u001b[0mnew_index\u001b[0m \u001b[0;34m=\u001b[0m \u001b[0mself\u001b[0m\u001b[0;34m.\u001b[0m\u001b[0mindex\u001b[0m\u001b[0;34m.\u001b[0m\u001b[0mget_loc_level\u001b[0m\u001b[0;34m(\u001b[0m\u001b[0mkey\u001b[0m\u001b[0;34m,\u001b[0m \u001b[0mdrop_level\u001b[0m\u001b[0;34m=\u001b[0m\u001b[0mdrop_level\u001b[0m\u001b[0;34m)\u001b[0m\u001b[0;34m\u001b[0m\u001b[0;34m\u001b[0m\u001b[0m\n\u001b[1;32m   3481\u001b[0m         \u001b[0;32melse\u001b[0m\u001b[0;34m:\u001b[0m\u001b[0;34m\u001b[0m\u001b[0;34m\u001b[0m\u001b[0m\n\u001b[0;32m-> 3482\u001b[0;31m             \u001b[0mloc\u001b[0m \u001b[0;34m=\u001b[0m \u001b[0mself\u001b[0m\u001b[0;34m.\u001b[0m\u001b[0mindex\u001b[0m\u001b[0;34m.\u001b[0m\u001b[0mget_loc\u001b[0m\u001b[0;34m(\u001b[0m\u001b[0mkey\u001b[0m\u001b[0;34m)\u001b[0m\u001b[0;34m\u001b[0m\u001b[0;34m\u001b[0m\u001b[0m\n\u001b[0m\u001b[1;32m   3483\u001b[0m \u001b[0;34m\u001b[0m\u001b[0m\n\u001b[1;32m   3484\u001b[0m             \u001b[0;32mif\u001b[0m \u001b[0misinstance\u001b[0m\u001b[0;34m(\u001b[0m\u001b[0mloc\u001b[0m\u001b[0;34m,\u001b[0m \u001b[0mnp\u001b[0m\u001b[0;34m.\u001b[0m\u001b[0mndarray\u001b[0m\u001b[0;34m)\u001b[0m\u001b[0;34m:\u001b[0m\u001b[0;34m\u001b[0m\u001b[0;34m\u001b[0m\u001b[0m\n",
      "\u001b[0;32m~/.local/share/virtualenvs/covid19_analysis-ImUBmtTy/lib/python3.8/site-packages/pandas/core/indexes/range.py\u001b[0m in \u001b[0;36mget_loc\u001b[0;34m(self, key, method, tolerance)\u001b[0m\n\u001b[1;32m    352\u001b[0m                 \u001b[0;32mexcept\u001b[0m \u001b[0mValueError\u001b[0m \u001b[0;32mas\u001b[0m \u001b[0merr\u001b[0m\u001b[0;34m:\u001b[0m\u001b[0;34m\u001b[0m\u001b[0;34m\u001b[0m\u001b[0m\n\u001b[1;32m    353\u001b[0m                     \u001b[0;32mraise\u001b[0m \u001b[0mKeyError\u001b[0m\u001b[0;34m(\u001b[0m\u001b[0mkey\u001b[0m\u001b[0;34m)\u001b[0m \u001b[0;32mfrom\u001b[0m \u001b[0merr\u001b[0m\u001b[0;34m\u001b[0m\u001b[0;34m\u001b[0m\u001b[0m\n\u001b[0;32m--> 354\u001b[0;31m             \u001b[0;32mraise\u001b[0m \u001b[0mKeyError\u001b[0m\u001b[0;34m(\u001b[0m\u001b[0mkey\u001b[0m\u001b[0;34m)\u001b[0m\u001b[0;34m\u001b[0m\u001b[0;34m\u001b[0m\u001b[0m\n\u001b[0m\u001b[1;32m    355\u001b[0m         \u001b[0;32mreturn\u001b[0m \u001b[0msuper\u001b[0m\u001b[0;34m(\u001b[0m\u001b[0;34m)\u001b[0m\u001b[0;34m.\u001b[0m\u001b[0mget_loc\u001b[0m\u001b[0;34m(\u001b[0m\u001b[0mkey\u001b[0m\u001b[0;34m,\u001b[0m \u001b[0mmethod\u001b[0m\u001b[0;34m=\u001b[0m\u001b[0mmethod\u001b[0m\u001b[0;34m,\u001b[0m \u001b[0mtolerance\u001b[0m\u001b[0;34m=\u001b[0m\u001b[0mtolerance\u001b[0m\u001b[0;34m)\u001b[0m\u001b[0;34m\u001b[0m\u001b[0;34m\u001b[0m\u001b[0m\n\u001b[1;32m    356\u001b[0m \u001b[0;34m\u001b[0m\u001b[0m\n",
      "\u001b[0;31mKeyError\u001b[0m: 'malaysia'"
     ]
    }
   ],
   "source": [
    "daily_cases = []\n",
    "daily_deaths = []\n",
    "daily_recovered = []\n",
    "mortality_rate = []\n",
    "recovered_rate = []\n",
    "active_rate = []\n",
    "cases_per_million_pop = []\n",
    "\n",
    "def append_rate_data(index):\n",
    "    \"\"\" to append into list after calculation of\n",
    "            - mortality rate\n",
    "            - recovered rate\n",
    "            - active rate\n",
    "            - cases per 1mil population\n",
    "    \"\"\"\n",
    "    \n",
    "    # TODO: catch error for division with 0.0 (Not Working)\n",
    "  \n",
    "    mortality_rate.append(round((df.loc[df.index[index], 'Deaths'] / df.loc[df.index[index], 'Confirmed']) * 100, 2))\n",
    "    recovered_rate.append(round((df.loc[df.index[index], 'Recovered'] / df.loc[df.index[index], 'Confirmed']) * 100, 2))\n",
    "    active_rate.append(round((df.loc[df.index[index], 'Active'] / df.loc[df.index[index], 'Confirmed']) * 100, 2))\n",
    "    cases_per_million_pop.append(round((df.loc[df.index[index], 'Confirmed'] / pop_df.loc[COUNTRY_LOC, 'Pop.(\\'000)']) * 1000000, 0))    \n",
    "\n",
    "      \n",
    "for index, item in enumerate(df.index):\n",
    "    if item == df.index[0]:\n",
    "        new_case, new_death, new_recovered = df.loc[df.index[0], ['Confirmed', 'Deaths', 'Recovered']] \n",
    "        daily_cases.append(new_case)\n",
    "        daily_deaths.append(new_death)\n",
    "        daily_recovered.append(new_recovered)\n",
    "\n",
    "    else:\n",
    "        new_case, new_death, new_recovered = df.loc[df.index[index], ['Confirmed', 'Deaths', 'Recovered']] \\\n",
    "                                            - df.loc[df.index[index - 1], ['Confirmed', 'Deaths', 'Recovered']]\n",
    "        daily_cases.append(new_case)\n",
    "        daily_deaths.append(new_death)\n",
    "        daily_recovered.append(new_recovered)\n",
    "\n",
    "    df.loc[item, ['Daily Cases', 'Daily Deaths', 'Daily Recovered']] \\\n",
    "                  = daily_cases[index], daily_deaths[index], daily_recovered[index]\n",
    "\n",
    "# release unwanted objects from memory\n",
    "del daily_cases, daily_deaths, daily_recovered\n",
    "\n",
    "\n",
    "df['Mortality Rates'] = round(df['Deaths'].divide(df ['Confirmed']).fillna(0.0), 2)\n",
    "df['Recovered Rates'] = round(df['Recovered'].divide(df ['Confirmed']).fillna(0.0), 2)\n",
    "df['Active Rates'] = round(df['Active'].divide(df ['Confirmed']).fillna(0.0), 2)\n",
    "df['Cases per 1mil pop'] = round(df['Confirmed'] / pop_df.loc[COUNTRY_LOC, 'Pop.(\\'000)'] * 1000000, 2)   \n",
    "\n",
    "# TODO: add to df column\n",
    "\n",
    "df\n"
   ]
  },
  {
   "cell_type": "code",
   "execution_count": 124,
   "metadata": {
    "scrolled": true
   },
   "outputs": [
    {
     "output_type": "execute_result",
     "data": {
      "text/plain": "            Confirmed  Deaths  Recovered  Active  Daily Cases  Daily Deaths  \\\nDate                                                                          \n2020-07-28       8943     124       8607     212         39.0           0.0   \n2020-07-29       8956     124       8612     220         13.0           0.0   \n2020-07-30       8964     124       8617     223          8.0           0.0   \n2020-07-31       8976     125       8644     207         12.0           1.0   \n2020-08-01       8985     125       8647     213          9.0           0.0   \n2020-08-02       8999     125       8664     210         14.0           0.0   \n2020-08-03       9001     125       8668     208          2.0           0.0   \n\n            Daily Recovered  Mortality Rates  Recovered Rates  Active Rates  \nDate                                                                         \n2020-07-28              6.0             0.01             0.96          0.02  \n2020-07-29              5.0             0.01             0.96          0.02  \n2020-07-30              5.0             0.01             0.96          0.02  \n2020-07-31             27.0             0.01             0.96          0.02  \n2020-08-01              3.0             0.01             0.96          0.02  \n2020-08-02             17.0             0.01             0.96          0.02  \n2020-08-03              4.0             0.01             0.96          0.02  ",
      "text/html": "<div>\n<style scoped>\n    .dataframe tbody tr th:only-of-type {\n        vertical-align: middle;\n    }\n\n    .dataframe tbody tr th {\n        vertical-align: top;\n    }\n\n    .dataframe thead th {\n        text-align: right;\n    }\n</style>\n<table border=\"1\" class=\"dataframe\">\n  <thead>\n    <tr style=\"text-align: right;\">\n      <th></th>\n      <th>Confirmed</th>\n      <th>Deaths</th>\n      <th>Recovered</th>\n      <th>Active</th>\n      <th>Daily Cases</th>\n      <th>Daily Deaths</th>\n      <th>Daily Recovered</th>\n      <th>Mortality Rates</th>\n      <th>Recovered Rates</th>\n      <th>Active Rates</th>\n    </tr>\n    <tr>\n      <th>Date</th>\n      <th></th>\n      <th></th>\n      <th></th>\n      <th></th>\n      <th></th>\n      <th></th>\n      <th></th>\n      <th></th>\n      <th></th>\n      <th></th>\n    </tr>\n  </thead>\n  <tbody>\n    <tr>\n      <th>2020-07-28</th>\n      <td>8943</td>\n      <td>124</td>\n      <td>8607</td>\n      <td>212</td>\n      <td>39.0</td>\n      <td>0.0</td>\n      <td>6.0</td>\n      <td>0.01</td>\n      <td>0.96</td>\n      <td>0.02</td>\n    </tr>\n    <tr>\n      <th>2020-07-29</th>\n      <td>8956</td>\n      <td>124</td>\n      <td>8612</td>\n      <td>220</td>\n      <td>13.0</td>\n      <td>0.0</td>\n      <td>5.0</td>\n      <td>0.01</td>\n      <td>0.96</td>\n      <td>0.02</td>\n    </tr>\n    <tr>\n      <th>2020-07-30</th>\n      <td>8964</td>\n      <td>124</td>\n      <td>8617</td>\n      <td>223</td>\n      <td>8.0</td>\n      <td>0.0</td>\n      <td>5.0</td>\n      <td>0.01</td>\n      <td>0.96</td>\n      <td>0.02</td>\n    </tr>\n    <tr>\n      <th>2020-07-31</th>\n      <td>8976</td>\n      <td>125</td>\n      <td>8644</td>\n      <td>207</td>\n      <td>12.0</td>\n      <td>1.0</td>\n      <td>27.0</td>\n      <td>0.01</td>\n      <td>0.96</td>\n      <td>0.02</td>\n    </tr>\n    <tr>\n      <th>2020-08-01</th>\n      <td>8985</td>\n      <td>125</td>\n      <td>8647</td>\n      <td>213</td>\n      <td>9.0</td>\n      <td>0.0</td>\n      <td>3.0</td>\n      <td>0.01</td>\n      <td>0.96</td>\n      <td>0.02</td>\n    </tr>\n    <tr>\n      <th>2020-08-02</th>\n      <td>8999</td>\n      <td>125</td>\n      <td>8664</td>\n      <td>210</td>\n      <td>14.0</td>\n      <td>0.0</td>\n      <td>17.0</td>\n      <td>0.01</td>\n      <td>0.96</td>\n      <td>0.02</td>\n    </tr>\n    <tr>\n      <th>2020-08-03</th>\n      <td>9001</td>\n      <td>125</td>\n      <td>8668</td>\n      <td>208</td>\n      <td>2.0</td>\n      <td>0.0</td>\n      <td>4.0</td>\n      <td>0.01</td>\n      <td>0.96</td>\n      <td>0.02</td>\n    </tr>\n  </tbody>\n</table>\n</div>"
     },
     "metadata": {},
     "execution_count": 124
    }
   ],
   "source": [
    "# replace NaN to zero\n",
    "#df.fillna(0.0, inplace=True)\n",
    "df.tail(7)"
   ]
  },
  {
   "cell_type": "code",
   "execution_count": 125,
   "metadata": {},
   "outputs": [
    {
     "output_type": "execute_result",
     "data": {
      "text/plain": "Daily Cases        277.0\nDaily Deaths         8.0\nDaily Recovered    333.0\ndtype: float64"
     },
     "metadata": {},
     "execution_count": 125
    }
   ],
   "source": [
    "# Max Daily Record\n",
    "round(df[['Daily Cases', 'Daily Deaths', 'Daily Recovered']].max(), 2)"
   ]
  },
  {
   "cell_type": "code",
   "execution_count": 126,
   "metadata": {},
   "outputs": [
    {
     "output_type": "execute_result",
     "data": {
      "text/plain": "Daily Cases        46.16\nDaily Deaths        0.64\nDaily Recovered    44.45\ndtype: float64"
     },
     "metadata": {},
     "execution_count": 126
    }
   ],
   "source": [
    "round(df[['Daily Cases', 'Daily Deaths', 'Daily Recovered']].mean(), 2)"
   ]
  },
  {
   "cell_type": "code",
   "execution_count": 127,
   "metadata": {},
   "outputs": [
    {
     "output_type": "execute_result",
     "data": {
      "text/plain": "Confirmed          9001.00\nDeaths              125.00\nRecovered          8668.00\nActive              208.00\nDaily Cases           2.00\nDaily Deaths          0.00\nDaily Recovered       4.00\nMortality Rates       0.01\nRecovered Rates       0.96\nActive Rates          0.02\nName: 2020-08-03, dtype: float64"
     },
     "metadata": {},
     "execution_count": 127
    }
   ],
   "source": [
    "last_entry_date = df.index[len(df.index) - 1]\n",
    "df.loc[last_entry_date]"
   ]
  },
  {
   "cell_type": "code",
   "execution_count": null,
   "metadata": {},
   "outputs": [],
   "source": []
  }
 ],
 "metadata": {
  "kernelspec": {
   "display_name": "Python 3.8.5 64-bit ('covid19_analysis': pipenv)",
   "language": "python",
   "name": "python38564bitcovid19analysispipenvf5d08d121e804a9e97298d31ee73a5b4"
  },
  "language_info": {
   "codemirror_mode": {
    "name": "ipython",
    "version": 3
   },
   "file_extension": ".py",
   "mimetype": "text/x-python",
   "name": "python",
   "nbconvert_exporter": "python",
   "pygments_lexer": "ipython3",
   "version": "3.8.5-final"
  }
 },
 "nbformat": 4,
 "nbformat_minor": 2
}