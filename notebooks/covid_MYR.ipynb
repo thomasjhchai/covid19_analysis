{
 "cells": [
  {
   "cell_type": "markdown",
   "metadata": {},
   "source": [
    "# Covid-19 Daily Tracking\n"
   ]
  },
  {
   "cell_type": "code",
   "execution_count": 23,
   "metadata": {
    "tags": []
   },
   "outputs": [
    {
     "output_type": "stream",
     "name": "stdout",
     "text": "Exist\nRetrieving from current file....\n"
    }
   ],
   "source": [
    "import sys\n",
    "import os.path\n",
    "import requests\n",
    "import json\n",
    "from datetime import datetime \n",
    "import pandas as pd\n",
    "\n",
    "COUNTRY_LOC = 'Malaysia'\n",
    "API_URL = 'https://api.covid19api.com/total/country/' + COUNTRY_LOC\n",
    "API_WORLD = 'https://api.covid19api.com/world/total'\n",
    "COVID_LOCAL = '../data/covid_19_' + COUNTRY_LOC + '.json'\n",
    "\n",
    "start_date = '2021-02-01'\n",
    "today_date = datetime.today()\n",
    "url_param = {'from': start_date, 'to': str(today_date)[:10]}\n",
    "\n",
    "try:\n",
    "    api_request = requests.get(API_URL, params=url_param, timeout=30)\n",
    "\n",
    "    if os.path.isfile(COVID_LOCAL):\n",
    "        print('Exist')\n",
    "        t = os.path.getmtime(COVID_LOCAL)\n",
    "        file_date = (str(datetime.fromtimestamp(t)))[:10]\n",
    "\n",
    "        if file_date < str(today_date)[:10]:\n",
    "            if api_request.ok:\n",
    "                print('Outdated File. Updating new data from web.....')\n",
    "                with open(COVID_LOCAL, \"wb\") as file:\n",
    "                    file.write(api_request.content) \n",
    "                df = pd.read_json(COVID_LOCAL)\n",
    "                df.set_index('Date', inplace=True)\n",
    "            else:\n",
    "                print('Error: ', api_request.status_code)\n",
    "                print('Use existing file.....')\n",
    "                df = pd.read_json(COVID_LOCAL)\n",
    "                df.set_index('Date', inplace=True)\n",
    "        else:\n",
    "            print('Retrieving from current file....')\n",
    "            df = pd.read_json(COVID_LOCAL)\n",
    "            df.set_index('Date', inplace=True)\n",
    "        \n",
    "    else:\n",
    "        if api_request.ok:\n",
    "            print('Pulling data from web to new file....')\n",
    "            with open(COVID_LOCAL, \"wb\") as file:\n",
    "                file.write(api_request.content) \n",
    "            df = pd.read_json(COVID_LOCAL)\n",
    "            df.set_index('Date', inplace=True)\n",
    "        else:\n",
    "            print('Error: ', api_request.status_code)\n",
    "            print('No Data File exist....quiting')\n",
    "            sys.exit(0)\n",
    "\n",
    "except requests.exceptions.RequestException as e:\n",
    "    print('Server Request Failed :', e)\n",
    "    print('using existing file ....')\n",
    "    df = pd.read_json(COVID_LOCAL)\n",
    "    df.set_index('Date', inplace=True)\n",
    "\n",
    "\n"
   ]
  },
  {
   "cell_type": "code",
   "execution_count": 24,
   "metadata": {
    "tags": []
   },
   "outputs": [],
   "source": [
    "#r = requests.get('https://raw.githubusercontent.com/CSSEGISandData/COVID-19/master/csse_covid_19_data/csse_covid_19_time_series/time_series_covid19_confirmed_global.csv')\n",
    "\n",
    "cfm_df = pd.read_csv('https://raw.githubusercontent.com/CSSEGISandData/COVID-19/master/csse_covid_19_data/csse_covid_19_time_series/time_series_covid19_confirmed_global.csv')\n",
    "death_df = pd.read_csv('https://raw.githubusercontent.com/CSSEGISandData/COVID-19/master/csse_covid_19_data/csse_covid_19_time_series/time_series_covid19_deaths_global.csv')\n",
    "rec_df = pd.read_csv('https://raw.githubusercontent.com/CSSEGISandData/COVID-19/master/csse_covid_19_data/csse_covid_19_time_series/time_series_covid19_recovered_global.csv')\n",
    "\n",
    "cfm_df.drop(columns=['Province/State', 'Lat', 'Long'], inplace=True)\n",
    "cfm_df = cfm_df.groupby(['Country/Region']).sum().transpose()\n",
    "death_df.drop(columns=['Province/State', 'Lat', 'Long'], inplace=True)\n",
    "death_df = death_df.groupby(['Country/Region']).sum().transpose()\n",
    "rec_df.drop(columns=['Province/State', 'Lat', 'Long'], inplace=True)\n",
    "rec_df = rec_df.groupby(['Country/Region']).sum().transpose()\n",
    "\n",
    "for item in cfm_df.index:\n",
    "    df.loc[item, 'World Confirmed'] = cfm_df.loc[item].sum()\n",
    "    df.loc[item, 'World Deaths'] = death_df.loc[item].sum()\n",
    "    df.loc[item, 'World Recovered'] = rec_df.loc[item].sum()\n",
    "    "
   ]
  },
  {
   "cell_type": "code",
   "execution_count": 25,
   "metadata": {},
   "outputs": [
    {
     "output_type": "execute_result",
     "data": {
      "text/plain": "                            Country CountryCode Province City CityCode  Lat  \\\nDate                                                                          \n2020-01-22 00:00:00+00:00  Malaysia                                       0   \n2020-01-23 00:00:00+00:00  Malaysia                                       0   \n2020-01-24 00:00:00+00:00  Malaysia                                       0   \n2020-01-25 00:00:00+00:00  Malaysia                                       0   \n2020-01-26 00:00:00+00:00  Malaysia                                       0   \n...                             ...         ...      ...  ...      ...  ...   \n2020-08-01 00:00:00+00:00  Malaysia                                       0   \n2020-08-02 00:00:00+00:00  Malaysia                                       0   \n2020-08-03 00:00:00+00:00  Malaysia                                       0   \n2020-08-04 00:00:00+00:00  Malaysia                                       0   \n2020-08-05 00:00:00+00:00  Malaysia                                       0   \n\n                           Lon  Confirmed  Deaths  Recovered  Active  \\\nDate                                                                   \n2020-01-22 00:00:00+00:00    0          0       0          0       0   \n2020-01-23 00:00:00+00:00    0          0       0          0       0   \n2020-01-24 00:00:00+00:00    0          0       0          0       0   \n2020-01-25 00:00:00+00:00    0          3       0          0       3   \n2020-01-26 00:00:00+00:00    0          4       0          0       4   \n...                        ...        ...     ...        ...     ...   \n2020-08-01 00:00:00+00:00    0       8985     125       8647     213   \n2020-08-02 00:00:00+00:00    0       8999     125       8664     210   \n2020-08-03 00:00:00+00:00    0       9001     125       8668     208   \n2020-08-04 00:00:00+00:00    0       9002     125       8684     193   \n2020-08-05 00:00:00+00:00    0       9023     125       8702     196   \n\n                           World Confirmed  World Deaths  World Recovered  \nDate                                                                       \n2020-01-22 00:00:00+00:00            555.0          17.0             28.0  \n2020-01-23 00:00:00+00:00            654.0          18.0             30.0  \n2020-01-24 00:00:00+00:00            941.0          26.0             36.0  \n2020-01-25 00:00:00+00:00           1434.0          42.0             39.0  \n2020-01-26 00:00:00+00:00           2118.0          56.0             52.0  \n...                                    ...           ...              ...  \n2020-08-01 00:00:00+00:00       17850617.0      685113.0       10553585.0  \n2020-08-02 00:00:00+00:00       18079723.0      689417.0       10690555.0  \n2020-08-03 00:00:00+00:00       18282208.0      693754.0       10913000.0  \n2020-08-04 00:00:00+00:00       18540119.0      700708.0       11134735.0  \n2020-08-05 00:00:00+00:00       18810392.0      707666.0       11356275.0  \n\n[197 rows x 14 columns]",
      "text/html": "<div>\n<style scoped>\n    .dataframe tbody tr th:only-of-type {\n        vertical-align: middle;\n    }\n\n    .dataframe tbody tr th {\n        vertical-align: top;\n    }\n\n    .dataframe thead th {\n        text-align: right;\n    }\n</style>\n<table border=\"1\" class=\"dataframe\">\n  <thead>\n    <tr style=\"text-align: right;\">\n      <th></th>\n      <th>Country</th>\n      <th>CountryCode</th>\n      <th>Province</th>\n      <th>City</th>\n      <th>CityCode</th>\n      <th>Lat</th>\n      <th>Lon</th>\n      <th>Confirmed</th>\n      <th>Deaths</th>\n      <th>Recovered</th>\n      <th>Active</th>\n      <th>World Confirmed</th>\n      <th>World Deaths</th>\n      <th>World Recovered</th>\n    </tr>\n    <tr>\n      <th>Date</th>\n      <th></th>\n      <th></th>\n      <th></th>\n      <th></th>\n      <th></th>\n      <th></th>\n      <th></th>\n      <th></th>\n      <th></th>\n      <th></th>\n      <th></th>\n      <th></th>\n      <th></th>\n      <th></th>\n    </tr>\n  </thead>\n  <tbody>\n    <tr>\n      <th>2020-01-22 00:00:00+00:00</th>\n      <td>Malaysia</td>\n      <td></td>\n      <td></td>\n      <td></td>\n      <td></td>\n      <td>0</td>\n      <td>0</td>\n      <td>0</td>\n      <td>0</td>\n      <td>0</td>\n      <td>0</td>\n      <td>555.0</td>\n      <td>17.0</td>\n      <td>28.0</td>\n    </tr>\n    <tr>\n      <th>2020-01-23 00:00:00+00:00</th>\n      <td>Malaysia</td>\n      <td></td>\n      <td></td>\n      <td></td>\n      <td></td>\n      <td>0</td>\n      <td>0</td>\n      <td>0</td>\n      <td>0</td>\n      <td>0</td>\n      <td>0</td>\n      <td>654.0</td>\n      <td>18.0</td>\n      <td>30.0</td>\n    </tr>\n    <tr>\n      <th>2020-01-24 00:00:00+00:00</th>\n      <td>Malaysia</td>\n      <td></td>\n      <td></td>\n      <td></td>\n      <td></td>\n      <td>0</td>\n      <td>0</td>\n      <td>0</td>\n      <td>0</td>\n      <td>0</td>\n      <td>0</td>\n      <td>941.0</td>\n      <td>26.0</td>\n      <td>36.0</td>\n    </tr>\n    <tr>\n      <th>2020-01-25 00:00:00+00:00</th>\n      <td>Malaysia</td>\n      <td></td>\n      <td></td>\n      <td></td>\n      <td></td>\n      <td>0</td>\n      <td>0</td>\n      <td>3</td>\n      <td>0</td>\n      <td>0</td>\n      <td>3</td>\n      <td>1434.0</td>\n      <td>42.0</td>\n      <td>39.0</td>\n    </tr>\n    <tr>\n      <th>2020-01-26 00:00:00+00:00</th>\n      <td>Malaysia</td>\n      <td></td>\n      <td></td>\n      <td></td>\n      <td></td>\n      <td>0</td>\n      <td>0</td>\n      <td>4</td>\n      <td>0</td>\n      <td>0</td>\n      <td>4</td>\n      <td>2118.0</td>\n      <td>56.0</td>\n      <td>52.0</td>\n    </tr>\n    <tr>\n      <th>...</th>\n      <td>...</td>\n      <td>...</td>\n      <td>...</td>\n      <td>...</td>\n      <td>...</td>\n      <td>...</td>\n      <td>...</td>\n      <td>...</td>\n      <td>...</td>\n      <td>...</td>\n      <td>...</td>\n      <td>...</td>\n      <td>...</td>\n      <td>...</td>\n    </tr>\n    <tr>\n      <th>2020-08-01 00:00:00+00:00</th>\n      <td>Malaysia</td>\n      <td></td>\n      <td></td>\n      <td></td>\n      <td></td>\n      <td>0</td>\n      <td>0</td>\n      <td>8985</td>\n      <td>125</td>\n      <td>8647</td>\n      <td>213</td>\n      <td>17850617.0</td>\n      <td>685113.0</td>\n      <td>10553585.0</td>\n    </tr>\n    <tr>\n      <th>2020-08-02 00:00:00+00:00</th>\n      <td>Malaysia</td>\n      <td></td>\n      <td></td>\n      <td></td>\n      <td></td>\n      <td>0</td>\n      <td>0</td>\n      <td>8999</td>\n      <td>125</td>\n      <td>8664</td>\n      <td>210</td>\n      <td>18079723.0</td>\n      <td>689417.0</td>\n      <td>10690555.0</td>\n    </tr>\n    <tr>\n      <th>2020-08-03 00:00:00+00:00</th>\n      <td>Malaysia</td>\n      <td></td>\n      <td></td>\n      <td></td>\n      <td></td>\n      <td>0</td>\n      <td>0</td>\n      <td>9001</td>\n      <td>125</td>\n      <td>8668</td>\n      <td>208</td>\n      <td>18282208.0</td>\n      <td>693754.0</td>\n      <td>10913000.0</td>\n    </tr>\n    <tr>\n      <th>2020-08-04 00:00:00+00:00</th>\n      <td>Malaysia</td>\n      <td></td>\n      <td></td>\n      <td></td>\n      <td></td>\n      <td>0</td>\n      <td>0</td>\n      <td>9002</td>\n      <td>125</td>\n      <td>8684</td>\n      <td>193</td>\n      <td>18540119.0</td>\n      <td>700708.0</td>\n      <td>11134735.0</td>\n    </tr>\n    <tr>\n      <th>2020-08-05 00:00:00+00:00</th>\n      <td>Malaysia</td>\n      <td></td>\n      <td></td>\n      <td></td>\n      <td></td>\n      <td>0</td>\n      <td>0</td>\n      <td>9023</td>\n      <td>125</td>\n      <td>8702</td>\n      <td>196</td>\n      <td>18810392.0</td>\n      <td>707666.0</td>\n      <td>11356275.0</td>\n    </tr>\n  </tbody>\n</table>\n<p>197 rows × 14 columns</p>\n</div>"
     },
     "metadata": {},
     "execution_count": 25
    }
   ],
   "source": [
    "df"
   ]
  },
  {
   "cell_type": "code",
   "execution_count": 26,
   "metadata": {},
   "outputs": [],
   "source": [
    "# remove unwanted Columns\n",
    "df.drop(columns=['Country', 'CountryCode', 'Province', 'City', 'CityCode', 'Lat', \"Lon\"], inplace=True)"
   ]
  },
  {
   "cell_type": "code",
   "execution_count": 27,
   "metadata": {
    "tags": []
   },
   "outputs": [
    {
     "output_type": "execute_result",
     "data": {
      "text/plain": "            Confirmed  Deaths  Recovered  Active  World Confirmed  \\\nDate                                                                \n2020-01-22          0       0          0       0            555.0   \n2020-01-23          0       0          0       0            654.0   \n2020-01-24          0       0          0       0            941.0   \n2020-01-25          3       0          0       3           1434.0   \n2020-01-26          4       0          0       4           2118.0   \n...               ...     ...        ...     ...              ...   \n2020-08-01       8985     125       8647     213       17850617.0   \n2020-08-02       8999     125       8664     210       18079723.0   \n2020-08-03       9001     125       8668     208       18282208.0   \n2020-08-04       9002     125       8684     193       18540119.0   \n2020-08-05       9023     125       8702     196       18810392.0   \n\n            World Deaths  World Recovered  \nDate                                       \n2020-01-22          17.0             28.0  \n2020-01-23          18.0             30.0  \n2020-01-24          26.0             36.0  \n2020-01-25          42.0             39.0  \n2020-01-26          56.0             52.0  \n...                  ...              ...  \n2020-08-01      685113.0       10553585.0  \n2020-08-02      689417.0       10690555.0  \n2020-08-03      693754.0       10913000.0  \n2020-08-04      700708.0       11134735.0  \n2020-08-05      707666.0       11356275.0  \n\n[197 rows x 7 columns]",
      "text/html": "<div>\n<style scoped>\n    .dataframe tbody tr th:only-of-type {\n        vertical-align: middle;\n    }\n\n    .dataframe tbody tr th {\n        vertical-align: top;\n    }\n\n    .dataframe thead th {\n        text-align: right;\n    }\n</style>\n<table border=\"1\" class=\"dataframe\">\n  <thead>\n    <tr style=\"text-align: right;\">\n      <th></th>\n      <th>Confirmed</th>\n      <th>Deaths</th>\n      <th>Recovered</th>\n      <th>Active</th>\n      <th>World Confirmed</th>\n      <th>World Deaths</th>\n      <th>World Recovered</th>\n    </tr>\n    <tr>\n      <th>Date</th>\n      <th></th>\n      <th></th>\n      <th></th>\n      <th></th>\n      <th></th>\n      <th></th>\n      <th></th>\n    </tr>\n  </thead>\n  <tbody>\n    <tr>\n      <th>2020-01-22</th>\n      <td>0</td>\n      <td>0</td>\n      <td>0</td>\n      <td>0</td>\n      <td>555.0</td>\n      <td>17.0</td>\n      <td>28.0</td>\n    </tr>\n    <tr>\n      <th>2020-01-23</th>\n      <td>0</td>\n      <td>0</td>\n      <td>0</td>\n      <td>0</td>\n      <td>654.0</td>\n      <td>18.0</td>\n      <td>30.0</td>\n    </tr>\n    <tr>\n      <th>2020-01-24</th>\n      <td>0</td>\n      <td>0</td>\n      <td>0</td>\n      <td>0</td>\n      <td>941.0</td>\n      <td>26.0</td>\n      <td>36.0</td>\n    </tr>\n    <tr>\n      <th>2020-01-25</th>\n      <td>3</td>\n      <td>0</td>\n      <td>0</td>\n      <td>3</td>\n      <td>1434.0</td>\n      <td>42.0</td>\n      <td>39.0</td>\n    </tr>\n    <tr>\n      <th>2020-01-26</th>\n      <td>4</td>\n      <td>0</td>\n      <td>0</td>\n      <td>4</td>\n      <td>2118.0</td>\n      <td>56.0</td>\n      <td>52.0</td>\n    </tr>\n    <tr>\n      <th>...</th>\n      <td>...</td>\n      <td>...</td>\n      <td>...</td>\n      <td>...</td>\n      <td>...</td>\n      <td>...</td>\n      <td>...</td>\n    </tr>\n    <tr>\n      <th>2020-08-01</th>\n      <td>8985</td>\n      <td>125</td>\n      <td>8647</td>\n      <td>213</td>\n      <td>17850617.0</td>\n      <td>685113.0</td>\n      <td>10553585.0</td>\n    </tr>\n    <tr>\n      <th>2020-08-02</th>\n      <td>8999</td>\n      <td>125</td>\n      <td>8664</td>\n      <td>210</td>\n      <td>18079723.0</td>\n      <td>689417.0</td>\n      <td>10690555.0</td>\n    </tr>\n    <tr>\n      <th>2020-08-03</th>\n      <td>9001</td>\n      <td>125</td>\n      <td>8668</td>\n      <td>208</td>\n      <td>18282208.0</td>\n      <td>693754.0</td>\n      <td>10913000.0</td>\n    </tr>\n    <tr>\n      <th>2020-08-04</th>\n      <td>9002</td>\n      <td>125</td>\n      <td>8684</td>\n      <td>193</td>\n      <td>18540119.0</td>\n      <td>700708.0</td>\n      <td>11134735.0</td>\n    </tr>\n    <tr>\n      <th>2020-08-05</th>\n      <td>9023</td>\n      <td>125</td>\n      <td>8702</td>\n      <td>196</td>\n      <td>18810392.0</td>\n      <td>707666.0</td>\n      <td>11356275.0</td>\n    </tr>\n  </tbody>\n</table>\n<p>197 rows × 7 columns</p>\n</div>"
     },
     "metadata": {},
     "execution_count": 27
    }
   ],
   "source": [
    "# rename columns date to strip of time info\n",
    "for item in df.index:\n",
    "    df.rename(index={item: str(item)[:10]}, inplace=True)\n",
    "df"
   ]
  },
  {
   "cell_type": "code",
   "execution_count": 28,
   "metadata": {},
   "outputs": [
    {
     "output_type": "execute_result",
     "data": {
      "text/plain": "                           Pop.('000)\nCountry                              \nBurundi                      11891000\nComoros                        870000\nDjibouti                       988000\nEritrea                       3546000\nEthiopia                    114964000\n...                               ...\nBermuda                         62000\nCanada                       37742000\nGreenland                       57000\nSaint-Pierre-and-Miquelon        6000\nUnited-States               331003000\n\n[233 rows x 1 columns]",
      "text/html": "<div>\n<style scoped>\n    .dataframe tbody tr th:only-of-type {\n        vertical-align: middle;\n    }\n\n    .dataframe tbody tr th {\n        vertical-align: top;\n    }\n\n    .dataframe thead th {\n        text-align: right;\n    }\n</style>\n<table border=\"1\" class=\"dataframe\">\n  <thead>\n    <tr style=\"text-align: right;\">\n      <th></th>\n      <th>Pop.('000)</th>\n    </tr>\n    <tr>\n      <th>Country</th>\n      <th></th>\n    </tr>\n  </thead>\n  <tbody>\n    <tr>\n      <th>Burundi</th>\n      <td>11891000</td>\n    </tr>\n    <tr>\n      <th>Comoros</th>\n      <td>870000</td>\n    </tr>\n    <tr>\n      <th>Djibouti</th>\n      <td>988000</td>\n    </tr>\n    <tr>\n      <th>Eritrea</th>\n      <td>3546000</td>\n    </tr>\n    <tr>\n      <th>Ethiopia</th>\n      <td>114964000</td>\n    </tr>\n    <tr>\n      <th>...</th>\n      <td>...</td>\n    </tr>\n    <tr>\n      <th>Bermuda</th>\n      <td>62000</td>\n    </tr>\n    <tr>\n      <th>Canada</th>\n      <td>37742000</td>\n    </tr>\n    <tr>\n      <th>Greenland</th>\n      <td>57000</td>\n    </tr>\n    <tr>\n      <th>Saint-Pierre-and-Miquelon</th>\n      <td>6000</td>\n    </tr>\n    <tr>\n      <th>United-States</th>\n      <td>331003000</td>\n    </tr>\n  </tbody>\n</table>\n<p>233 rows × 1 columns</p>\n</div>"
     },
     "metadata": {},
     "execution_count": 28
    }
   ],
   "source": [
    "# Population by Country data pulled from UN [source: https://population.un.org/wpp/Download/Standard/Population/] edited to conform to country's name\n",
    "pop_df = pd.read_csv('../data/population.csv')\n",
    "\"\"\"\n",
    "for index, item in enumerate(pop_df['Pop.(\\'000)']):\n",
    "    # strip empty spaces and convert to integer (in millions)\n",
    "    pop_df.loc[index, 'Pop.(\\'000)'] = int(item.replace(' ', ''))\n",
    "    pop_df.loc[index, 'Pop.(\\'000)'] = pop_df.loc[index, 'Pop.(\\'000)'] * 1000 \n",
    "\n",
    "    # rename Country's name to conform to covid's dataframe\n",
    "    pop_df.loc[index, 'Country'] = pop_df.loc[index, 'Country'].lower().replace(' ', '-')\n",
    "\"\"\"\n",
    "pop_df['Country'] = pop_df['Country'].str.replace(' ', '-') #.str.lower()\n",
    "pop_df['Pop.(\\'000)'] = pop_df['Pop.(\\'000)'].str.replace(' ', '').astype(int) \\\n",
    " * 1000 \n",
    "pop_df.set_index('Country', inplace=True)\n",
    "pop_df"
   ]
  },
  {
   "cell_type": "markdown",
   "metadata": {},
   "source": [
    "## Data Crunching to form new dataset\n"
   ]
  },
  {
   "cell_type": "code",
   "execution_count": 29,
   "metadata": {
    "tags": []
   },
   "outputs": [
    {
     "output_type": "execute_result",
     "data": {
      "text/plain": "            Confirmed  Deaths  Recovered  Active  World Confirmed  \\\nDate                                                                \n2020-01-22          0       0          0       0            555.0   \n2020-01-23          0       0          0       0            654.0   \n2020-01-24          0       0          0       0            941.0   \n2020-01-25          3       0          0       3           1434.0   \n2020-01-26          4       0          0       4           2118.0   \n...               ...     ...        ...     ...              ...   \n2020-08-01       8985     125       8647     213       17850617.0   \n2020-08-02       8999     125       8664     210       18079723.0   \n2020-08-03       9001     125       8668     208       18282208.0   \n2020-08-04       9002     125       8684     193       18540119.0   \n2020-08-05       9023     125       8702     196       18810392.0   \n\n            World Deaths  World Recovered  Daily Cases  Daily Deaths  \\\nDate                                                                   \n2020-01-22          17.0             28.0            0             0   \n2020-01-23          18.0             30.0            0             0   \n2020-01-24          26.0             36.0            0             0   \n2020-01-25          42.0             39.0            3             0   \n2020-01-26          56.0             52.0            1             0   \n...                  ...              ...          ...           ...   \n2020-08-01      685113.0       10553585.0            9             0   \n2020-08-02      689417.0       10690555.0           14             0   \n2020-08-03      693754.0       10913000.0            2             0   \n2020-08-04      700708.0       11134735.0            1             0   \n2020-08-05      707666.0       11356275.0           21             0   \n\n            Daily Recovered  Mortality Rates  Recovered Rates  Active Rates  \\\nDate                                                                          \n2020-01-22                0             0.00             0.00          0.00   \n2020-01-23                0             0.00             0.00          0.00   \n2020-01-24                0             0.00             0.00          0.00   \n2020-01-25                0             0.00             0.00        100.00   \n2020-01-26                0             0.00             0.00        100.00   \n...                     ...              ...              ...           ...   \n2020-08-01                3             1.39            96.24          2.37   \n2020-08-02               17             1.39            96.28          2.33   \n2020-08-03                4             1.39            96.30          2.31   \n2020-08-04               16             1.39            96.47          2.14   \n2020-08-05               18             1.39            96.44          2.17   \n\n            Cases per 1mil pop  \nDate                            \n2020-01-22                   0  \n2020-01-23                   0  \n2020-01-24                   0  \n2020-01-25                   0  \n2020-01-26                   0  \n...                        ...  \n2020-08-01                 277  \n2020-08-02                 278  \n2020-08-03                 278  \n2020-08-04                 278  \n2020-08-05                 278  \n\n[197 rows x 14 columns]",
      "text/html": "<div>\n<style scoped>\n    .dataframe tbody tr th:only-of-type {\n        vertical-align: middle;\n    }\n\n    .dataframe tbody tr th {\n        vertical-align: top;\n    }\n\n    .dataframe thead th {\n        text-align: right;\n    }\n</style>\n<table border=\"1\" class=\"dataframe\">\n  <thead>\n    <tr style=\"text-align: right;\">\n      <th></th>\n      <th>Confirmed</th>\n      <th>Deaths</th>\n      <th>Recovered</th>\n      <th>Active</th>\n      <th>World Confirmed</th>\n      <th>World Deaths</th>\n      <th>World Recovered</th>\n      <th>Daily Cases</th>\n      <th>Daily Deaths</th>\n      <th>Daily Recovered</th>\n      <th>Mortality Rates</th>\n      <th>Recovered Rates</th>\n      <th>Active Rates</th>\n      <th>Cases per 1mil pop</th>\n    </tr>\n    <tr>\n      <th>Date</th>\n      <th></th>\n      <th></th>\n      <th></th>\n      <th></th>\n      <th></th>\n      <th></th>\n      <th></th>\n      <th></th>\n      <th></th>\n      <th></th>\n      <th></th>\n      <th></th>\n      <th></th>\n      <th></th>\n    </tr>\n  </thead>\n  <tbody>\n    <tr>\n      <th>2020-01-22</th>\n      <td>0</td>\n      <td>0</td>\n      <td>0</td>\n      <td>0</td>\n      <td>555.0</td>\n      <td>17.0</td>\n      <td>28.0</td>\n      <td>0</td>\n      <td>0</td>\n      <td>0</td>\n      <td>0.00</td>\n      <td>0.00</td>\n      <td>0.00</td>\n      <td>0</td>\n    </tr>\n    <tr>\n      <th>2020-01-23</th>\n      <td>0</td>\n      <td>0</td>\n      <td>0</td>\n      <td>0</td>\n      <td>654.0</td>\n      <td>18.0</td>\n      <td>30.0</td>\n      <td>0</td>\n      <td>0</td>\n      <td>0</td>\n      <td>0.00</td>\n      <td>0.00</td>\n      <td>0.00</td>\n      <td>0</td>\n    </tr>\n    <tr>\n      <th>2020-01-24</th>\n      <td>0</td>\n      <td>0</td>\n      <td>0</td>\n      <td>0</td>\n      <td>941.0</td>\n      <td>26.0</td>\n      <td>36.0</td>\n      <td>0</td>\n      <td>0</td>\n      <td>0</td>\n      <td>0.00</td>\n      <td>0.00</td>\n      <td>0.00</td>\n      <td>0</td>\n    </tr>\n    <tr>\n      <th>2020-01-25</th>\n      <td>3</td>\n      <td>0</td>\n      <td>0</td>\n      <td>3</td>\n      <td>1434.0</td>\n      <td>42.0</td>\n      <td>39.0</td>\n      <td>3</td>\n      <td>0</td>\n      <td>0</td>\n      <td>0.00</td>\n      <td>0.00</td>\n      <td>100.00</td>\n      <td>0</td>\n    </tr>\n    <tr>\n      <th>2020-01-26</th>\n      <td>4</td>\n      <td>0</td>\n      <td>0</td>\n      <td>4</td>\n      <td>2118.0</td>\n      <td>56.0</td>\n      <td>52.0</td>\n      <td>1</td>\n      <td>0</td>\n      <td>0</td>\n      <td>0.00</td>\n      <td>0.00</td>\n      <td>100.00</td>\n      <td>0</td>\n    </tr>\n    <tr>\n      <th>...</th>\n      <td>...</td>\n      <td>...</td>\n      <td>...</td>\n      <td>...</td>\n      <td>...</td>\n      <td>...</td>\n      <td>...</td>\n      <td>...</td>\n      <td>...</td>\n      <td>...</td>\n      <td>...</td>\n      <td>...</td>\n      <td>...</td>\n      <td>...</td>\n    </tr>\n    <tr>\n      <th>2020-08-01</th>\n      <td>8985</td>\n      <td>125</td>\n      <td>8647</td>\n      <td>213</td>\n      <td>17850617.0</td>\n      <td>685113.0</td>\n      <td>10553585.0</td>\n      <td>9</td>\n      <td>0</td>\n      <td>3</td>\n      <td>1.39</td>\n      <td>96.24</td>\n      <td>2.37</td>\n      <td>277</td>\n    </tr>\n    <tr>\n      <th>2020-08-02</th>\n      <td>8999</td>\n      <td>125</td>\n      <td>8664</td>\n      <td>210</td>\n      <td>18079723.0</td>\n      <td>689417.0</td>\n      <td>10690555.0</td>\n      <td>14</td>\n      <td>0</td>\n      <td>17</td>\n      <td>1.39</td>\n      <td>96.28</td>\n      <td>2.33</td>\n      <td>278</td>\n    </tr>\n    <tr>\n      <th>2020-08-03</th>\n      <td>9001</td>\n      <td>125</td>\n      <td>8668</td>\n      <td>208</td>\n      <td>18282208.0</td>\n      <td>693754.0</td>\n      <td>10913000.0</td>\n      <td>2</td>\n      <td>0</td>\n      <td>4</td>\n      <td>1.39</td>\n      <td>96.30</td>\n      <td>2.31</td>\n      <td>278</td>\n    </tr>\n    <tr>\n      <th>2020-08-04</th>\n      <td>9002</td>\n      <td>125</td>\n      <td>8684</td>\n      <td>193</td>\n      <td>18540119.0</td>\n      <td>700708.0</td>\n      <td>11134735.0</td>\n      <td>1</td>\n      <td>0</td>\n      <td>16</td>\n      <td>1.39</td>\n      <td>96.47</td>\n      <td>2.14</td>\n      <td>278</td>\n    </tr>\n    <tr>\n      <th>2020-08-05</th>\n      <td>9023</td>\n      <td>125</td>\n      <td>8702</td>\n      <td>196</td>\n      <td>18810392.0</td>\n      <td>707666.0</td>\n      <td>11356275.0</td>\n      <td>21</td>\n      <td>0</td>\n      <td>18</td>\n      <td>1.39</td>\n      <td>96.44</td>\n      <td>2.17</td>\n      <td>278</td>\n    </tr>\n  </tbody>\n</table>\n<p>197 rows × 14 columns</p>\n</div>"
     },
     "metadata": {},
     "execution_count": 29
    }
   ],
   "source": [
    "daily_cases = []\n",
    "daily_deaths = []\n",
    "daily_recovered = []\n",
    "\n",
    "\"\"\" OBSOLETE - REFACTOR\n",
    "\n",
    "def append_rate_data(index):\n",
    "  \n",
    "    mortality_rate.append(round((df.loc[df.index[index], 'Deaths'] / df.loc[df.index[index], 'Confirmed']) * 100, 2))\n",
    "    recovered_rate.append(round((df.loc[df.index[index], 'Recovered'] / df.loc[df.index[index], 'Confirmed']) * 100, 2))\n",
    "    active_rate.append(round((df.loc[df.index[index], 'Active'] / df.loc[df.index[index], 'Confirmed']) * 100, 2))\n",
    "    cases_per_million_pop.append(round((df.loc[df.index[index], 'Confirmed'] / pop_df.loc[COUNTRY_LOC, 'Pop.(\\'000)']) * 1000000, 0))    \n",
    "\"\"\"\n",
    "      \n",
    "for index, item in enumerate(df.index):\n",
    "    if item == df.index[0]:\n",
    "        new_case, new_death, new_recovered = df.loc[df.index[0], ['Confirmed', 'Deaths', 'Recovered']] \n",
    "        daily_cases.append(new_case)\n",
    "        daily_deaths.append(new_death)\n",
    "        daily_recovered.append(new_recovered)\n",
    "\n",
    "    else:\n",
    "        new_case, new_death, new_recovered = df.loc[df.index[index], ['Confirmed', 'Deaths', 'Recovered']] \\\n",
    "                                            - df.loc[df.index[index - 1], ['Confirmed', 'Deaths', 'Recovered']]\n",
    "        daily_cases.append(new_case)\n",
    "        daily_deaths.append(new_death)\n",
    "        daily_recovered.append(new_recovered)\n",
    "\n",
    "    df.loc[item, ['Daily Cases', 'Daily Deaths', 'Daily Recovered']] \\\n",
    "                  = daily_cases[index], daily_deaths[index], daily_recovered[index]\n",
    "\n",
    "# release unwanted objects from memory\n",
    "del daily_cases, daily_deaths, daily_recovered\n",
    "\n",
    "\n",
    "df['Mortality Rates'] = round(df['Deaths'].divide(df ['Confirmed']).fillna(0.0), 4) * 100\n",
    "df['Recovered Rates'] = round(df['Recovered'].divide(df ['Confirmed']).fillna(0.0), 4) * 100\n",
    "df['Active Rates'] = round(df['Active'].divide(df ['Confirmed']).fillna(0.0), 4) * 100\n",
    "df['Cases per 1mil pop'] = ((df['Confirmed'] / pop_df.loc[COUNTRY_LOC, 'Pop.(\\'000)']) * 1000000).astype(int)\n",
    "df[['Daily Cases', 'Daily Deaths', 'Daily Recovered']] = df[['Daily Cases', 'Daily Deaths', 'Daily Recovered']].astype(int)\n",
    "\n",
    "\n",
    "df\n"
   ]
  },
  {
   "cell_type": "code",
   "execution_count": 30,
   "metadata": {
    "scrolled": true
   },
   "outputs": [
    {
     "output_type": "execute_result",
     "data": {
      "text/plain": "            Confirmed  Deaths  Recovered  Active  World Confirmed  \\\nDate                                                                \n2020-07-30       8964     124       8617     223       17309805.0   \n2020-07-31       8976     125       8644     207       17599905.0   \n2020-08-01       8985     125       8647     213       17850617.0   \n2020-08-02       8999     125       8664     210       18079723.0   \n2020-08-03       9001     125       8668     208       18282208.0   \n2020-08-04       9002     125       8684     193       18540119.0   \n2020-08-05       9023     125       8702     196       18810392.0   \n\n            World Deaths  World Recovered  Daily Cases  Daily Deaths  \\\nDate                                                                   \n2020-07-30      673244.0       10170650.0            8             0   \n2020-07-31      679556.0       10369140.0           12             1   \n2020-08-01      685113.0       10553585.0            9             0   \n2020-08-02      689417.0       10690555.0           14             0   \n2020-08-03      693754.0       10913000.0            2             0   \n2020-08-04      700708.0       11134735.0            1             0   \n2020-08-05      707666.0       11356275.0           21             0   \n\n            Daily Recovered  Mortality Rates  Recovered Rates  Active Rates  \\\nDate                                                                          \n2020-07-30                5             1.38            96.13          2.49   \n2020-07-31               27             1.39            96.30          2.31   \n2020-08-01                3             1.39            96.24          2.37   \n2020-08-02               17             1.39            96.28          2.33   \n2020-08-03                4             1.39            96.30          2.31   \n2020-08-04               16             1.39            96.47          2.14   \n2020-08-05               18             1.39            96.44          2.17   \n\n            Cases per 1mil pop  \nDate                            \n2020-07-30                 276  \n2020-07-31                 277  \n2020-08-01                 277  \n2020-08-02                 278  \n2020-08-03                 278  \n2020-08-04                 278  \n2020-08-05                 278  ",
      "text/html": "<div>\n<style scoped>\n    .dataframe tbody tr th:only-of-type {\n        vertical-align: middle;\n    }\n\n    .dataframe tbody tr th {\n        vertical-align: top;\n    }\n\n    .dataframe thead th {\n        text-align: right;\n    }\n</style>\n<table border=\"1\" class=\"dataframe\">\n  <thead>\n    <tr style=\"text-align: right;\">\n      <th></th>\n      <th>Confirmed</th>\n      <th>Deaths</th>\n      <th>Recovered</th>\n      <th>Active</th>\n      <th>World Confirmed</th>\n      <th>World Deaths</th>\n      <th>World Recovered</th>\n      <th>Daily Cases</th>\n      <th>Daily Deaths</th>\n      <th>Daily Recovered</th>\n      <th>Mortality Rates</th>\n      <th>Recovered Rates</th>\n      <th>Active Rates</th>\n      <th>Cases per 1mil pop</th>\n    </tr>\n    <tr>\n      <th>Date</th>\n      <th></th>\n      <th></th>\n      <th></th>\n      <th></th>\n      <th></th>\n      <th></th>\n      <th></th>\n      <th></th>\n      <th></th>\n      <th></th>\n      <th></th>\n      <th></th>\n      <th></th>\n      <th></th>\n    </tr>\n  </thead>\n  <tbody>\n    <tr>\n      <th>2020-07-30</th>\n      <td>8964</td>\n      <td>124</td>\n      <td>8617</td>\n      <td>223</td>\n      <td>17309805.0</td>\n      <td>673244.0</td>\n      <td>10170650.0</td>\n      <td>8</td>\n      <td>0</td>\n      <td>5</td>\n      <td>1.38</td>\n      <td>96.13</td>\n      <td>2.49</td>\n      <td>276</td>\n    </tr>\n    <tr>\n      <th>2020-07-31</th>\n      <td>8976</td>\n      <td>125</td>\n      <td>8644</td>\n      <td>207</td>\n      <td>17599905.0</td>\n      <td>679556.0</td>\n      <td>10369140.0</td>\n      <td>12</td>\n      <td>1</td>\n      <td>27</td>\n      <td>1.39</td>\n      <td>96.30</td>\n      <td>2.31</td>\n      <td>277</td>\n    </tr>\n    <tr>\n      <th>2020-08-01</th>\n      <td>8985</td>\n      <td>125</td>\n      <td>8647</td>\n      <td>213</td>\n      <td>17850617.0</td>\n      <td>685113.0</td>\n      <td>10553585.0</td>\n      <td>9</td>\n      <td>0</td>\n      <td>3</td>\n      <td>1.39</td>\n      <td>96.24</td>\n      <td>2.37</td>\n      <td>277</td>\n    </tr>\n    <tr>\n      <th>2020-08-02</th>\n      <td>8999</td>\n      <td>125</td>\n      <td>8664</td>\n      <td>210</td>\n      <td>18079723.0</td>\n      <td>689417.0</td>\n      <td>10690555.0</td>\n      <td>14</td>\n      <td>0</td>\n      <td>17</td>\n      <td>1.39</td>\n      <td>96.28</td>\n      <td>2.33</td>\n      <td>278</td>\n    </tr>\n    <tr>\n      <th>2020-08-03</th>\n      <td>9001</td>\n      <td>125</td>\n      <td>8668</td>\n      <td>208</td>\n      <td>18282208.0</td>\n      <td>693754.0</td>\n      <td>10913000.0</td>\n      <td>2</td>\n      <td>0</td>\n      <td>4</td>\n      <td>1.39</td>\n      <td>96.30</td>\n      <td>2.31</td>\n      <td>278</td>\n    </tr>\n    <tr>\n      <th>2020-08-04</th>\n      <td>9002</td>\n      <td>125</td>\n      <td>8684</td>\n      <td>193</td>\n      <td>18540119.0</td>\n      <td>700708.0</td>\n      <td>11134735.0</td>\n      <td>1</td>\n      <td>0</td>\n      <td>16</td>\n      <td>1.39</td>\n      <td>96.47</td>\n      <td>2.14</td>\n      <td>278</td>\n    </tr>\n    <tr>\n      <th>2020-08-05</th>\n      <td>9023</td>\n      <td>125</td>\n      <td>8702</td>\n      <td>196</td>\n      <td>18810392.0</td>\n      <td>707666.0</td>\n      <td>11356275.0</td>\n      <td>21</td>\n      <td>0</td>\n      <td>18</td>\n      <td>1.39</td>\n      <td>96.44</td>\n      <td>2.17</td>\n      <td>278</td>\n    </tr>\n  </tbody>\n</table>\n</div>"
     },
     "metadata": {},
     "execution_count": 30
    }
   ],
   "source": [
    "# replace NaN to zero\n",
    "#df.fillna(0.0, inplace=True)\n",
    "df.tail(7)"
   ]
  },
  {
   "cell_type": "code",
   "execution_count": 31,
   "metadata": {},
   "outputs": [
    {
     "output_type": "execute_result",
     "data": {
      "text/plain": "Daily Cases        277\nDaily Deaths         8\nDaily Recovered    333\ndtype: int64"
     },
     "metadata": {},
     "execution_count": 31
    }
   ],
   "source": [
    "# Max Daily Record\n",
    "round(df[['Daily Cases', 'Daily Deaths', 'Daily Recovered']].max(), 2)"
   ]
  },
  {
   "cell_type": "code",
   "execution_count": 32,
   "metadata": {},
   "outputs": [
    {
     "output_type": "execute_result",
     "data": {
      "text/plain": "Daily Cases        45.80\nDaily Deaths        0.63\nDaily Recovered    44.17\ndtype: float64"
     },
     "metadata": {},
     "execution_count": 32
    }
   ],
   "source": [
    "round(df[['Daily Cases', 'Daily Deaths', 'Daily Recovered']].mean(), 2)"
   ]
  },
  {
   "cell_type": "code",
   "execution_count": 33,
   "metadata": {},
   "outputs": [
    {
     "output_type": "execute_result",
     "data": {
      "text/plain": "Confirmed                 9023.00\nDeaths                     125.00\nRecovered                 8702.00\nActive                     196.00\nWorld Confirmed       18810392.00\nWorld Deaths            707666.00\nWorld Recovered       11356275.00\nDaily Cases                 21.00\nDaily Deaths                 0.00\nDaily Recovered             18.00\nMortality Rates              1.39\nRecovered Rates             96.44\nActive Rates                 2.17\nCases per 1mil pop         278.00\nName: 2020-08-05, dtype: float64"
     },
     "metadata": {},
     "execution_count": 33
    }
   ],
   "source": [
    "last_entry_date = df.index[len(df.index) - 1]\n",
    "df.loc[last_entry_date]"
   ]
  },
  {
   "cell_type": "code",
   "execution_count": null,
   "metadata": {},
   "outputs": [],
   "source": []
  },
  {
   "cell_type": "code",
   "execution_count": null,
   "metadata": {},
   "outputs": [],
   "source": []
  }
 ],
 "metadata": {
  "kernelspec": {
   "display_name": "Python 3.8.5 64-bit ('covid19_analysis': pipenv)",
   "language": "python",
   "name": "python38564bitcovid19analysispipenvf5d08d121e804a9e97298d31ee73a5b4"
  },
  "language_info": {
   "codemirror_mode": {
    "name": "ipython",
    "version": 3
   },
   "file_extension": ".py",
   "mimetype": "text/x-python",
   "name": "python",
   "nbconvert_exporter": "python",
   "pygments_lexer": "ipython3",
   "version": "3.8.5-final"
  }
 },
 "nbformat": 4,
 "nbformat_minor": 2
}